{
 "cells": [
  {
   "cell_type": "markdown",
   "metadata": {},
   "source": [
    "Felix Singerman - 7970742\n",
    "# Image Labelling with Neural Networks"
   ]
  },
  {
   "cell_type": "markdown",
   "metadata": {},
   "source": [
    "We will use the Extended Outex texture dataset from the University of Oulu and LAGIS- FRE CNRS which can be downloaded from http://lagis-vi.univ-lille1.fr/datasets/outex.html. Using an archive called Outex TC 00030.tar.gz. This archive contains colour images of 68 different texture classes. There are 10, 880 testing images and 1, 360 training images. There are two text files which provide a label for each images. We will however use the test images for training and train images for testing. We must use Keras with the tensorflow backend for this assignment. "
   ]
  },
  {
   "cell_type": "markdown",
   "metadata": {},
   "source": [
    "### Getting Started"
   ]
  },
  {
   "cell_type": "markdown",
   "metadata": {},
   "source": [
    "We will organize the images suitably for tf.keras.preprocessing."
   ]
  },
  {
   "cell_type": "code",
   "execution_count": 2,
   "metadata": {},
   "outputs": [
    {
     "name": "stderr",
     "output_type": "stream",
     "text": [
      "/Users/FLSingerman/anaconda2/envs/python3/lib/python3.6/site-packages/h5py/__init__.py:36: FutureWarning: Conversion of the second argument of issubdtype from `float` to `np.floating` is deprecated. In future, it will be treated as `np.float64 == np.dtype(float).type`.\n",
      "  from ._conv import register_converters as _register_converters\n",
      "Using TensorFlow backend.\n"
     ]
    },
    {
     "name": "stdout",
     "output_type": "stream",
     "text": [
      "Found 10880 images belonging to 68 classes.\n",
      "Found 1360 images belonging to 68 classes.\n",
      "Found 10880 images belonging to 68 classes.\n",
      "Found 1360 images belonging to 68 classes.\n"
     ]
    }
   ],
   "source": [
    "import math\n",
    "import numpy as np\n",
    "import os\n",
    "from keras.preprocessing.image import load_img\n",
    "from keras.preprocessing.image import img_to_array\n",
    "from keras.preprocessing.image import ImageDataGenerator\n",
    "from keras.preprocessing import image\n",
    "import pandas as pd\n",
    "\n",
    "colnames = ['ID']\n",
    "\n",
    "test = pd.read_csv('Outex-TC-00030/000/train.txt', names =colnames)\n",
    "test[['picture','ID']] = test.pop(\"ID\").str.split(n=1, expand=True)\n",
    "test = test.iloc[1:]\n",
    "\n",
    "train = pd.read_csv('Outex-TC-00030/000/test.txt', names =colnames)\n",
    "train[['picture','ID']] = train.pop(\"ID\").str.split(n=1, expand=True)\n",
    "train = train.iloc[1:]\n",
    "\n",
    "classes = pd.read_csv('Outex-TC-00030/000/classes.txt', names = colnames)\n",
    "classes[['picture','ID','misc']] = classes.pop(\"ID\").str.split(n=2, expand=True)\n",
    "classes = classes.iloc[1:]\n",
    "\n",
    "train = pd.merge(train,classes, on = \"ID\",how='inner')\n",
    "train = train.drop(['ID', 'misc'], axis=1)\n",
    "\n",
    "test = pd.merge(test,classes, on = \"ID\",how='inner')\n",
    "test = test.drop(['ID', 'misc'], axis=1)\n",
    "\n",
    "\n",
    "train_datagen = ImageDataGenerator(\n",
    "        rescale=1./255,\n",
    "        shear_range=0.2,\n",
    "        zoom_range=0.2,\n",
    "        horizontal_flip=True)\n",
    "\n",
    "test_datagen = ImageDataGenerator(rescale=1./255)\n",
    "\n",
    "datagen=ImageDataGenerator(rescale=1./255)\n",
    "\n",
    "train_generator = train_datagen.flow_from_dataframe(\n",
    "        dataframe=train,\n",
    "        directory='Outex-TC-00030/images',\n",
    "        target_size=(128, 128),\n",
    "        x_col=\"picture_x\", y_col=\"picture_y\",\n",
    "        batch_size=32,\n",
    "        class_mode='categorical')\n",
    "\n",
    "validation_generator = test_datagen.flow_from_dataframe(\n",
    "        dataframe = test,\n",
    "        directory = 'Outex-TC-00030/images',\n",
    "        target_size=(128, 128),\n",
    "        x_col=\"picture_x\", y_col=\"picture_y\",\n",
    "        batch_size=32,\n",
    "        class_mode='categorical')\n",
    "\n",
    "train_generator_small = train_datagen.flow_from_dataframe(\n",
    "        dataframe=train,\n",
    "        directory='Outex-TC-00030/images',\n",
    "        target_size=(36, 36),\n",
    "        x_col=\"picture_x\", y_col=\"picture_y\",\n",
    "        batch_size=32,\n",
    "        class_mode='categorical')\n",
    "\n",
    "validation_generator_small = test_datagen.flow_from_dataframe(\n",
    "        dataframe = test,\n",
    "        directory = 'Outex-TC-00030/images',\n",
    "        target_size=(36, 36),\n",
    "        x_col=\"picture_x\", y_col=\"picture_y\",\n",
    "        batch_size=32,\n",
    "        class_mode='categorical')\n"
   ]
  },
  {
   "cell_type": "markdown",
   "metadata": {},
   "source": [
    "### Perceptron"
   ]
  },
  {
   "cell_type": "markdown",
   "metadata": {},
   "source": [
    "We now build a multilayer perceptron model to classify the texture into their 68 materials. We reduce the size of the images to 32 × 32."
   ]
  },
  {
   "cell_type": "code",
   "execution_count": 145,
   "metadata": {},
   "outputs": [
    {
     "name": "stdout",
     "output_type": "stream",
     "text": [
      "Epoch 1/10\n",
      "181/340 [==============>...............] - ETA: 1:21 - loss: 4.0673 - acc: 0.0280"
     ]
    },
    {
     "name": "stderr",
     "output_type": "stream",
     "text": [
      "/Users/FLSingerman/anaconda2/envs/python3/lib/python3.6/site-packages/keras/callbacks.py:122: UserWarning: Method on_batch_end() is slow compared to the batch update (0.125291). Check your callbacks.\n",
      "  % delta_t_median)\n"
     ]
    },
    {
     "name": "stdout",
     "output_type": "stream",
     "text": [
      "\b\b\b\b\b\b\b\b\b\b\b\b\b\b\b\b\b\b\b\b\b\b\b\b\b\b\b\b\b\b\b\b\b\b\b\b\b\b\b\b\b\b\b\b\b\b\b\b\b\b\b\b\b\b\b\b\b\b\b\b\b\b\b\b\b\b\b\b\b\b\b\b\b\b\b\b\b\b\b\b\b\r",
      "182/340 [===============>..............] - ETA: 1:21 - loss: 4.0664 - acc: 0.0278"
     ]
    },
    {
     "name": "stderr",
     "output_type": "stream",
     "text": [
      "/Users/FLSingerman/anaconda2/envs/python3/lib/python3.6/site-packages/keras/callbacks.py:122: UserWarning: Method on_batch_end() is slow compared to the batch update (0.152364). Check your callbacks.\n",
      "  % delta_t_median)\n"
     ]
    },
    {
     "name": "stdout",
     "output_type": "stream",
     "text": [
      "\b\b\b\b\b\b\b\b\b\b\b\b\b\b\b\b\b\b\b\b\b\b\b\b\b\b\b\b\b\b\b\b\b\b\b\b\b\b\b\b\b\b\b\b\b\b\b\b\b\b\b\b\b\b\b\b\b\b\b\b\b\b\b\b\b\b\b\b\b\b\b\b\b\b\b\b\b\b\b\b\b\r",
      "183/340 [===============>..............] - ETA: 1:21 - loss: 4.0643 - acc: 0.0277"
     ]
    },
    {
     "name": "stderr",
     "output_type": "stream",
     "text": [
      "/Users/FLSingerman/anaconda2/envs/python3/lib/python3.6/site-packages/keras/callbacks.py:122: UserWarning: Method on_batch_end() is slow compared to the batch update (0.162588). Check your callbacks.\n",
      "  % delta_t_median)\n"
     ]
    },
    {
     "name": "stdout",
     "output_type": "stream",
     "text": [
      "186/340 [===============>..............] - ETA: 1:20 - loss: 4.0614 - acc: 0.0276"
     ]
    },
    {
     "name": "stderr",
     "output_type": "stream",
     "text": [
      "/Users/FLSingerman/anaconda2/envs/python3/lib/python3.6/site-packages/keras/callbacks.py:122: UserWarning: Method on_batch_end() is slow compared to the batch update (0.180715). Check your callbacks.\n",
      "  % delta_t_median)\n"
     ]
    },
    {
     "name": "stdout",
     "output_type": "stream",
     "text": [
      "190/340 [===============>..............] - ETA: 1:21 - loss: 4.0571 - acc: 0.0280"
     ]
    },
    {
     "name": "stderr",
     "output_type": "stream",
     "text": [
      "/Users/FLSingerman/anaconda2/envs/python3/lib/python3.6/site-packages/keras/callbacks.py:122: UserWarning: Method on_batch_end() is slow compared to the batch update (0.225559). Check your callbacks.\n",
      "  % delta_t_median)\n"
     ]
    },
    {
     "name": "stdout",
     "output_type": "stream",
     "text": [
      "\b\b\b\b\b\b\b\b\b\b\b\b\b\b\b\b\b\b\b\b\b\b\b\b\b\b\b\b\b\b\b\b\b\b\b\b\b\b\b\b\b\b\b\b\b\b\b\b\b\b\b\b\b\b\b\b\b\b\b\b\b\b\b\b\b\b\b\b\b\b\b\b\b\b\b\b\b\b\b\b\b\r",
      "191/340 [===============>..............] - ETA: 1:20 - loss: 4.0557 - acc: 0.0283"
     ]
    },
    {
     "name": "stderr",
     "output_type": "stream",
     "text": [
      "/Users/FLSingerman/anaconda2/envs/python3/lib/python3.6/site-packages/keras/callbacks.py:122: UserWarning: Method on_batch_end() is slow compared to the batch update (0.167909). Check your callbacks.\n",
      "  % delta_t_median)\n",
      "/Users/FLSingerman/anaconda2/envs/python3/lib/python3.6/site-packages/keras/callbacks.py:122: UserWarning: Method on_batch_end() is slow compared to the batch update (0.112355). Check your callbacks.\n",
      "  % delta_t_median)\n"
     ]
    },
    {
     "name": "stdout",
     "output_type": "stream",
     "text": [
      "223/340 [==================>...........] - ETA: 1:08 - loss: 4.0145 - acc: 0.0275"
     ]
    },
    {
     "name": "stderr",
     "output_type": "stream",
     "text": [
      "/Users/FLSingerman/anaconda2/envs/python3/lib/python3.6/site-packages/keras/callbacks.py:122: UserWarning: Method on_batch_end() is slow compared to the batch update (0.103405). Check your callbacks.\n",
      "  % delta_t_median)\n"
     ]
    },
    {
     "name": "stdout",
     "output_type": "stream",
     "text": [
      "258/340 [=====================>........] - ETA: 48s - loss: 3.9543 - acc: 0.0310"
     ]
    },
    {
     "name": "stderr",
     "output_type": "stream",
     "text": [
      "/Users/FLSingerman/anaconda2/envs/python3/lib/python3.6/site-packages/keras/callbacks.py:122: UserWarning: Method on_batch_end() is slow compared to the batch update (0.142946). Check your callbacks.\n",
      "  % delta_t_median)\n"
     ]
    },
    {
     "name": "stdout",
     "output_type": "stream",
     "text": [
      "\b\b\b\b\b\b\b\b\b\b\b\b\b\b\b\b\b\b\b\b\b\b\b\b\b\b\b\b\b\b\b\b\b\b\b\b\b\b\b\b\b\b\b\b\b\b\b\b\b\b\b\b\b\b\b\b\b\b\b\b\b\b\b\b\b\b\b\b\b\b\b\b\b\b\b\b\b\b\b\b\r",
      "259/340 [=====================>........] - ETA: 47s - loss: 3.9527 - acc: 0.0310"
     ]
    },
    {
     "name": "stderr",
     "output_type": "stream",
     "text": [
      "/Users/FLSingerman/anaconda2/envs/python3/lib/python3.6/site-packages/keras/callbacks.py:122: UserWarning: Method on_batch_end() is slow compared to the batch update (0.174573). Check your callbacks.\n",
      "  % delta_t_median)\n"
     ]
    },
    {
     "name": "stdout",
     "output_type": "stream",
     "text": [
      "261/340 [======================>.......] - ETA: 46s - loss: 3.9495 - acc: 0.0312"
     ]
    },
    {
     "name": "stderr",
     "output_type": "stream",
     "text": [
      "/Users/FLSingerman/anaconda2/envs/python3/lib/python3.6/site-packages/keras/callbacks.py:122: UserWarning: Method on_batch_end() is slow compared to the batch update (0.104358). Check your callbacks.\n",
      "  % delta_t_median)\n"
     ]
    },
    {
     "name": "stdout",
     "output_type": "stream",
     "text": [
      "267/340 [======================>.......] - ETA: 42s - loss: 3.9418 - acc: 0.0321"
     ]
    },
    {
     "name": "stderr",
     "output_type": "stream",
     "text": [
      "/Users/FLSingerman/anaconda2/envs/python3/lib/python3.6/site-packages/keras/callbacks.py:122: UserWarning: Method on_batch_end() is slow compared to the batch update (0.101479). Check your callbacks.\n",
      "  % delta_t_median)\n"
     ]
    },
    {
     "name": "stdout",
     "output_type": "stream",
     "text": [
      "340/340 [==============================] - 204s 600ms/step - loss: 3.8256 - acc: 0.0412 - val_loss: 3.0550 - val_acc: 0.1079\n",
      "Epoch 2/10\n",
      " 13/340 [>.............................] - ETA: 1:21 - loss: 3.2518 - acc: 0.1106"
     ]
    },
    {
     "name": "stderr",
     "output_type": "stream",
     "text": [
      "/Users/FLSingerman/anaconda2/envs/python3/lib/python3.6/site-packages/keras/callbacks.py:122: UserWarning: Method on_batch_end() is slow compared to the batch update (0.114189). Check your callbacks.\n",
      "  % delta_t_median)\n"
     ]
    },
    {
     "name": "stdout",
     "output_type": "stream",
     "text": [
      " 15/340 [>.............................] - ETA: 1:23 - loss: 3.2687 - acc: 0.1083"
     ]
    },
    {
     "name": "stderr",
     "output_type": "stream",
     "text": [
      "/Users/FLSingerman/anaconda2/envs/python3/lib/python3.6/site-packages/keras/callbacks.py:122: UserWarning: Method on_batch_end() is slow compared to the batch update (0.153093). Check your callbacks.\n",
      "  % delta_t_median)\n"
     ]
    },
    {
     "name": "stdout",
     "output_type": "stream",
     "text": [
      " 17/340 [>.............................] - ETA: 1:20 - loss: 3.2706 - acc: 0.1029"
     ]
    },
    {
     "name": "stderr",
     "output_type": "stream",
     "text": [
      "/Users/FLSingerman/anaconda2/envs/python3/lib/python3.6/site-packages/keras/callbacks.py:122: UserWarning: Method on_batch_end() is slow compared to the batch update (0.138242). Check your callbacks.\n",
      "  % delta_t_median)\n"
     ]
    },
    {
     "name": "stdout",
     "output_type": "stream",
     "text": [
      "340/340 [==============================] - 135s 398ms/step - loss: 3.0507 - acc: 0.1131 - val_loss: 2.5948 - val_acc: 0.1634\n",
      "Epoch 3/10\n",
      " 22/340 [>.............................] - ETA: 1:52 - loss: 2.9111 - acc: 0.1250"
     ]
    },
    {
     "name": "stderr",
     "output_type": "stream",
     "text": [
      "/Users/FLSingerman/anaconda2/envs/python3/lib/python3.6/site-packages/keras/callbacks.py:122: UserWarning: Method on_batch_end() is slow compared to the batch update (0.101869). Check your callbacks.\n",
      "  % delta_t_median)\n"
     ]
    },
    {
     "name": "stdout",
     "output_type": "stream",
     "text": [
      " 25/340 [=>............................] - ETA: 1:54 - loss: 2.9099 - acc: 0.1250"
     ]
    },
    {
     "name": "stderr",
     "output_type": "stream",
     "text": [
      "/Users/FLSingerman/anaconda2/envs/python3/lib/python3.6/site-packages/keras/callbacks.py:122: UserWarning: Method on_batch_end() is slow compared to the batch update (0.110526). Check your callbacks.\n",
      "  % delta_t_median)\n"
     ]
    },
    {
     "name": "stdout",
     "output_type": "stream",
     "text": [
      " 29/340 [=>............................] - ETA: 1:56 - loss: 2.8893 - acc: 0.1272"
     ]
    },
    {
     "name": "stderr",
     "output_type": "stream",
     "text": [
      "/Users/FLSingerman/anaconda2/envs/python3/lib/python3.6/site-packages/keras/callbacks.py:122: UserWarning: Method on_batch_end() is slow compared to the batch update (0.117168). Check your callbacks.\n",
      "  % delta_t_median)\n"
     ]
    },
    {
     "name": "stdout",
     "output_type": "stream",
     "text": [
      "\b\b\b\b\b\b\b\b\b\b\b\b\b\b\b\b\b\b\b\b\b\b\b\b\b\b\b\b\b\b\b\b\b\b\b\b\b\b\b\b\b\b\b\b\b\b\b\b\b\b\b\b\b\b\b\b\b\b\b\b\b\b\b\b\b\b\b\b\b\b\b\b\b\b\b\b\b\b\b\b\b\r",
      " 30/340 [=>............................] - ETA: 1:58 - loss: 2.8867 - acc: 0.1281"
     ]
    },
    {
     "name": "stderr",
     "output_type": "stream",
     "text": [
      "/Users/FLSingerman/anaconda2/envs/python3/lib/python3.6/site-packages/keras/callbacks.py:122: UserWarning: Method on_batch_end() is slow compared to the batch update (0.104520). Check your callbacks.\n",
      "  % delta_t_median)\n"
     ]
    },
    {
     "name": "stdout",
     "output_type": "stream",
     "text": [
      "340/340 [==============================] - 165s 484ms/step - loss: 2.8178 - acc: 0.1427 - val_loss: 2.3288 - val_acc: 0.2440\n",
      "Epoch 4/10\n",
      "340/340 [==============================] - 176s 518ms/step - loss: 2.6833 - acc: 0.1687 - val_loss: 2.1301 - val_acc: 0.3637\n",
      "Epoch 5/10\n",
      "340/340 [==============================] - 160s 471ms/step - loss: 2.6124 - acc: 0.1832 - val_loss: 2.0469 - val_acc: 0.3185\n",
      "Epoch 6/10\n",
      "340/340 [==============================] - 158s 466ms/step - loss: 2.5731 - acc: 0.1924 - val_loss: 1.9821 - val_acc: 0.3660\n",
      "Epoch 7/10\n",
      "199/340 [================>.............] - ETA: 54s - loss: 2.5321 - acc: 0.2070"
     ]
    },
    {
     "name": "stderr",
     "output_type": "stream",
     "text": [
      "/Users/FLSingerman/anaconda2/envs/python3/lib/python3.6/site-packages/keras/callbacks.py:122: UserWarning: Method on_batch_end() is slow compared to the batch update (0.114923). Check your callbacks.\n",
      "  % delta_t_median)\n"
     ]
    },
    {
     "name": "stdout",
     "output_type": "stream",
     "text": [
      "\b\b\b\b\b\b\b\b\b\b\b\b\b\b\b\b\b\b\b\b\b\b\b\b\b\b\b\b\b\b\b\b\b\b\b\b\b\b\b\b\b\b\b\b\b\b\b\b\b\b\b\b\b\b\b\b\b\b\b\b\b\b\b\b\b\b\b\b\b\b\b\b\b\b\b\b\b\b\b\b\r",
      "200/340 [================>.............] - ETA: 54s - loss: 2.5327 - acc: 0.2067"
     ]
    },
    {
     "name": "stderr",
     "output_type": "stream",
     "text": [
      "/Users/FLSingerman/anaconda2/envs/python3/lib/python3.6/site-packages/keras/callbacks.py:122: UserWarning: Method on_batch_end() is slow compared to the batch update (0.127441). Check your callbacks.\n",
      "  % delta_t_median)\n"
     ]
    },
    {
     "name": "stdout",
     "output_type": "stream",
     "text": [
      "\b\b\b\b\b\b\b\b\b\b\b\b\b\b\b\b\b\b\b\b\b\b\b\b\b\b\b\b\b\b\b\b\b\b\b\b\b\b\b\b\b\b\b\b\b\b\b\b\b\b\b\b\b\b\b\b\b\b\b\b\b\b\b\b\b\b\b\b\b\b\b\b\b\b\b\b\b\b\b\b\r",
      "201/340 [================>.............] - ETA: 53s - loss: 2.5328 - acc: 0.2072"
     ]
    },
    {
     "name": "stderr",
     "output_type": "stream",
     "text": [
      "/Users/FLSingerman/anaconda2/envs/python3/lib/python3.6/site-packages/keras/callbacks.py:122: UserWarning: Method on_batch_end() is slow compared to the batch update (0.129745). Check your callbacks.\n",
      "  % delta_t_median)\n"
     ]
    },
    {
     "name": "stdout",
     "output_type": "stream",
     "text": [
      "208/340 [=================>............] - ETA: 53s - loss: 2.5300 - acc: 0.2090"
     ]
    },
    {
     "name": "stderr",
     "output_type": "stream",
     "text": [
      "/Users/FLSingerman/anaconda2/envs/python3/lib/python3.6/site-packages/keras/callbacks.py:122: UserWarning: Method on_batch_end() is slow compared to the batch update (0.116252). Check your callbacks.\n",
      "  % delta_t_median)\n"
     ]
    },
    {
     "name": "stdout",
     "output_type": "stream",
     "text": [
      "212/340 [=================>............] - ETA: 52s - loss: 2.5287 - acc: 0.2089"
     ]
    },
    {
     "name": "stderr",
     "output_type": "stream",
     "text": [
      "/Users/FLSingerman/anaconda2/envs/python3/lib/python3.6/site-packages/keras/callbacks.py:122: UserWarning: Method on_batch_end() is slow compared to the batch update (0.100076). Check your callbacks.\n",
      "  % delta_t_median)\n"
     ]
    },
    {
     "name": "stdout",
     "output_type": "stream",
     "text": [
      "340/340 [==============================] - 149s 437ms/step - loss: 2.5210 - acc: 0.2049 - val_loss: 2.0086 - val_acc: 0.3426\n",
      "Epoch 8/10\n",
      "340/340 [==============================] - 156s 460ms/step - loss: 2.4716 - acc: 0.2131 - val_loss: 1.8671 - val_acc: 0.3675\n",
      "Epoch 9/10\n",
      " 27/340 [=>............................] - ETA: 2:05 - loss: 2.4197 - acc: 0.2384"
     ]
    },
    {
     "name": "stderr",
     "output_type": "stream",
     "text": [
      "/Users/FLSingerman/anaconda2/envs/python3/lib/python3.6/site-packages/keras/callbacks.py:122: UserWarning: Method on_batch_end() is slow compared to the batch update (0.158944). Check your callbacks.\n",
      "  % delta_t_median)\n"
     ]
    },
    {
     "name": "stdout",
     "output_type": "stream",
     "text": [
      " 30/340 [=>............................] - ETA: 2:13 - loss: 2.4168 - acc: 0.2406"
     ]
    },
    {
     "name": "stderr",
     "output_type": "stream",
     "text": [
      "/Users/FLSingerman/anaconda2/envs/python3/lib/python3.6/site-packages/keras/callbacks.py:122: UserWarning: Method on_batch_end() is slow compared to the batch update (0.137683). Check your callbacks.\n",
      "  % delta_t_median)\n"
     ]
    },
    {
     "name": "stdout",
     "output_type": "stream",
     "text": [
      "\b\b\b\b\b\b\b\b\b\b\b\b\b\b\b\b\b\b\b\b\b\b\b\b\b\b\b\b\b\b\b\b\b\b\b\b\b\b\b\b\b\b\b\b\b\b\b\b\b\b\b\b\b\b\b\b\b\b\b\b\b\b\b\b\b\b\b\b\b\b\b\b\b\b\b\b\b\b\b\b\b\r",
      " 31/340 [=>............................] - ETA: 2:15 - loss: 2.3998 - acc: 0.2429"
     ]
    },
    {
     "name": "stderr",
     "output_type": "stream",
     "text": [
      "/Users/FLSingerman/anaconda2/envs/python3/lib/python3.6/site-packages/keras/callbacks.py:122: UserWarning: Method on_batch_end() is slow compared to the batch update (0.173469). Check your callbacks.\n",
      "  % delta_t_median)\n"
     ]
    },
    {
     "name": "stdout",
     "output_type": "stream",
     "text": [
      " 34/340 [==>...........................] - ETA: 2:31 - loss: 2.4181 - acc: 0.2353"
     ]
    },
    {
     "name": "stderr",
     "output_type": "stream",
     "text": [
      "/Users/FLSingerman/anaconda2/envs/python3/lib/python3.6/site-packages/keras/callbacks.py:122: UserWarning: Method on_batch_end() is slow compared to the batch update (0.139416). Check your callbacks.\n",
      "  % delta_t_median)\n"
     ]
    },
    {
     "name": "stdout",
     "output_type": "stream",
     "text": [
      " 56/340 [===>..........................] - ETA: 2:25 - loss: 2.4346 - acc: 0.2282"
     ]
    },
    {
     "name": "stderr",
     "output_type": "stream",
     "text": [
      "/Users/FLSingerman/anaconda2/envs/python3/lib/python3.6/site-packages/keras/callbacks.py:122: UserWarning: Method on_batch_end() is slow compared to the batch update (0.133756). Check your callbacks.\n",
      "  % delta_t_median)\n"
     ]
    },
    {
     "name": "stdout",
     "output_type": "stream",
     "text": [
      " 61/340 [====>.........................] - ETA: 2:25 - loss: 2.4359 - acc: 0.2259"
     ]
    },
    {
     "name": "stderr",
     "output_type": "stream",
     "text": [
      "/Users/FLSingerman/anaconda2/envs/python3/lib/python3.6/site-packages/keras/callbacks.py:122: UserWarning: Method on_batch_end() is slow compared to the batch update (0.140631). Check your callbacks.\n",
      "  % delta_t_median)\n"
     ]
    },
    {
     "name": "stdout",
     "output_type": "stream",
     "text": [
      " 63/340 [====>.........................] - ETA: 2:46 - loss: 2.4419 - acc: 0.2247"
     ]
    },
    {
     "name": "stderr",
     "output_type": "stream",
     "text": [
      "/Users/FLSingerman/anaconda2/envs/python3/lib/python3.6/site-packages/keras/callbacks.py:122: UserWarning: Method on_batch_end() is slow compared to the batch update (0.134756). Check your callbacks.\n",
      "  % delta_t_median)\n"
     ]
    },
    {
     "name": "stdout",
     "output_type": "stream",
     "text": [
      "340/340 [==============================] - 169s 496ms/step - loss: 2.6596 - acc: 0.1868 - val_loss: 2.0833 - val_acc: 0.3449\n",
      "Epoch 10/10\n",
      "340/340 [==============================] - 148s 437ms/step - loss: 2.5529 - acc: 0.2007 - val_loss: 1.8067 - val_acc: 0.4488\n"
     ]
    }
   ],
   "source": [
    "from keras.models import Sequential\n",
    "from keras.layers import Dense, Dropout, Activation, Flatten\n",
    "from keras.optimizers import SGD\n",
    "\n",
    "model = Sequential()\n",
    "# Dense(64) is a fully-connected layer with 64 hidden units.\n",
    "model.add(Dense(64, activation='relu', input_shape=(36, 36, 3)))\n",
    "model.add(Flatten())\n",
    "model.add(Dropout(0.5))\n",
    "model.add(Dense(64, activation='relu'))\n",
    "model.add(Dropout(0.5))\n",
    "model.add(Dense(68, activation='softmax'))\n",
    "\n",
    "sgd = SGD(lr=0.01, decay=1e-6, momentum=0.9, nesterov=True)\n",
    "model.compile(loss='categorical_crossentropy',\n",
    "              optimizer=sgd,\n",
    "              metrics=['accuracy'])\n",
    "\n",
    "\n",
    "\n",
    "STEP_SIZE_TRAIN=train_generator_small.n//train_generator_small.batch_size\n",
    "STEP_SIZE_VALID=validation_generator_small.n//validation_generator_small.batch_size\n",
    "history = model.fit_generator(generator=train_generator_small,\n",
    "                    steps_per_epoch=STEP_SIZE_TRAIN,\n",
    "                    validation_data=validation_generator_small,\n",
    "                    validation_steps=STEP_SIZE_VALID,\n",
    "                    epochs=10\n",
    ")\n",
    "\n"
   ]
  },
  {
   "cell_type": "code",
   "execution_count": 148,
   "metadata": {},
   "outputs": [
    {
     "data": {
      "text/plain": [
       "[1.812656753203448, 0.44926470588235295]"
      ]
     },
     "execution_count": 148,
     "metadata": {},
     "output_type": "execute_result"
    }
   ],
   "source": [
    "model.evaluate_generator(generator=validation_generator_small)"
   ]
  },
  {
   "cell_type": "code",
   "execution_count": 155,
   "metadata": {},
   "outputs": [
    {
     "name": "stdout",
     "output_type": "stream",
     "text": [
      "43/43 [==============================] - 3s 77ms/step\n"
     ]
    },
    {
     "data": {
      "text/html": [
       "<div>\n",
       "<style scoped>\n",
       "    .dataframe tbody tr th:only-of-type {\n",
       "        vertical-align: middle;\n",
       "    }\n",
       "\n",
       "    .dataframe tbody tr th {\n",
       "        vertical-align: top;\n",
       "    }\n",
       "\n",
       "    .dataframe thead th {\n",
       "        text-align: right;\n",
       "    }\n",
       "</style>\n",
       "<table border=\"1\" class=\"dataframe\">\n",
       "  <thead>\n",
       "    <tr style=\"text-align: right;\">\n",
       "      <th></th>\n",
       "      <th>Filename</th>\n",
       "      <th>Predictions</th>\n",
       "    </tr>\n",
       "  </thead>\n",
       "  <tbody>\n",
       "    <tr>\n",
       "      <th>0</th>\n",
       "      <td>000000.bmp</td>\n",
       "      <td>canvas026</td>\n",
       "    </tr>\n",
       "    <tr>\n",
       "      <th>1</th>\n",
       "      <td>000001.bmp</td>\n",
       "      <td>granite008</td>\n",
       "    </tr>\n",
       "    <tr>\n",
       "      <th>2</th>\n",
       "      <td>000002.bmp</td>\n",
       "      <td>canvas002</td>\n",
       "    </tr>\n",
       "    <tr>\n",
       "      <th>3</th>\n",
       "      <td>000003.bmp</td>\n",
       "      <td>sandpaper002</td>\n",
       "    </tr>\n",
       "    <tr>\n",
       "      <th>4</th>\n",
       "      <td>000004.bmp</td>\n",
       "      <td>carpet012</td>\n",
       "    </tr>\n",
       "    <tr>\n",
       "      <th>5</th>\n",
       "      <td>000005.bmp</td>\n",
       "      <td>sandpaper008</td>\n",
       "    </tr>\n",
       "    <tr>\n",
       "      <th>6</th>\n",
       "      <td>000006.bmp</td>\n",
       "      <td>tile004</td>\n",
       "    </tr>\n",
       "    <tr>\n",
       "      <th>7</th>\n",
       "      <td>000007.bmp</td>\n",
       "      <td>carpet012</td>\n",
       "    </tr>\n",
       "    <tr>\n",
       "      <th>8</th>\n",
       "      <td>000008.bmp</td>\n",
       "      <td>carpet005</td>\n",
       "    </tr>\n",
       "    <tr>\n",
       "      <th>9</th>\n",
       "      <td>000009.bmp</td>\n",
       "      <td>canvas006</td>\n",
       "    </tr>\n",
       "    <tr>\n",
       "      <th>10</th>\n",
       "      <td>000010.bmp</td>\n",
       "      <td>granite004</td>\n",
       "    </tr>\n",
       "    <tr>\n",
       "      <th>11</th>\n",
       "      <td>000011.bmp</td>\n",
       "      <td>tile007</td>\n",
       "    </tr>\n",
       "    <tr>\n",
       "      <th>12</th>\n",
       "      <td>000012.bmp</td>\n",
       "      <td>granite002</td>\n",
       "    </tr>\n",
       "    <tr>\n",
       "      <th>13</th>\n",
       "      <td>000013.bmp</td>\n",
       "      <td>sandpaper002</td>\n",
       "    </tr>\n",
       "    <tr>\n",
       "      <th>14</th>\n",
       "      <td>000014.bmp</td>\n",
       "      <td>canvas002</td>\n",
       "    </tr>\n",
       "    <tr>\n",
       "      <th>15</th>\n",
       "      <td>000015.bmp</td>\n",
       "      <td>carpet005</td>\n",
       "    </tr>\n",
       "    <tr>\n",
       "      <th>16</th>\n",
       "      <td>000016.bmp</td>\n",
       "      <td>canvas001</td>\n",
       "    </tr>\n",
       "    <tr>\n",
       "      <th>17</th>\n",
       "      <td>000017.bmp</td>\n",
       "      <td>canvas021</td>\n",
       "    </tr>\n",
       "    <tr>\n",
       "      <th>18</th>\n",
       "      <td>000018.bmp</td>\n",
       "      <td>paper001</td>\n",
       "    </tr>\n",
       "    <tr>\n",
       "      <th>19</th>\n",
       "      <td>000019.bmp</td>\n",
       "      <td>canvas004</td>\n",
       "    </tr>\n",
       "    <tr>\n",
       "      <th>20</th>\n",
       "      <td>000180.bmp</td>\n",
       "      <td>granite002</td>\n",
       "    </tr>\n",
       "    <tr>\n",
       "      <th>21</th>\n",
       "      <td>000181.bmp</td>\n",
       "      <td>canvas004</td>\n",
       "    </tr>\n",
       "    <tr>\n",
       "      <th>22</th>\n",
       "      <td>000182.bmp</td>\n",
       "      <td>carpet004</td>\n",
       "    </tr>\n",
       "    <tr>\n",
       "      <th>23</th>\n",
       "      <td>000183.bmp</td>\n",
       "      <td>granite006</td>\n",
       "    </tr>\n",
       "    <tr>\n",
       "      <th>24</th>\n",
       "      <td>000184.bmp</td>\n",
       "      <td>carpet004</td>\n",
       "    </tr>\n",
       "    <tr>\n",
       "      <th>25</th>\n",
       "      <td>000185.bmp</td>\n",
       "      <td>sandpaper003</td>\n",
       "    </tr>\n",
       "    <tr>\n",
       "      <th>26</th>\n",
       "      <td>000186.bmp</td>\n",
       "      <td>tile005</td>\n",
       "    </tr>\n",
       "    <tr>\n",
       "      <th>27</th>\n",
       "      <td>000187.bmp</td>\n",
       "      <td>sandpaper006</td>\n",
       "    </tr>\n",
       "    <tr>\n",
       "      <th>28</th>\n",
       "      <td>000188.bmp</td>\n",
       "      <td>canvas020</td>\n",
       "    </tr>\n",
       "    <tr>\n",
       "      <th>29</th>\n",
       "      <td>000189.bmp</td>\n",
       "      <td>canvas009</td>\n",
       "    </tr>\n",
       "    <tr>\n",
       "      <th>...</th>\n",
       "      <td>...</td>\n",
       "      <td>...</td>\n",
       "    </tr>\n",
       "    <tr>\n",
       "      <th>1330</th>\n",
       "      <td>011890.bmp</td>\n",
       "      <td>canvas026</td>\n",
       "    </tr>\n",
       "    <tr>\n",
       "      <th>1331</th>\n",
       "      <td>011891.bmp</td>\n",
       "      <td>granite006</td>\n",
       "    </tr>\n",
       "    <tr>\n",
       "      <th>1332</th>\n",
       "      <td>011892.bmp</td>\n",
       "      <td>canvas004</td>\n",
       "    </tr>\n",
       "    <tr>\n",
       "      <th>1333</th>\n",
       "      <td>011893.bmp</td>\n",
       "      <td>canvas002</td>\n",
       "    </tr>\n",
       "    <tr>\n",
       "      <th>1334</th>\n",
       "      <td>011894.bmp</td>\n",
       "      <td>canvas004</td>\n",
       "    </tr>\n",
       "    <tr>\n",
       "      <th>1335</th>\n",
       "      <td>011895.bmp</td>\n",
       "      <td>canvas026</td>\n",
       "    </tr>\n",
       "    <tr>\n",
       "      <th>1336</th>\n",
       "      <td>011896.bmp</td>\n",
       "      <td>canvas006</td>\n",
       "    </tr>\n",
       "    <tr>\n",
       "      <th>1337</th>\n",
       "      <td>011897.bmp</td>\n",
       "      <td>canvas006</td>\n",
       "    </tr>\n",
       "    <tr>\n",
       "      <th>1338</th>\n",
       "      <td>011898.bmp</td>\n",
       "      <td>canvas026</td>\n",
       "    </tr>\n",
       "    <tr>\n",
       "      <th>1339</th>\n",
       "      <td>011899.bmp</td>\n",
       "      <td>wool001</td>\n",
       "    </tr>\n",
       "    <tr>\n",
       "      <th>1340</th>\n",
       "      <td>012060.bmp</td>\n",
       "      <td>sandpaper006</td>\n",
       "    </tr>\n",
       "    <tr>\n",
       "      <th>1341</th>\n",
       "      <td>012061.bmp</td>\n",
       "      <td>tile001</td>\n",
       "    </tr>\n",
       "    <tr>\n",
       "      <th>1342</th>\n",
       "      <td>012062.bmp</td>\n",
       "      <td>barleyrice007</td>\n",
       "    </tr>\n",
       "    <tr>\n",
       "      <th>1343</th>\n",
       "      <td>012063.bmp</td>\n",
       "      <td>carpet004</td>\n",
       "    </tr>\n",
       "    <tr>\n",
       "      <th>1344</th>\n",
       "      <td>012064.bmp</td>\n",
       "      <td>cardboard001</td>\n",
       "    </tr>\n",
       "    <tr>\n",
       "      <th>1345</th>\n",
       "      <td>012065.bmp</td>\n",
       "      <td>carpet012</td>\n",
       "    </tr>\n",
       "    <tr>\n",
       "      <th>1346</th>\n",
       "      <td>012066.bmp</td>\n",
       "      <td>cardboard001</td>\n",
       "    </tr>\n",
       "    <tr>\n",
       "      <th>1347</th>\n",
       "      <td>012067.bmp</td>\n",
       "      <td>carpet004</td>\n",
       "    </tr>\n",
       "    <tr>\n",
       "      <th>1348</th>\n",
       "      <td>012068.bmp</td>\n",
       "      <td>canvas004</td>\n",
       "    </tr>\n",
       "    <tr>\n",
       "      <th>1349</th>\n",
       "      <td>012069.bmp</td>\n",
       "      <td>granite008</td>\n",
       "    </tr>\n",
       "    <tr>\n",
       "      <th>1350</th>\n",
       "      <td>012070.bmp</td>\n",
       "      <td>granite001</td>\n",
       "    </tr>\n",
       "    <tr>\n",
       "      <th>1351</th>\n",
       "      <td>012071.bmp</td>\n",
       "      <td>carpet004</td>\n",
       "    </tr>\n",
       "    <tr>\n",
       "      <th>1352</th>\n",
       "      <td>012072.bmp</td>\n",
       "      <td>sandpaper006</td>\n",
       "    </tr>\n",
       "    <tr>\n",
       "      <th>1353</th>\n",
       "      <td>012073.bmp</td>\n",
       "      <td>tile004</td>\n",
       "    </tr>\n",
       "    <tr>\n",
       "      <th>1354</th>\n",
       "      <td>012074.bmp</td>\n",
       "      <td>canvas002</td>\n",
       "    </tr>\n",
       "    <tr>\n",
       "      <th>1355</th>\n",
       "      <td>012075.bmp</td>\n",
       "      <td>carpet009</td>\n",
       "    </tr>\n",
       "    <tr>\n",
       "      <th>1356</th>\n",
       "      <td>012076.bmp</td>\n",
       "      <td>canvas004</td>\n",
       "    </tr>\n",
       "    <tr>\n",
       "      <th>1357</th>\n",
       "      <td>012077.bmp</td>\n",
       "      <td>granite008</td>\n",
       "    </tr>\n",
       "    <tr>\n",
       "      <th>1358</th>\n",
       "      <td>012078.bmp</td>\n",
       "      <td>canvas006</td>\n",
       "    </tr>\n",
       "    <tr>\n",
       "      <th>1359</th>\n",
       "      <td>012079.bmp</td>\n",
       "      <td>canvas024</td>\n",
       "    </tr>\n",
       "  </tbody>\n",
       "</table>\n",
       "<p>1360 rows × 2 columns</p>\n",
       "</div>"
      ],
      "text/plain": [
       "        Filename    Predictions\n",
       "0     000000.bmp      canvas026\n",
       "1     000001.bmp     granite008\n",
       "2     000002.bmp      canvas002\n",
       "3     000003.bmp   sandpaper002\n",
       "4     000004.bmp      carpet012\n",
       "5     000005.bmp   sandpaper008\n",
       "6     000006.bmp        tile004\n",
       "7     000007.bmp      carpet012\n",
       "8     000008.bmp      carpet005\n",
       "9     000009.bmp      canvas006\n",
       "10    000010.bmp     granite004\n",
       "11    000011.bmp        tile007\n",
       "12    000012.bmp     granite002\n",
       "13    000013.bmp   sandpaper002\n",
       "14    000014.bmp      canvas002\n",
       "15    000015.bmp      carpet005\n",
       "16    000016.bmp      canvas001\n",
       "17    000017.bmp      canvas021\n",
       "18    000018.bmp       paper001\n",
       "19    000019.bmp      canvas004\n",
       "20    000180.bmp     granite002\n",
       "21    000181.bmp      canvas004\n",
       "22    000182.bmp      carpet004\n",
       "23    000183.bmp     granite006\n",
       "24    000184.bmp      carpet004\n",
       "25    000185.bmp   sandpaper003\n",
       "26    000186.bmp        tile005\n",
       "27    000187.bmp   sandpaper006\n",
       "28    000188.bmp      canvas020\n",
       "29    000189.bmp      canvas009\n",
       "...          ...            ...\n",
       "1330  011890.bmp      canvas026\n",
       "1331  011891.bmp     granite006\n",
       "1332  011892.bmp      canvas004\n",
       "1333  011893.bmp      canvas002\n",
       "1334  011894.bmp      canvas004\n",
       "1335  011895.bmp      canvas026\n",
       "1336  011896.bmp      canvas006\n",
       "1337  011897.bmp      canvas006\n",
       "1338  011898.bmp      canvas026\n",
       "1339  011899.bmp        wool001\n",
       "1340  012060.bmp   sandpaper006\n",
       "1341  012061.bmp        tile001\n",
       "1342  012062.bmp  barleyrice007\n",
       "1343  012063.bmp      carpet004\n",
       "1344  012064.bmp   cardboard001\n",
       "1345  012065.bmp      carpet012\n",
       "1346  012066.bmp   cardboard001\n",
       "1347  012067.bmp      carpet004\n",
       "1348  012068.bmp      canvas004\n",
       "1349  012069.bmp     granite008\n",
       "1350  012070.bmp     granite001\n",
       "1351  012071.bmp      carpet004\n",
       "1352  012072.bmp   sandpaper006\n",
       "1353  012073.bmp        tile004\n",
       "1354  012074.bmp      canvas002\n",
       "1355  012075.bmp      carpet009\n",
       "1356  012076.bmp      canvas004\n",
       "1357  012077.bmp     granite008\n",
       "1358  012078.bmp      canvas006\n",
       "1359  012079.bmp      canvas024\n",
       "\n",
       "[1360 rows x 2 columns]"
      ]
     },
     "execution_count": 155,
     "metadata": {},
     "output_type": "execute_result"
    }
   ],
   "source": [
    "validation_generator_small.reset()\n",
    "pred=model.predict_generator(validation_generator_small,verbose=1)\n",
    "\n",
    "predicted_class_indices=np.argmax(pred,axis=1)\n",
    "\n",
    "labels = (train_generator.class_indices)\n",
    "labels = dict((v,k) for k,v in labels.items())\n",
    "predictions = [labels[k] for k in predicted_class_indices]\n",
    "\n",
    "filenames =validation_generator_small.filenames\n",
    "results=pd.DataFrame({\"Filename\":filenames,\n",
    "                      \"Predictions\":predictions})\n",
    "results"
   ]
  },
  {
   "cell_type": "markdown",
   "metadata": {},
   "source": [
    "We plot a loss curve showing both training and testing results."
   ]
  },
  {
   "cell_type": "code",
   "execution_count": 147,
   "metadata": {},
   "outputs": [
    {
     "name": "stdout",
     "output_type": "stream",
     "text": [
      "dict_keys(['val_loss', 'val_acc', 'loss', 'acc'])\n"
     ]
    },
    {
     "data": {
      "image/png": "[encoded data removed]",
      "text/plain": [
       "<Figure size 432x288 with 1 Axes>"
      ]
     },
     "metadata": {},
     "output_type": "display_data"
    },
    {
     "data": {
      "image/png": "[encoded data removed]",
      "text/plain": [
       "<Figure size 432x288 with 1 Axes>"
      ]
     },
     "metadata": {},
     "output_type": "display_data"
    }
   ],
   "source": [
    "%matplotlib inline\n",
    "\n",
    "import matplotlib\n",
    "import matplotlib.pyplot as plt\n",
    "\n",
    "print(history.history.keys())\n",
    "#  \"Accuracy\"\n",
    "plt.plot(history.history['acc'])\n",
    "plt.plot(history.history['val_acc'])\n",
    "plt.title('model accuracy')\n",
    "plt.ylabel('accuracy')\n",
    "plt.xlabel('epoch')\n",
    "plt.legend(['train', 'validation'], loc='upper left')\n",
    "plt.show()\n",
    "# \"Loss\"\n",
    "plt.plot(history.history['loss'])\n",
    "plt.plot(history.history['val_loss'])\n",
    "plt.title('model loss')\n",
    "plt.ylabel('loss')\n",
    "plt.xlabel('epoch')\n",
    "plt.legend(['train', 'validation'], loc='upper left')\n",
    "plt.show()"
   ]
  },
  {
   "cell_type": "markdown",
   "metadata": {},
   "source": [
    "### LeNet-5"
   ]
  },
  {
   "cell_type": "markdown",
   "metadata": {},
   "source": [
    "We now use full size images with a CNN in Keras from scratch. Adapt Yann LeCun’s LeNet-5 network structure"
   ]
  },
  {
   "cell_type": "code",
   "execution_count": 157,
   "metadata": {},
   "outputs": [
    {
     "name": "stderr",
     "output_type": "stream",
     "text": [
      "/Users/FLSingerman/anaconda2/envs/python3/lib/python3.6/site-packages/ipykernel_launcher.py:4: UserWarning: Update your `Conv2D` call to the Keras 2 API: `Conv2D(12, (5, 5), activation=\"relu\", input_shape=(128, 128,..., kernel_initializer=\"he_normal\")`\n",
      "  after removing the cwd from sys.path.\n",
      "/Users/FLSingerman/anaconda2/envs/python3/lib/python3.6/site-packages/ipykernel_launcher.py:7: UserWarning: Update your `Conv2D` call to the Keras 2 API: `Conv2D(25, (5, 5), activation=\"relu\", kernel_initializer=\"he_normal\")`\n",
      "  import sys\n",
      "/Users/FLSingerman/anaconda2/envs/python3/lib/python3.6/site-packages/ipykernel_launcher.py:10: UserWarning: Update your `Dense` call to the Keras 2 API: `Dense(180, activation=\"relu\", kernel_initializer=\"he_normal\")`\n",
      "  # Remove the CWD from sys.path while we load stuff.\n",
      "/Users/FLSingerman/anaconda2/envs/python3/lib/python3.6/site-packages/ipykernel_launcher.py:12: UserWarning: Update your `Dense` call to the Keras 2 API: `Dense(100, activation=\"relu\", kernel_initializer=\"he_normal\")`\n",
      "  if sys.path[0] == '':\n",
      "/Users/FLSingerman/anaconda2/envs/python3/lib/python3.6/site-packages/ipykernel_launcher.py:14: UserWarning: Update your `Dense` call to the Keras 2 API: `Dense(68, activation=\"softmax\", kernel_initializer=\"he_normal\")`\n",
      "  \n"
     ]
    },
    {
     "name": "stdout",
     "output_type": "stream",
     "text": [
      "Epoch 1/10\n",
      "340/340 [==============================] - 349s 1s/step - loss: 4.0528 - acc: 0.0381 - val_loss: 3.5846 - val_acc: 0.1071\n",
      "Epoch 2/10\n",
      "340/340 [==============================] - 551s 2s/step - loss: 3.5994 - acc: 0.0890 - val_loss: 3.1317 - val_acc: 0.1370\n",
      "Epoch 3/10\n",
      "340/340 [==============================] - 590s 2s/step - loss: 3.2087 - acc: 0.1359 - val_loss: 2.6385 - val_acc: 0.2575\n",
      "Epoch 4/10\n",
      "340/340 [==============================] - 581s 2s/step - loss: 2.8011 - acc: 0.2005 - val_loss: 2.1905 - val_acc: 0.3268\n",
      "Epoch 5/10\n",
      "340/340 [==============================] - 620s 2s/step - loss: 2.4458 - acc: 0.2575 - val_loss: 1.8126 - val_acc: 0.4699\n",
      "Epoch 6/10\n",
      "340/340 [==============================] - 673s 2s/step - loss: 2.1249 - acc: 0.3260 - val_loss: 1.3704 - val_acc: 0.6130\n",
      "Epoch 7/10\n",
      "  1/340 [..............................] - ETA: 3:25 - loss: 1.8651 - acc: 0.4062"
     ]
    },
    {
     "name": "stderr",
     "output_type": "stream",
     "text": [
      "/Users/FLSingerman/anaconda2/envs/python3/lib/python3.6/site-packages/keras/callbacks.py:122: UserWarning: Method on_batch_end() is slow compared to the batch update (0.855371). Check your callbacks.\n",
      "  % delta_t_median)\n"
     ]
    },
    {
     "name": "stdout",
     "output_type": "stream",
     "text": [
      "340/340 [==============================] - 565s 2s/step - loss: 1.9086 - acc: 0.3694 - val_loss: 1.2845 - val_acc: 0.5655\n",
      "Epoch 8/10\n",
      "340/340 [==============================] - 476s 1s/step - loss: 1.7234 - acc: 0.4173 - val_loss: 1.0918 - val_acc: 0.6792\n",
      "Epoch 9/10\n",
      "340/340 [==============================] - 643s 2s/step - loss: 1.5803 - acc: 0.4562 - val_loss: 0.9729 - val_acc: 0.6965\n",
      "Epoch 10/10\n",
      "340/340 [==============================] - 451s 1s/step - loss: 1.4326 - acc: 0.4926 - val_loss: 1.1519 - val_acc: 0.5474\n"
     ]
    }
   ],
   "source": [
    "from keras.layers.convolutional import Convolution2D, MaxPooling2D\n",
    "\n",
    "# inspired by https://www.kaggle.com/ftence/keras-cnn-inspired-by-lenet-5?scriptVersionId=382274\n",
    "\n",
    "# using relu several websites have indicatted its more powerful as oppossed to tanh\n",
    "# which was originally proposed in the paper\n",
    "model = Sequential()\n",
    "# would of liked to use a higher # of conv filters instead of 12 in order to try to get better results\n",
    "# but due to lack of computation power I have left it at 12\n",
    "model.add(Convolution2D(12, 5, 5, activation = 'relu', input_shape=(128,128,3), init='he_normal'))\n",
    "model.add(MaxPooling2D(pool_size=(2, 2)))\n",
    "# again, wouldve liked a higher # than 25\n",
    "model.add(Convolution2D(25, 5, 5, activation = 'relu', init='he_normal'))\n",
    "model.add(MaxPooling2D(pool_size=(2, 2)))\n",
    "model.add(Flatten())\n",
    "# fully connected layers\n",
    "model.add(Dense(180, activation = 'relu', init='he_normal'))\n",
    "model.add(Dropout(0.5))\n",
    "model.add(Dense(100, activation = 'relu', init='he_normal'))\n",
    "model.add(Dropout(0.5))\n",
    "# num of classes is 68\n",
    "model.add(Dense(68, activation = 'softmax', init='he_normal')) \n",
    "\n",
    "model.compile(loss='categorical_crossentropy',\n",
    "              optimizer='adamax',\n",
    "              metrics=['accuracy'])\n",
    "\n",
    "\n",
    "\n",
    "STEP_SIZE_TRAIN=train_generator.n//train_generator.batch_size\n",
    "STEP_SIZE_VALID=validation_generator.n//validation_generator.batch_size\n",
    "history_lenet = model.fit_generator(generator=train_generator,\n",
    "                    steps_per_epoch=STEP_SIZE_TRAIN,\n",
    "                    validation_data=validation_generator,\n",
    "                    validation_steps=STEP_SIZE_VALID,\n",
    "                    epochs=10\n",
    ")\n"
   ]
  },
  {
   "cell_type": "code",
   "execution_count": 158,
   "metadata": {},
   "outputs": [
    {
     "data": {
      "text/plain": [
       "[1.1437916952020981, 0.5463235294117647]"
      ]
     },
     "execution_count": 158,
     "metadata": {},
     "output_type": "execute_result"
    }
   ],
   "source": [
    "model.evaluate_generator(generator=validation_generator)"
   ]
  },
  {
   "cell_type": "code",
   "execution_count": 159,
   "metadata": {},
   "outputs": [
    {
     "name": "stdout",
     "output_type": "stream",
     "text": [
      "43/43 [==============================] - 38s 874ms/step\n"
     ]
    },
    {
     "data": {
      "text/html": [
       "<div>\n",
       "<style scoped>\n",
       "    .dataframe tbody tr th:only-of-type {\n",
       "        vertical-align: middle;\n",
       "    }\n",
       "\n",
       "    .dataframe tbody tr th {\n",
       "        vertical-align: top;\n",
       "    }\n",
       "\n",
       "    .dataframe thead th {\n",
       "        text-align: right;\n",
       "    }\n",
       "</style>\n",
       "<table border=\"1\" class=\"dataframe\">\n",
       "  <thead>\n",
       "    <tr style=\"text-align: right;\">\n",
       "      <th></th>\n",
       "      <th>Filename</th>\n",
       "      <th>Predictions</th>\n",
       "    </tr>\n",
       "  </thead>\n",
       "  <tbody>\n",
       "    <tr>\n",
       "      <th>0</th>\n",
       "      <td>000000.bmp</td>\n",
       "      <td>paper001</td>\n",
       "    </tr>\n",
       "    <tr>\n",
       "      <th>1</th>\n",
       "      <td>000001.bmp</td>\n",
       "      <td>barleyrice006</td>\n",
       "    </tr>\n",
       "    <tr>\n",
       "      <th>2</th>\n",
       "      <td>000002.bmp</td>\n",
       "      <td>canvas020</td>\n",
       "    </tr>\n",
       "    <tr>\n",
       "      <th>3</th>\n",
       "      <td>000003.bmp</td>\n",
       "      <td>sandpaper007</td>\n",
       "    </tr>\n",
       "    <tr>\n",
       "      <th>4</th>\n",
       "      <td>000004.bmp</td>\n",
       "      <td>canvas024</td>\n",
       "    </tr>\n",
       "    <tr>\n",
       "      <th>5</th>\n",
       "      <td>000005.bmp</td>\n",
       "      <td>barleyrice007</td>\n",
       "    </tr>\n",
       "    <tr>\n",
       "      <th>6</th>\n",
       "      <td>000006.bmp</td>\n",
       "      <td>carpet012</td>\n",
       "    </tr>\n",
       "    <tr>\n",
       "      <th>7</th>\n",
       "      <td>000007.bmp</td>\n",
       "      <td>canvas024</td>\n",
       "    </tr>\n",
       "    <tr>\n",
       "      <th>8</th>\n",
       "      <td>000008.bmp</td>\n",
       "      <td>carpet010</td>\n",
       "    </tr>\n",
       "    <tr>\n",
       "      <th>9</th>\n",
       "      <td>000009.bmp</td>\n",
       "      <td>sandpaper003</td>\n",
       "    </tr>\n",
       "    <tr>\n",
       "      <th>10</th>\n",
       "      <td>000010.bmp</td>\n",
       "      <td>canvas021</td>\n",
       "    </tr>\n",
       "    <tr>\n",
       "      <th>11</th>\n",
       "      <td>000011.bmp</td>\n",
       "      <td>granite004</td>\n",
       "    </tr>\n",
       "    <tr>\n",
       "      <th>12</th>\n",
       "      <td>000012.bmp</td>\n",
       "      <td>barleyrice003</td>\n",
       "    </tr>\n",
       "    <tr>\n",
       "      <th>13</th>\n",
       "      <td>000013.bmp</td>\n",
       "      <td>canvas002</td>\n",
       "    </tr>\n",
       "    <tr>\n",
       "      <th>14</th>\n",
       "      <td>000014.bmp</td>\n",
       "      <td>canvas022</td>\n",
       "    </tr>\n",
       "    <tr>\n",
       "      <th>15</th>\n",
       "      <td>000015.bmp</td>\n",
       "      <td>paper001</td>\n",
       "    </tr>\n",
       "    <tr>\n",
       "      <th>16</th>\n",
       "      <td>000016.bmp</td>\n",
       "      <td>tile001</td>\n",
       "    </tr>\n",
       "    <tr>\n",
       "      <th>17</th>\n",
       "      <td>000017.bmp</td>\n",
       "      <td>sandpaper007</td>\n",
       "    </tr>\n",
       "    <tr>\n",
       "      <th>18</th>\n",
       "      <td>000018.bmp</td>\n",
       "      <td>barleyrice002</td>\n",
       "    </tr>\n",
       "    <tr>\n",
       "      <th>19</th>\n",
       "      <td>000019.bmp</td>\n",
       "      <td>canvas023</td>\n",
       "    </tr>\n",
       "    <tr>\n",
       "      <th>20</th>\n",
       "      <td>000180.bmp</td>\n",
       "      <td>carpet010</td>\n",
       "    </tr>\n",
       "    <tr>\n",
       "      <th>21</th>\n",
       "      <td>000181.bmp</td>\n",
       "      <td>granite009</td>\n",
       "    </tr>\n",
       "    <tr>\n",
       "      <th>22</th>\n",
       "      <td>000182.bmp</td>\n",
       "      <td>carpet005</td>\n",
       "    </tr>\n",
       "    <tr>\n",
       "      <th>23</th>\n",
       "      <td>000183.bmp</td>\n",
       "      <td>tile002</td>\n",
       "    </tr>\n",
       "    <tr>\n",
       "      <th>24</th>\n",
       "      <td>000184.bmp</td>\n",
       "      <td>canvas005</td>\n",
       "    </tr>\n",
       "    <tr>\n",
       "      <th>25</th>\n",
       "      <td>000185.bmp</td>\n",
       "      <td>carpet006</td>\n",
       "    </tr>\n",
       "    <tr>\n",
       "      <th>26</th>\n",
       "      <td>000186.bmp</td>\n",
       "      <td>sandpaper004</td>\n",
       "    </tr>\n",
       "    <tr>\n",
       "      <th>27</th>\n",
       "      <td>000187.bmp</td>\n",
       "      <td>granite008</td>\n",
       "    </tr>\n",
       "    <tr>\n",
       "      <th>28</th>\n",
       "      <td>000188.bmp</td>\n",
       "      <td>carpet010</td>\n",
       "    </tr>\n",
       "    <tr>\n",
       "      <th>29</th>\n",
       "      <td>000189.bmp</td>\n",
       "      <td>sandpaper007</td>\n",
       "    </tr>\n",
       "    <tr>\n",
       "      <th>...</th>\n",
       "      <td>...</td>\n",
       "      <td>...</td>\n",
       "    </tr>\n",
       "    <tr>\n",
       "      <th>1330</th>\n",
       "      <td>011890.bmp</td>\n",
       "      <td>paper001</td>\n",
       "    </tr>\n",
       "    <tr>\n",
       "      <th>1331</th>\n",
       "      <td>011891.bmp</td>\n",
       "      <td>barleyrice008</td>\n",
       "    </tr>\n",
       "    <tr>\n",
       "      <th>1332</th>\n",
       "      <td>011892.bmp</td>\n",
       "      <td>sandpaper003</td>\n",
       "    </tr>\n",
       "    <tr>\n",
       "      <th>1333</th>\n",
       "      <td>011893.bmp</td>\n",
       "      <td>granite005</td>\n",
       "    </tr>\n",
       "    <tr>\n",
       "      <th>1334</th>\n",
       "      <td>011894.bmp</td>\n",
       "      <td>barleyrice007</td>\n",
       "    </tr>\n",
       "    <tr>\n",
       "      <th>1335</th>\n",
       "      <td>011895.bmp</td>\n",
       "      <td>tile002</td>\n",
       "    </tr>\n",
       "    <tr>\n",
       "      <th>1336</th>\n",
       "      <td>011896.bmp</td>\n",
       "      <td>barleyrice008</td>\n",
       "    </tr>\n",
       "    <tr>\n",
       "      <th>1337</th>\n",
       "      <td>011897.bmp</td>\n",
       "      <td>canvas003</td>\n",
       "    </tr>\n",
       "    <tr>\n",
       "      <th>1338</th>\n",
       "      <td>011898.bmp</td>\n",
       "      <td>tile001</td>\n",
       "    </tr>\n",
       "    <tr>\n",
       "      <th>1339</th>\n",
       "      <td>011899.bmp</td>\n",
       "      <td>carpet008</td>\n",
       "    </tr>\n",
       "    <tr>\n",
       "      <th>1340</th>\n",
       "      <td>012060.bmp</td>\n",
       "      <td>carpet011</td>\n",
       "    </tr>\n",
       "    <tr>\n",
       "      <th>1341</th>\n",
       "      <td>012061.bmp</td>\n",
       "      <td>canvas004</td>\n",
       "    </tr>\n",
       "    <tr>\n",
       "      <th>1342</th>\n",
       "      <td>012062.bmp</td>\n",
       "      <td>canvas025</td>\n",
       "    </tr>\n",
       "    <tr>\n",
       "      <th>1343</th>\n",
       "      <td>012063.bmp</td>\n",
       "      <td>tile002</td>\n",
       "    </tr>\n",
       "    <tr>\n",
       "      <th>1344</th>\n",
       "      <td>012064.bmp</td>\n",
       "      <td>sandpaper002</td>\n",
       "    </tr>\n",
       "    <tr>\n",
       "      <th>1345</th>\n",
       "      <td>012065.bmp</td>\n",
       "      <td>granite005</td>\n",
       "    </tr>\n",
       "    <tr>\n",
       "      <th>1346</th>\n",
       "      <td>012066.bmp</td>\n",
       "      <td>canvas004</td>\n",
       "    </tr>\n",
       "    <tr>\n",
       "      <th>1347</th>\n",
       "      <td>012067.bmp</td>\n",
       "      <td>canvas024</td>\n",
       "    </tr>\n",
       "    <tr>\n",
       "      <th>1348</th>\n",
       "      <td>012068.bmp</td>\n",
       "      <td>canvas021</td>\n",
       "    </tr>\n",
       "    <tr>\n",
       "      <th>1349</th>\n",
       "      <td>012069.bmp</td>\n",
       "      <td>wool001</td>\n",
       "    </tr>\n",
       "    <tr>\n",
       "      <th>1350</th>\n",
       "      <td>012070.bmp</td>\n",
       "      <td>granite009</td>\n",
       "    </tr>\n",
       "    <tr>\n",
       "      <th>1351</th>\n",
       "      <td>012071.bmp</td>\n",
       "      <td>sandpaper007</td>\n",
       "    </tr>\n",
       "    <tr>\n",
       "      <th>1352</th>\n",
       "      <td>012072.bmp</td>\n",
       "      <td>tile004</td>\n",
       "    </tr>\n",
       "    <tr>\n",
       "      <th>1353</th>\n",
       "      <td>012073.bmp</td>\n",
       "      <td>canvas003</td>\n",
       "    </tr>\n",
       "    <tr>\n",
       "      <th>1354</th>\n",
       "      <td>012074.bmp</td>\n",
       "      <td>barleyrice008</td>\n",
       "    </tr>\n",
       "    <tr>\n",
       "      <th>1355</th>\n",
       "      <td>012075.bmp</td>\n",
       "      <td>granite007</td>\n",
       "    </tr>\n",
       "    <tr>\n",
       "      <th>1356</th>\n",
       "      <td>012076.bmp</td>\n",
       "      <td>tile001</td>\n",
       "    </tr>\n",
       "    <tr>\n",
       "      <th>1357</th>\n",
       "      <td>012077.bmp</td>\n",
       "      <td>granite006</td>\n",
       "    </tr>\n",
       "    <tr>\n",
       "      <th>1358</th>\n",
       "      <td>012078.bmp</td>\n",
       "      <td>granite004</td>\n",
       "    </tr>\n",
       "    <tr>\n",
       "      <th>1359</th>\n",
       "      <td>012079.bmp</td>\n",
       "      <td>carpet012</td>\n",
       "    </tr>\n",
       "  </tbody>\n",
       "</table>\n",
       "<p>1360 rows × 2 columns</p>\n",
       "</div>"
      ],
      "text/plain": [
       "        Filename    Predictions\n",
       "0     000000.bmp       paper001\n",
       "1     000001.bmp  barleyrice006\n",
       "2     000002.bmp      canvas020\n",
       "3     000003.bmp   sandpaper007\n",
       "4     000004.bmp      canvas024\n",
       "5     000005.bmp  barleyrice007\n",
       "6     000006.bmp      carpet012\n",
       "7     000007.bmp      canvas024\n",
       "8     000008.bmp      carpet010\n",
       "9     000009.bmp   sandpaper003\n",
       "10    000010.bmp      canvas021\n",
       "11    000011.bmp     granite004\n",
       "12    000012.bmp  barleyrice003\n",
       "13    000013.bmp      canvas002\n",
       "14    000014.bmp      canvas022\n",
       "15    000015.bmp       paper001\n",
       "16    000016.bmp        tile001\n",
       "17    000017.bmp   sandpaper007\n",
       "18    000018.bmp  barleyrice002\n",
       "19    000019.bmp      canvas023\n",
       "20    000180.bmp      carpet010\n",
       "21    000181.bmp     granite009\n",
       "22    000182.bmp      carpet005\n",
       "23    000183.bmp        tile002\n",
       "24    000184.bmp      canvas005\n",
       "25    000185.bmp      carpet006\n",
       "26    000186.bmp   sandpaper004\n",
       "27    000187.bmp     granite008\n",
       "28    000188.bmp      carpet010\n",
       "29    000189.bmp   sandpaper007\n",
       "...          ...            ...\n",
       "1330  011890.bmp       paper001\n",
       "1331  011891.bmp  barleyrice008\n",
       "1332  011892.bmp   sandpaper003\n",
       "1333  011893.bmp     granite005\n",
       "1334  011894.bmp  barleyrice007\n",
       "1335  011895.bmp        tile002\n",
       "1336  011896.bmp  barleyrice008\n",
       "1337  011897.bmp      canvas003\n",
       "1338  011898.bmp        tile001\n",
       "1339  011899.bmp      carpet008\n",
       "1340  012060.bmp      carpet011\n",
       "1341  012061.bmp      canvas004\n",
       "1342  012062.bmp      canvas025\n",
       "1343  012063.bmp        tile002\n",
       "1344  012064.bmp   sandpaper002\n",
       "1345  012065.bmp     granite005\n",
       "1346  012066.bmp      canvas004\n",
       "1347  012067.bmp      canvas024\n",
       "1348  012068.bmp      canvas021\n",
       "1349  012069.bmp        wool001\n",
       "1350  012070.bmp     granite009\n",
       "1351  012071.bmp   sandpaper007\n",
       "1352  012072.bmp        tile004\n",
       "1353  012073.bmp      canvas003\n",
       "1354  012074.bmp  barleyrice008\n",
       "1355  012075.bmp     granite007\n",
       "1356  012076.bmp        tile001\n",
       "1357  012077.bmp     granite006\n",
       "1358  012078.bmp     granite004\n",
       "1359  012079.bmp      carpet012\n",
       "\n",
       "[1360 rows x 2 columns]"
      ]
     },
     "execution_count": 159,
     "metadata": {},
     "output_type": "execute_result"
    }
   ],
   "source": [
    "validation_generator.reset()\n",
    "pred_lenet =model.predict_generator(validation_generator,verbose=1)\n",
    "\n",
    "predicted_class_indices=np.argmax(pred_lenet,axis=1)\n",
    "\n",
    "labels = (train_generator.class_indices)\n",
    "labels = dict((v,k) for k,v in labels.items())\n",
    "predictions = [labels[k] for k in predicted_class_indices]\n",
    "\n",
    "filenames =validation_generator.filenames\n",
    "results = pd.DataFrame({\"Filename\":filenames,\n",
    "                      \"Predictions\":predictions})\n",
    "results"
   ]
  },
  {
   "cell_type": "markdown",
   "metadata": {},
   "source": [
    "Plot again a loss curve showing both training and testing results."
   ]
  },
  {
   "cell_type": "code",
   "execution_count": 160,
   "metadata": {},
   "outputs": [
    {
     "name": "stdout",
     "output_type": "stream",
     "text": [
      "dict_keys(['val_loss', 'val_acc', 'loss', 'acc'])\n"
     ]
    },
    {
     "data": {
      "image/png": "[encoded data removed]",
      "text/plain": [
       "<Figure size 432x288 with 1 Axes>"
      ]
     },
     "metadata": {},
     "output_type": "display_data"
    },
    {
     "data": {
      "image/png": "[encoded data removed]",
      "text/plain": [
       "<Figure size 432x288 with 1 Axes>"
      ]
     },
     "metadata": {},
     "output_type": "display_data"
    }
   ],
   "source": [
    "%matplotlib inline\n",
    "\n",
    "print(history_lenet.history.keys())\n",
    "#  \"Accuracy\"\n",
    "plt.plot(history_lenet.history['acc'])\n",
    "plt.plot(history_lenet.history['val_acc'])\n",
    "plt.title('model accuracy')\n",
    "plt.ylabel('accuracy')\n",
    "plt.xlabel('epoch')\n",
    "plt.legend(['train', 'validation'], loc='upper left')\n",
    "plt.show()\n",
    "# \"Loss\"\n",
    "plt.plot(history_lenet.history['loss'])\n",
    "plt.plot(history_lenet.history['val_loss'])\n",
    "plt.title('model loss')\n",
    "plt.ylabel('loss')\n",
    "plt.xlabel('epoch')\n",
    "plt.legend(['train', 'validation'], loc='upper left')\n",
    "plt.show()"
   ]
  },
  {
   "cell_type": "markdown",
   "metadata": {},
   "source": [
    "### Visualize diferent input or layers by projecting them into 2D with sklearn. manifold.TSNE. \n",
    "I began by using PCA on the dataset to lower the dimensionality. Unfortunally running time took too long to get results. I believe we wouldve seen a color coded plot grouped up. Showing the 68 classes clustered up showing the similarity and differences between the classes. We probabily wouldve seen much overlap between the similar textures (canvas001, canvas002 etc) and major differences between very different textures (rubber001, sandpaper004)"
   ]
  },
  {
   "cell_type": "code",
   "execution_count": null,
   "metadata": {},
   "outputs": [],
   "source": [
    "from sklearn.manifold import TSNE\n",
    "from sklearn.decomposition import PCA\n",
    "\n",
    "# inspired from https://www.datacamp.com/community/tutorials/introduction-t-sne\n",
    "\n",
    "pca = PCA(n_components=2)\n",
    "pca_result = pca.fit_transform(validation_generator_small['col_x'])\n",
    "pca_result\n",
    "\n",
    "principalDf = pd.DataFrame(data = pca_result\n",
    "             , columns = ['principal component 1', 'principal component 2','principal component 3', 'principal component 4'])\n",
    "\n",
    "\n",
    "finalDf = pd.concat([principalDf, validation_generator_small[['col_y']]], axis = 1)\n"
   ]
  },
  {
   "cell_type": "code",
   "execution_count": null,
   "metadata": {},
   "outputs": [],
   "source": [
    "# chose a higher perplexity since the dataset is rather large. Chose a lower number of iterations due to \n",
    "# runtime contraints\n",
    "tsne = TSNE(n_components=2, verbose=1, perplexity=40, n_iter=300)\n",
    "# i chose the smallest data set I have which is the validation set with smaller resolution\n",
    "tsne_results = tsne.fit_transform(finalDf)\n"
   ]
  },
  {
   "cell_type": "code",
   "execution_count": null,
   "metadata": {},
   "outputs": [],
   "source": [
    "figure(figsize=(10, 5))\n",
    "scatter(tsne_results[:, 0], tsne_results[:, 1], c=classes)\n"
   ]
  },
  {
   "cell_type": "markdown",
   "metadata": {},
   "source": [
    "### VGG-16 (no longer on assignment)"
   ]
  },
  {
   "cell_type": "markdown",
   "metadata": {},
   "source": [
    "We adapt the the VGG-16 network for the task. Adding fully-connected layer(s) and a softmax classifier at the output and remove some layers. The model was taking a long time to run so I stopped it after 4 epochs but I believe the algorithm is correct."
   ]
  },
  {
   "cell_type": "code",
   "execution_count": 22,
   "metadata": {},
   "outputs": [
    {
     "name": "stdout",
     "output_type": "stream",
     "text": [
      "Epoch 1/10\n",
      "340/340 [==============================] - 1758s 5s/step - loss: 15.8512 - acc: 0.0142 - val_loss: 15.8902 - val_acc: 0.0141\n",
      "Epoch 2/10\n",
      "340/340 [==============================] - 1744s 5s/step - loss: 15.8811 - acc: 0.0147 - val_loss: 15.8875 - val_acc: 0.0143\n",
      "Epoch 3/10\n",
      "340/340 [==============================] - 1706s 5s/step - loss: 15.8811 - acc: 0.0147 - val_loss: 15.8632 - val_acc: 0.0158\n",
      "Epoch 4/10\n",
      "208/340 [=================>............] - ETA: 10:09 - loss: 15.8832 - acc: 0.0146"
     ]
    },
    {
     "ename": "KeyboardInterrupt",
     "evalue": "",
     "output_type": "error",
     "traceback": [
      "\u001b[0;31m---------------------------------------------------------------------------\u001b[0m",
      "\u001b[0;31mKeyboardInterrupt\u001b[0m                         Traceback (most recent call last)",
      "\u001b[0;32m<ipython-input-22-a3136b83df9e>\u001b[0m in \u001b[0;36m<module>\u001b[0;34m()\u001b[0m\n\u001b[1;32m     32\u001b[0m                     \u001b[0mvalidation_data\u001b[0m\u001b[0;34m=\u001b[0m\u001b[0mvalidation_generator\u001b[0m\u001b[0;34m,\u001b[0m\u001b[0;34m\u001b[0m\u001b[0m\n\u001b[1;32m     33\u001b[0m                     \u001b[0mvalidation_steps\u001b[0m\u001b[0;34m=\u001b[0m\u001b[0mSTEP_SIZE_VALID\u001b[0m\u001b[0;34m,\u001b[0m\u001b[0;34m\u001b[0m\u001b[0m\n\u001b[0;32m---> 34\u001b[0;31m                     \u001b[0mepochs\u001b[0m\u001b[0;34m=\u001b[0m\u001b[0;36m10\u001b[0m\u001b[0;34m\u001b[0m\u001b[0m\n\u001b[0m\u001b[1;32m     35\u001b[0m )\n",
      "\u001b[0;32m~/anaconda2/envs/python3/lib/python3.6/site-packages/keras/legacy/interfaces.py\u001b[0m in \u001b[0;36mwrapper\u001b[0;34m(*args, **kwargs)\u001b[0m\n\u001b[1;32m     89\u001b[0m                 warnings.warn('Update your `' + object_name + '` call to the ' +\n\u001b[1;32m     90\u001b[0m                               'Keras 2 API: ' + signature, stacklevel=2)\n\u001b[0;32m---> 91\u001b[0;31m             \u001b[0;32mreturn\u001b[0m \u001b[0mfunc\u001b[0m\u001b[0;34m(\u001b[0m\u001b[0;34m*\u001b[0m\u001b[0margs\u001b[0m\u001b[0;34m,\u001b[0m \u001b[0;34m**\u001b[0m\u001b[0mkwargs\u001b[0m\u001b[0;34m)\u001b[0m\u001b[0;34m\u001b[0m\u001b[0m\n\u001b[0m\u001b[1;32m     92\u001b[0m         \u001b[0mwrapper\u001b[0m\u001b[0;34m.\u001b[0m\u001b[0m_original_function\u001b[0m \u001b[0;34m=\u001b[0m \u001b[0mfunc\u001b[0m\u001b[0;34m\u001b[0m\u001b[0m\n\u001b[1;32m     93\u001b[0m         \u001b[0;32mreturn\u001b[0m \u001b[0mwrapper\u001b[0m\u001b[0;34m\u001b[0m\u001b[0m\n",
      "\u001b[0;32m~/anaconda2/envs/python3/lib/python3.6/site-packages/keras/engine/training.py\u001b[0m in \u001b[0;36mfit_generator\u001b[0;34m(self, generator, steps_per_epoch, epochs, verbose, callbacks, validation_data, validation_steps, class_weight, max_queue_size, workers, use_multiprocessing, shuffle, initial_epoch)\u001b[0m\n\u001b[1;32m   1416\u001b[0m             \u001b[0muse_multiprocessing\u001b[0m\u001b[0;34m=\u001b[0m\u001b[0muse_multiprocessing\u001b[0m\u001b[0;34m,\u001b[0m\u001b[0;34m\u001b[0m\u001b[0m\n\u001b[1;32m   1417\u001b[0m             \u001b[0mshuffle\u001b[0m\u001b[0;34m=\u001b[0m\u001b[0mshuffle\u001b[0m\u001b[0;34m,\u001b[0m\u001b[0;34m\u001b[0m\u001b[0m\n\u001b[0;32m-> 1418\u001b[0;31m             initial_epoch=initial_epoch)\n\u001b[0m\u001b[1;32m   1419\u001b[0m \u001b[0;34m\u001b[0m\u001b[0m\n\u001b[1;32m   1420\u001b[0m     \u001b[0;34m@\u001b[0m\u001b[0minterfaces\u001b[0m\u001b[0;34m.\u001b[0m\u001b[0mlegacy_generator_methods_support\u001b[0m\u001b[0;34m\u001b[0m\u001b[0m\n",
      "\u001b[0;32m~/anaconda2/envs/python3/lib/python3.6/site-packages/keras/engine/training_generator.py\u001b[0m in \u001b[0;36mfit_generator\u001b[0;34m(model, generator, steps_per_epoch, epochs, verbose, callbacks, validation_data, validation_steps, class_weight, max_queue_size, workers, use_multiprocessing, shuffle, initial_epoch)\u001b[0m\n\u001b[1;32m    215\u001b[0m                 outs = model.train_on_batch(x, y,\n\u001b[1;32m    216\u001b[0m                                             \u001b[0msample_weight\u001b[0m\u001b[0;34m=\u001b[0m\u001b[0msample_weight\u001b[0m\u001b[0;34m,\u001b[0m\u001b[0;34m\u001b[0m\u001b[0m\n\u001b[0;32m--> 217\u001b[0;31m                                             class_weight=class_weight)\n\u001b[0m\u001b[1;32m    218\u001b[0m \u001b[0;34m\u001b[0m\u001b[0m\n\u001b[1;32m    219\u001b[0m                 \u001b[0mouts\u001b[0m \u001b[0;34m=\u001b[0m \u001b[0mto_list\u001b[0m\u001b[0;34m(\u001b[0m\u001b[0mouts\u001b[0m\u001b[0;34m)\u001b[0m\u001b[0;34m\u001b[0m\u001b[0m\n",
      "\u001b[0;32m~/anaconda2/envs/python3/lib/python3.6/site-packages/keras/engine/training.py\u001b[0m in \u001b[0;36mtrain_on_batch\u001b[0;34m(self, x, y, sample_weight, class_weight)\u001b[0m\n\u001b[1;32m   1215\u001b[0m             \u001b[0mins\u001b[0m \u001b[0;34m=\u001b[0m \u001b[0mx\u001b[0m \u001b[0;34m+\u001b[0m \u001b[0my\u001b[0m \u001b[0;34m+\u001b[0m \u001b[0msample_weights\u001b[0m\u001b[0;34m\u001b[0m\u001b[0m\n\u001b[1;32m   1216\u001b[0m         \u001b[0mself\u001b[0m\u001b[0;34m.\u001b[0m\u001b[0m_make_train_function\u001b[0m\u001b[0;34m(\u001b[0m\u001b[0;34m)\u001b[0m\u001b[0;34m\u001b[0m\u001b[0m\n\u001b[0;32m-> 1217\u001b[0;31m         \u001b[0moutputs\u001b[0m \u001b[0;34m=\u001b[0m \u001b[0mself\u001b[0m\u001b[0;34m.\u001b[0m\u001b[0mtrain_function\u001b[0m\u001b[0;34m(\u001b[0m\u001b[0mins\u001b[0m\u001b[0;34m)\u001b[0m\u001b[0;34m\u001b[0m\u001b[0m\n\u001b[0m\u001b[1;32m   1218\u001b[0m         \u001b[0;32mreturn\u001b[0m \u001b[0munpack_singleton\u001b[0m\u001b[0;34m(\u001b[0m\u001b[0moutputs\u001b[0m\u001b[0;34m)\u001b[0m\u001b[0;34m\u001b[0m\u001b[0m\n\u001b[1;32m   1219\u001b[0m \u001b[0;34m\u001b[0m\u001b[0m\n",
      "\u001b[0;32m~/anaconda2/envs/python3/lib/python3.6/site-packages/keras/backend/tensorflow_backend.py\u001b[0m in \u001b[0;36m__call__\u001b[0;34m(self, inputs)\u001b[0m\n\u001b[1;32m   2713\u001b[0m                 \u001b[0;32mreturn\u001b[0m \u001b[0mself\u001b[0m\u001b[0;34m.\u001b[0m\u001b[0m_legacy_call\u001b[0m\u001b[0;34m(\u001b[0m\u001b[0minputs\u001b[0m\u001b[0;34m)\u001b[0m\u001b[0;34m\u001b[0m\u001b[0m\n\u001b[1;32m   2714\u001b[0m \u001b[0;34m\u001b[0m\u001b[0m\n\u001b[0;32m-> 2715\u001b[0;31m             \u001b[0;32mreturn\u001b[0m \u001b[0mself\u001b[0m\u001b[0;34m.\u001b[0m\u001b[0m_call\u001b[0m\u001b[0;34m(\u001b[0m\u001b[0minputs\u001b[0m\u001b[0;34m)\u001b[0m\u001b[0;34m\u001b[0m\u001b[0m\n\u001b[0m\u001b[1;32m   2716\u001b[0m         \u001b[0;32melse\u001b[0m\u001b[0;34m:\u001b[0m\u001b[0;34m\u001b[0m\u001b[0m\n\u001b[1;32m   2717\u001b[0m             \u001b[0;32mif\u001b[0m \u001b[0mpy_any\u001b[0m\u001b[0;34m(\u001b[0m\u001b[0mis_tensor\u001b[0m\u001b[0;34m(\u001b[0m\u001b[0mx\u001b[0m\u001b[0;34m)\u001b[0m \u001b[0;32mfor\u001b[0m \u001b[0mx\u001b[0m \u001b[0;32min\u001b[0m \u001b[0minputs\u001b[0m\u001b[0;34m)\u001b[0m\u001b[0;34m:\u001b[0m\u001b[0;34m\u001b[0m\u001b[0m\n",
      "\u001b[0;32m~/anaconda2/envs/python3/lib/python3.6/site-packages/keras/backend/tensorflow_backend.py\u001b[0m in \u001b[0;36m_call\u001b[0;34m(self, inputs)\u001b[0m\n\u001b[1;32m   2673\u001b[0m             \u001b[0mfetched\u001b[0m \u001b[0;34m=\u001b[0m \u001b[0mself\u001b[0m\u001b[0;34m.\u001b[0m\u001b[0m_callable_fn\u001b[0m\u001b[0;34m(\u001b[0m\u001b[0;34m*\u001b[0m\u001b[0marray_vals\u001b[0m\u001b[0;34m,\u001b[0m \u001b[0mrun_metadata\u001b[0m\u001b[0;34m=\u001b[0m\u001b[0mself\u001b[0m\u001b[0;34m.\u001b[0m\u001b[0mrun_metadata\u001b[0m\u001b[0;34m)\u001b[0m\u001b[0;34m\u001b[0m\u001b[0m\n\u001b[1;32m   2674\u001b[0m         \u001b[0;32melse\u001b[0m\u001b[0;34m:\u001b[0m\u001b[0;34m\u001b[0m\u001b[0m\n\u001b[0;32m-> 2675\u001b[0;31m             \u001b[0mfetched\u001b[0m \u001b[0;34m=\u001b[0m \u001b[0mself\u001b[0m\u001b[0;34m.\u001b[0m\u001b[0m_callable_fn\u001b[0m\u001b[0;34m(\u001b[0m\u001b[0;34m*\u001b[0m\u001b[0marray_vals\u001b[0m\u001b[0;34m)\u001b[0m\u001b[0;34m\u001b[0m\u001b[0m\n\u001b[0m\u001b[1;32m   2676\u001b[0m         \u001b[0;32mreturn\u001b[0m \u001b[0mfetched\u001b[0m\u001b[0;34m[\u001b[0m\u001b[0;34m:\u001b[0m\u001b[0mlen\u001b[0m\u001b[0;34m(\u001b[0m\u001b[0mself\u001b[0m\u001b[0;34m.\u001b[0m\u001b[0moutputs\u001b[0m\u001b[0;34m)\u001b[0m\u001b[0;34m]\u001b[0m\u001b[0;34m\u001b[0m\u001b[0m\n\u001b[1;32m   2677\u001b[0m \u001b[0;34m\u001b[0m\u001b[0m\n",
      "\u001b[0;32m~/anaconda2/envs/python3/lib/python3.6/site-packages/tensorflow/python/client/session.py\u001b[0m in \u001b[0;36m__call__\u001b[0;34m(self, *args)\u001b[0m\n\u001b[1;32m   1449\u001b[0m         \u001b[0;32mif\u001b[0m \u001b[0mself\u001b[0m\u001b[0;34m.\u001b[0m\u001b[0m_session\u001b[0m\u001b[0;34m.\u001b[0m\u001b[0m_created_with_new_api\u001b[0m\u001b[0;34m:\u001b[0m\u001b[0;34m\u001b[0m\u001b[0m\n\u001b[1;32m   1450\u001b[0m           return tf_session.TF_SessionRunCallable(\n\u001b[0;32m-> 1451\u001b[0;31m               self._session._session, self._handle, args, status, None)\n\u001b[0m\u001b[1;32m   1452\u001b[0m         \u001b[0;32melse\u001b[0m\u001b[0;34m:\u001b[0m\u001b[0;34m\u001b[0m\u001b[0m\n\u001b[1;32m   1453\u001b[0m           return tf_session.TF_DeprecatedSessionRunCallable(\n",
      "\u001b[0;31mKeyboardInterrupt\u001b[0m: "
     ]
    }
   ],
   "source": [
    "from keras.applications.vgg16 import VGG16\n",
    "from keras.layers import Dense, Dropout, Activation, Flatten\n",
    "from keras.models import Model\n",
    "\n",
    "\n",
    "vgg16_base = VGG16(weights='imagenet', include_top=False, input_shape=(128,128,3))\n",
    "\n",
    "output = vgg16_base.output\n",
    "\n",
    "#input = Input(shape=(128,128,3),name = 'image_input')\n",
    "\n",
    "#output_vgg16_conv = vgg16_base(input)\n",
    "\n",
    "output = Flatten(name='flatten')(output)\n",
    "output = Dense(4096, activation='relu')(output)\n",
    "output = Dense(4096, activation='relu')(output)\n",
    "output = Dense(68, activation='softmax')(output)\n",
    "\n",
    "model = Model(vgg16_base.input, output)\n",
    "\n",
    "for layer in vgg16_base.layers:\n",
    "   layer.trainable = False\n",
    "\n",
    "model.compile(optimizer='adam',\n",
    "              loss='categorical_crossentropy',\n",
    "              metrics=['accuracy'])\n",
    "\n",
    "STEP_SIZE_TRAIN=train_generator.n//train_generator.batch_size\n",
    "STEP_SIZE_VALID=validation_generator.n//validation_generator.batch_size\n",
    "history_vgg16 = model.fit_generator(generator=train_generator,\n",
    "                    steps_per_epoch=STEP_SIZE_TRAIN,\n",
    "                    validation_data=validation_generator,\n",
    "                    validation_steps=STEP_SIZE_VALID,\n",
    "                    epochs=10\n",
    ")\n",
    "\n"
   ]
  },
  {
   "cell_type": "code",
   "execution_count": 23,
   "metadata": {},
   "outputs": [
    {
     "data": {
      "text/plain": [
       "[15.881064471076517, 0.014705882352941176]"
      ]
     },
     "execution_count": 23,
     "metadata": {},
     "output_type": "execute_result"
    }
   ],
   "source": [
    "model.evaluate_generator(generator=validation_generator)"
   ]
  },
  {
   "cell_type": "markdown",
   "metadata": {},
   "source": [
    "Since I halted the execution above history_vgg16 has no data so it will not produce a plot. However, I expect it to be somewhat simular to the ones above."
   ]
  },
  {
   "cell_type": "code",
   "execution_count": 24,
   "metadata": {},
   "outputs": [
    {
     "ename": "NameError",
     "evalue": "name 'history_vgg16' is not defined",
     "output_type": "error",
     "traceback": [
      "\u001b[0;31m---------------------------------------------------------------------------\u001b[0m",
      "\u001b[0;31mNameError\u001b[0m                                 Traceback (most recent call last)",
      "\u001b[0;32m<ipython-input-24-de649d576840>\u001b[0m in \u001b[0;36m<module>\u001b[0;34m()\u001b[0m\n\u001b[1;32m      1\u001b[0m \u001b[0mget_ipython\u001b[0m\u001b[0;34m(\u001b[0m\u001b[0;34m)\u001b[0m\u001b[0;34m.\u001b[0m\u001b[0mrun_line_magic\u001b[0m\u001b[0;34m(\u001b[0m\u001b[0;34m'matplotlib'\u001b[0m\u001b[0;34m,\u001b[0m \u001b[0;34m'inline'\u001b[0m\u001b[0;34m)\u001b[0m\u001b[0;34m\u001b[0m\u001b[0m\n\u001b[1;32m      2\u001b[0m \u001b[0;34m\u001b[0m\u001b[0m\n\u001b[0;32m----> 3\u001b[0;31m \u001b[0mprint\u001b[0m\u001b[0;34m(\u001b[0m\u001b[0mhistory_vgg16\u001b[0m\u001b[0;34m.\u001b[0m\u001b[0mhistory\u001b[0m\u001b[0;34m.\u001b[0m\u001b[0mkeys\u001b[0m\u001b[0;34m(\u001b[0m\u001b[0;34m)\u001b[0m\u001b[0;34m)\u001b[0m\u001b[0;34m\u001b[0m\u001b[0m\n\u001b[0m\u001b[1;32m      4\u001b[0m \u001b[0;31m#  \"Accuracy\"\u001b[0m\u001b[0;34m\u001b[0m\u001b[0;34m\u001b[0m\u001b[0m\n\u001b[1;32m      5\u001b[0m \u001b[0mplt\u001b[0m\u001b[0;34m.\u001b[0m\u001b[0mplot\u001b[0m\u001b[0;34m(\u001b[0m\u001b[0mhistory_vgg16\u001b[0m\u001b[0;34m.\u001b[0m\u001b[0mhistory\u001b[0m\u001b[0;34m[\u001b[0m\u001b[0;34m'acc'\u001b[0m\u001b[0;34m]\u001b[0m\u001b[0;34m)\u001b[0m\u001b[0;34m\u001b[0m\u001b[0m\n",
      "\u001b[0;31mNameError\u001b[0m: name 'history_vgg16' is not defined"
     ]
    }
   ],
   "source": [
    "%matplotlib inline\n",
    "\n",
    "print(history_vgg16.history.keys())\n",
    "#  \"Accuracy\"\n",
    "plt.plot(history_vgg16.history['acc'])\n",
    "plt.plot(history_vgg16.history['val_acc'])\n",
    "plt.title('model accuracy')\n",
    "plt.ylabel('accuracy')\n",
    "plt.xlabel('epoch')\n",
    "plt.legend(['train', 'validation'], loc='upper left')\n",
    "plt.show()\n",
    "# \"Loss\"\n",
    "plt.plot(history_vgg16.history['loss'])\n",
    "plt.plot(history_vgg16.history['val_loss'])\n",
    "plt.title('model loss')\n",
    "plt.ylabel('loss')\n",
    "plt.xlabel('epoch')\n",
    "plt.legend(['train', 'validation'], loc='upper left')\n",
    "plt.show()"
   ]
  },
  {
   "cell_type": "code",
   "execution_count": null,
   "metadata": {},
   "outputs": [],
   "source": []
  }
 ],
 "metadata": {
  "kernelspec": {
   "display_name": "Python 3",
   "language": "python",
   "name": "python3"
  },
  "language_info": {
   "codemirror_mode": {
    "name": "ipython",
    "version": 3
   },
   "file_extension": ".py",
   "mimetype": "text/x-python",
   "name": "python",
   "nbconvert_exporter": "python",
   "pygments_lexer": "ipython3",
   "version": "3.6.4"
  }
 },
 "nbformat": 4,
 "nbformat_minor": 2
}
