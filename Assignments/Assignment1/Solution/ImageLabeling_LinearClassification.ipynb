{
 "cells": [
  {
   "cell_type": "markdown",
   "metadata": {},
   "source": [
    "**CSI5139 Assignment 1: Image Labelling - Linear Classiﬁcation**\n",
    "\n",
    "In this assignment we use the CMU Image dataset, and train binary and multiclass linear classifier."
   ]
  },
  {
   "cell_type": "markdown",
   "metadata": {},
   "source": [
    "# Setup"
   ]
  },
  {
   "cell_type": "code",
   "execution_count": 1,
   "metadata": {},
   "outputs": [],
   "source": [
    "import pgm2pil\n",
    "import PIL.Image\n",
    "import numpy as np\n",
    "import os\n",
    "from scipy import misc\n",
    "from pprint import pprint\n",
    "import imageio\n",
    "import matplotlib.pyplot as plt\n",
    "\n",
    "from sklearn.metrics import accuracy_score\n",
    "from sklearn.metrics import precision_score, recall_score, f1_score, confusion_matrix\n",
    "from sklearn.model_selection import cross_val_predict\n",
    "from sklearn.metrics import roc_curve\n",
    "from sklearn.preprocessing import LabelEncoder\n",
    "from sklearn.multiclass import OneVsOneClassifier, OneVsRestClassifier\n",
    "\n",
    "# models\n",
    "from sklearn.linear_model import SGDClassifier\n",
    "from sklearn.linear_model import LogisticRegression\n",
    "from sklearn.linear_model import Ridge\n",
    "from sklearn.neighbors import KNeighborsClassifier\n",
    "from sklearn.neural_network import MLPClassifier\n",
    "from sklearn.svm import SVC\n",
    "from sklearn.svm import LinearSVC\n",
    "from sklearn.ensemble import RandomForestClassifier\n",
    "from sklearn.discriminant_analysis import QuadraticDiscriminantAnalysis\n",
    "from sklearn.naive_bayes import GaussianNB\n",
    "\n",
    "from skimage.filters import roberts, sobel, prewitt\n",
    "\n",
    "origImageOpen = PIL.Image.open\n",
    "PIL.Image.open = pgm2pil.imageOpenWrapper"
   ]
  },
  {
   "cell_type": "code",
   "execution_count": 2,
   "metadata": {},
   "outputs": [],
   "source": [
    "# to make this notebook's output stable across runs\n",
    "np.random.seed(42)"
   ]
  },
  {
   "cell_type": "markdown",
   "metadata": {},
   "source": [
    "# CMU Image dataset"
   ]
  },
  {
   "cell_type": "code",
   "execution_count": 3,
   "metadata": {},
   "outputs": [],
   "source": [
    "def appendArray(images, labels, image, label):\n",
    "    label = np.array([label])\n",
    "    image = image.reshape(1, -1)\n",
    "    if images is None:\n",
    "        images = image\n",
    "        labels = label\n",
    "    else:\n",
    "        images = np.r_[images, image]\n",
    "        labels = np.r_[labels, label]\n",
    "    \n",
    "    return [images, labels]"
   ]
  },
  {
   "cell_type": "code",
   "execution_count": 4,
   "metadata": {},
   "outputs": [
    {
     "name": "stdout",
     "output_type": "stream",
     "text": [
      "array([[34.326923 ,  3.2692308,  1.6346154, ..., 80.09615  , 40.865383 ,\n",
      "         0.       ],\n",
      "       [ 0.       ,  0.       ,  0.       , ...,  3.227848 ,  0.       ,\n",
      "         0.       ],\n",
      "       [34.326923 ,  3.2692308,  0.       , ...,  6.5384617,  1.6346154,\n",
      "         0.       ],\n",
      "       ...,\n",
      "       [ 0.       ,  0.       ,  7.0833335, ..., 69.0625   , 69.0625   ,\n",
      "        67.291664 ],\n",
      "       [ 0.       ,  0.       ,  7.2340426, ..., 68.723404 , 66.914894 ,\n",
      "        65.106384 ],\n",
      "       [ 0.       ,  0.       ,  8.916084 , ..., 71.328674 , 69.545456 ,\n",
      "        67.76224  ]], dtype=float32)\n",
      "array([['an2i', 'left', 'angry', 'open'],\n",
      "       ['an2i', 'left', 'angry', 'sunglasses'],\n",
      "       ['an2i', 'left', 'happy', 'open'],\n",
      "       ...,\n",
      "       ['tammo', 'up', 'neutral', 'sunglasses'],\n",
      "       ['tammo', 'up', 'sad', 'open'],\n",
      "       ['tammo', 'up', 'sad', 'sunglasses']], dtype='<U10')\n",
      "# A1:  624\n",
      "# A1[0]:  15360\n",
      "# Y1:  624\n",
      "# A2:  624\n",
      "# A2[0]:  3840\n",
      "# Y2:  624\n",
      "# A4:  624\n",
      "# A4[0]:  960\n",
      "# Y4:  624\n"
     ]
    }
   ],
   "source": [
    "folder = 'datasets/faces/'\n",
    "folders = [x[0] for x in os.walk(folder)]\n",
    "folders = folders[1:]\n",
    "\n",
    "A1, A2, A4 = None, None, None\n",
    "Y1, Y2, Y4 = None, None, None\n",
    "for fld in folders:\n",
    "    for file in os.listdir(fld):\n",
    "        labels = file\n",
    "        file = os.path.join(fld, file)\n",
    "        \n",
    "        # handle .bad files\n",
    "        if file.endswith('.pgm'):\n",
    "\n",
    "            image = PIL.Image.open(file)\n",
    "            image = np.array(image)\n",
    "            \n",
    "            # get target person, head pose, facial expression, sunglasses state\n",
    "            labels = labels.split('.')\n",
    "            labels = labels[0].split('_')\n",
    "\n",
    "            # sort resolution\n",
    "            if len(labels) == 4:\n",
    "                A1, Y1 = appendArray(A1, Y1, image, labels)\n",
    "            elif len(labels) == 5:\n",
    "                res = labels[-1]\n",
    "                labels = labels[:-1]\n",
    "                if res == '2':\n",
    "                    A2, Y2 = appendArray(A2, Y2, image, labels)\n",
    "                elif res == '4':\n",
    "                    A4, Y4 = appendArray(A4, Y4, image, labels)     \n",
    "\n",
    "pprint(A1)\n",
    "pprint(Y1)\n",
    "print(\"# A1: \", len(A1))\n",
    "print(\"# A1[0]: \", len(A1[0]))\n",
    "print(\"# Y1: \", len(Y1))\n",
    "print(\"# A2: \", len(A2))\n",
    "print(\"# A2[0]: \", len(A2[0]))\n",
    "print(\"# Y2: \", len(Y2))\n",
    "print(\"# A4: \", len(A4))\n",
    "print(\"# A4[0]: \", len(A4[0]))\n",
    "print(\"# Y4: \", len(Y4))"
   ]
  },
  {
   "cell_type": "markdown",
   "metadata": {},
   "source": [
    "Use the matplotlib library to plot the image as a grayscale image with pyplot. Find images labeled sunglasses of different resolutions.   "
   ]
  },
  {
   "cell_type": "code",
   "execution_count": 5,
   "metadata": {},
   "outputs": [
    {
     "name": "stdout",
     "output_type": "stream",
     "text": [
      "There are 311 images that are labeled sunglasses\n"
     ]
    },
    {
     "data": {
      "image/png": "[encoded data removed]",
      "text/plain": [
       "<Figure size 432x288 with 1 Axes>"
      ]
     },
     "metadata": {},
     "output_type": "display_data"
    },
    {
     "data": {
      "image/png": "[encoded data removed]",
      "text/plain": [
       "<Figure size 432x288 with 1 Axes>"
      ]
     },
     "metadata": {},
     "output_type": "display_data"
    },
    {
     "data": {
      "image/png": "[encoded data removed]",
      "text/plain": [
       "<Figure size 432x288 with 1 Axes>"
      ]
     },
     "metadata": {},
     "output_type": "display_data"
    }
   ],
   "source": [
    "indexSung = np.where(Y1=='sunglasses')[0]\n",
    "print('There are {0} images that are labeled sunglasses'.format(indexSung.shape[0]))\n",
    "\n",
    "# randomly pick an image\n",
    "np.random.seed(42)\n",
    "pick = indexSung[np.random.choice(indexSung.shape[0])]\n",
    "sung1, sung2, sung4 = A1[pick,:], A2[pick,:], A4[pick,:]\n",
    "# reshape into a matrix\n",
    "sung1_image, sung2_image, sung4_image = sung1.reshape(120, 128), sung2.reshape(60, 64), sung4.reshape(30, 32)\n",
    "plt.ion() \n",
    "plt.imshow(sung1_image, cmap=plt.cm.gray)\n",
    "plt.show()\n",
    "plt.imshow(sung2_image, cmap=plt.cm.gray)\n",
    "plt.show()\n",
    "plt.imshow(sung4_image, cmap=plt.cm.gray)\n",
    "plt.show()"
   ]
  },
  {
   "cell_type": "markdown",
   "metadata": {},
   "source": [
    "# Test and Training Data\n",
    "\n",
    "Split data into test and training data after re-shuffling the data. Split into 80/20 splits, ie 500/124 given 624 data instances."
   ]
  },
  {
   "cell_type": "code",
   "execution_count": 6,
   "metadata": {},
   "outputs": [
    {
     "name": "stdout",
     "output_type": "stream",
     "text": [
      "446\n"
     ]
    }
   ],
   "source": [
    "np.random.seed(42)\n",
    "shuffle_index = np.random.permutation(624)\n",
    "print(shuffle_index[0])\n",
    "# reshuffle the data and use 500 samples as training and 124 as test\n",
    "A1train, A1test, Y1train, Y1test = A1[shuffle_index[:500],:], A1[shuffle_index[500:],:], Y1[shuffle_index[:500]], Y1[shuffle_index[500:]]\n",
    "A2train, A2test, Y2train, Y2test = A2[shuffle_index[:500],:], A2[shuffle_index[500:],:], Y2[shuffle_index[:500]], Y2[shuffle_index[500:]]\n",
    "A4train, A4test, Y4train, Y4test = A4[shuffle_index[:500],:], A4[shuffle_index[500:],:], Y4[shuffle_index[:500]], Y4[shuffle_index[500:]]"
   ]
  },
  {
   "cell_type": "markdown",
   "metadata": {},
   "source": [
    "# Binary Classifier\n",
    "Use A4 to train a logistic regression classiﬁer for the class sunglasses vs. open. Find and print the confusion matrix, the accuracy, the recall and the precision of your classiﬁer based on the training data, as well as on the testing data. Print the ROC curve."
   ]
  },
  {
   "cell_type": "code",
   "execution_count": 7,
   "metadata": {},
   "outputs": [
    {
     "name": "stdout",
     "output_type": "stream",
     "text": [
      "We have a training set with 248 images of sunglasses, and a test set with 63\n"
     ]
    }
   ],
   "source": [
    "Y4train_sung = (Y4train == 'sunglasses')[:,3]\n",
    "Y4test_sung = (Y4test == 'sunglasses')[:,3]\n",
    "\n",
    "print('We have a training set with {0} images of sunglasses, and a test set with {1}'.format(sum(Y4train_sung),sum(Y4test_sung)))\n"
   ]
  },
  {
   "cell_type": "code",
   "execution_count": 8,
   "metadata": {},
   "outputs": [
    {
     "name": "stderr",
     "output_type": "stream",
     "text": [
      "D:\\Anaconda3\\envs\\tensorflow\\lib\\site-packages\\sklearn\\linear_model\\logistic.py:432: FutureWarning: Default solver will be changed to 'lbfgs' in 0.22. Specify a solver to silence this warning.\n",
      "  FutureWarning)\n"
     ]
    },
    {
     "name": "stdout",
     "output_type": "stream",
     "text": [
      "[LibLinear]"
     ]
    },
    {
     "data": {
      "text/plain": [
       "LogisticRegression(C=1.0, class_weight=None, dual=False, fit_intercept=True,\n",
       "          intercept_scaling=1, max_iter=50, multi_class='warn',\n",
       "          n_jobs=None, penalty='l2', random_state=None, solver='warn',\n",
       "          tol=0.0001, verbose=True, warm_start=False)"
      ]
     },
     "execution_count": 8,
     "metadata": {},
     "output_type": "execute_result"
    }
   ],
   "source": [
    "bin_clf = LogisticRegression(max_iter=50, verbose=True)\n",
    "bin_clf.fit(A4train, Y4train_sung)"
   ]
  },
  {
   "cell_type": "markdown",
   "metadata": {},
   "source": [
    "Pick a sunglasses out of the training set and see what our classifier predicts."
   ]
  },
  {
   "cell_type": "code",
   "execution_count": 9,
   "metadata": {},
   "outputs": [
    {
     "data": {
      "image/png": "[encoded data removed]",
      "text/plain": [
       "<Figure size 432x288 with 1 Axes>"
      ]
     },
     "metadata": {},
     "output_type": "display_data"
    },
    {
     "name": "stdout",
     "output_type": "stream",
     "text": [
      "Classifier prediction is [ True] that the image is a sunglasses\n"
     ]
    }
   ],
   "source": [
    "indexSung = np.where(Y4=='sunglasses')[0]\n",
    "# randomly pick an image\n",
    "np.random.seed(42)\n",
    "pick = indexSung[np.random.choice(indexSung.shape[0])]\n",
    "sung4 = A4[pick,:]\n",
    "# reshape into a matrix\n",
    "sung4_image = sung4.reshape(30, 32)\n",
    "plt.ion() \n",
    "plt.imshow(sung4_image, cmap=plt.cm.gray)\n",
    "plt.show()\n",
    "\n",
    "print('Classifier prediction is {0} that the image is a sunglasses'.format(bin_clf.predict([sung4])))"
   ]
  },
  {
   "cell_type": "markdown",
   "metadata": {},
   "source": [
    "Calculate accuracy"
   ]
  },
  {
   "cell_type": "code",
   "execution_count": 10,
   "metadata": {},
   "outputs": [
    {
     "name": "stdout",
     "output_type": "stream",
     "text": [
      "Classifier accuracy on the training set is 1.0 \n",
      "Classifier accuracy on the test set is 0.8951612903225806 \n"
     ]
    }
   ],
   "source": [
    "Y4pred_train = bin_clf.predict(A4train)\n",
    "print('Classifier accuracy on the training set is {0} '.format(accuracy_score(Y4train_sung, Y4pred_train)))\n",
    "\n",
    "Y4pred_test = bin_clf.predict(A4test)\n",
    "print('Classifier accuracy on the test set is {0} '.format(accuracy_score(Y4test_sung, Y4pred_test)))"
   ]
  },
  {
   "cell_type": "markdown",
   "metadata": {},
   "source": [
    "Calculate precision, recall and the f1 score; easy to crunch numbers ourselves but its built in. And the confusion matrix."
   ]
  },
  {
   "cell_type": "code",
   "execution_count": 11,
   "metadata": {},
   "outputs": [
    {
     "name": "stdout",
     "output_type": "stream",
     "text": [
      "Classifier scores on training set: \n",
      "Precision is 1.0 \n",
      "Recall is 1.0 \n",
      "F1 is 1.0 \n",
      "And the confusion matrix: \n",
      " [[252   0]\n",
      " [  0 248]]\n",
      "\n",
      "Classifier scores on test set: \n",
      "Precision is 0.890625 \n",
      "Recall is 0.9047619047619048 \n",
      "F1 is 0.8976377952755906 \n",
      "And the confusion matrix: \n",
      " [[54  7]\n",
      " [ 6 57]]\n"
     ]
    }
   ],
   "source": [
    "print('Classifier scores on training set: ')\n",
    "print('Precision is {0} '.format(precision_score(Y4train_sung, Y4pred_train)))\n",
    "print('Recall is {0} '.format(recall_score(Y4train_sung, Y4pred_train)))\n",
    "print('F1 is {0} '.format(f1_score(Y4train_sung, Y4pred_train)))\n",
    "\n",
    "print( 'And the confusion matrix: \\n {0}'.format(confusion_matrix(Y4train_sung, Y4pred_train) ))\n",
    "\n",
    "print()\n",
    "print('Classifier scores on test set: ')\n",
    "print('Precision is {0} '.format(precision_score(Y4test_sung, Y4pred_test)))\n",
    "print('Recall is {0} '.format(recall_score(Y4test_sung, Y4pred_test)))\n",
    "print('F1 is {0} '.format(f1_score(Y4test_sung, Y4pred_test)))\n",
    "\n",
    "print( 'And the confusion matrix: \\n {0}'.format(confusion_matrix(Y4test_sung, Y4pred_test) ))"
   ]
  },
  {
   "cell_type": "code",
   "execution_count": 12,
   "metadata": {},
   "outputs": [
    {
     "name": "stderr",
     "output_type": "stream",
     "text": [
      "D:\\Anaconda3\\envs\\tensorflow\\lib\\site-packages\\sklearn\\linear_model\\logistic.py:432: FutureWarning: Default solver will be changed to 'lbfgs' in 0.22. Specify a solver to silence this warning.\n",
      "  FutureWarning)\n",
      "D:\\Anaconda3\\envs\\tensorflow\\lib\\site-packages\\sklearn\\linear_model\\logistic.py:432: FutureWarning: Default solver will be changed to 'lbfgs' in 0.22. Specify a solver to silence this warning.\n",
      "  FutureWarning)\n"
     ]
    },
    {
     "name": "stdout",
     "output_type": "stream",
     "text": [
      "[LibLinear][LibLinear]"
     ]
    },
    {
     "name": "stderr",
     "output_type": "stream",
     "text": [
      "D:\\Anaconda3\\envs\\tensorflow\\lib\\site-packages\\sklearn\\linear_model\\logistic.py:432: FutureWarning: Default solver will be changed to 'lbfgs' in 0.22. Specify a solver to silence this warning.\n",
      "  FutureWarning)\n"
     ]
    },
    {
     "name": "stdout",
     "output_type": "stream",
     "text": [
      "[LibLinear]"
     ]
    },
    {
     "data": {
      "text/plain": [
       "Text(0,0.5,'Count')"
      ]
     },
     "execution_count": 12,
     "metadata": {},
     "output_type": "execute_result"
    },
    {
     "data": {
      "image/png": "[encoded data removed]",
      "text/plain": [
       "<Figure size 432x288 with 1 Axes>"
      ]
     },
     "metadata": {},
     "output_type": "display_data"
    }
   ],
   "source": [
    "y_scores = cross_val_predict(bin_clf, A4train, Y4train_sung, cv=3, method=\"decision_function\")\n",
    "n, bins, patches = plt.hist(y_scores, 100)\n",
    "\n",
    "plt.xlabel('Decision treshold for each training sample')\n",
    "plt.ylabel('Count')"
   ]
  },
  {
   "cell_type": "code",
   "execution_count": 13,
   "metadata": {},
   "outputs": [],
   "source": [
    "# hack to work around issue #9589 in Scikit-Learn 0.19.0\n",
    "if y_scores.ndim == 2:\n",
    "    y_scores = y_scores[:, 1]"
   ]
  },
  {
   "cell_type": "code",
   "execution_count": 14,
   "metadata": {},
   "outputs": [],
   "source": [
    "fpr, tpr, thresholds = roc_curve(Y4train_sung, y_scores)"
   ]
  },
  {
   "cell_type": "code",
   "execution_count": 15,
   "metadata": {},
   "outputs": [
    {
     "data": {
      "image/png": "[encoded data removed]",
      "text/plain": [
       "<Figure size 576x432 with 1 Axes>"
      ]
     },
     "metadata": {},
     "output_type": "display_data"
    }
   ],
   "source": [
    "def plot_roc_curve(fpr, tpr, label=None):\n",
    "    plt.plot(fpr, tpr, linewidth=2, label=label)\n",
    "    plt.plot([0, 1], [0, 1], 'k--')\n",
    "    plt.axis([0, 1, 0, 1])\n",
    "    plt.xlabel('False Positive Rate', fontsize=16)\n",
    "    plt.ylabel('True Positive Rate', fontsize=16)\n",
    "\n",
    "plt.figure(figsize=(8, 6))\n",
    "plot_roc_curve(fpr, tpr)\n",
    "plt.show()"
   ]
  },
  {
   "cell_type": "markdown",
   "metadata": {},
   "source": [
    "# Multiclass classifier"
   ]
  },
  {
   "cell_type": "code",
   "execution_count": 16,
   "metadata": {},
   "outputs": [
    {
     "name": "stdout",
     "output_type": "stream",
     "text": [
      "Classes: ['left' 'right' 'straight' 'up']\n",
      "First 10 train   :  ['up' 'up' 'straight' 'right' 'left' 'left' 'right' 'up' 'straight']\n",
      "First 10 train enc:  [3 3 2 1 0 0 1 3 2]\n",
      "First 10 test    :  ['straight' 'up' 'left' 'left' 'straight' 'up' 'right' 'right' 'right']\n",
      "First 10 test enc:  [2 3 0 0 2 3 1 1 1]\n"
     ]
    }
   ],
   "source": [
    "le = LabelEncoder()\n",
    "le.fit(Y4[:,1])\n",
    "Y4train_poses = le.transform(Y4train[:,1])\n",
    "Y4test_poses = le.transform(Y4test[:,1])\n",
    "print(\"Classes:\", le.classes_)\n",
    "print(\"First 10 train   : \", Y4train[:,1][1:10])\n",
    "print(\"First 10 train enc: \", Y4train_poses[1:10])\n",
    "print(\"First 10 test    : \", Y4test[:,1][1:10])\n",
    "print(\"First 10 test enc: \", Y4test_poses[1:10])"
   ]
  },
  {
   "cell_type": "code",
   "execution_count": 17,
   "metadata": {},
   "outputs": [
    {
     "name": "stderr",
     "output_type": "stream",
     "text": [
      "[Parallel(n_jobs=1)]: Using backend SequentialBackend with 1 concurrent workers.\n",
      "[Parallel(n_jobs=1)]: Done   1 out of   1 | elapsed:    0.5s finished\n"
     ]
    },
    {
     "data": {
      "text/plain": [
       "LogisticRegression(C=1.0, class_weight=None, dual=False, fit_intercept=True,\n",
       "          intercept_scaling=1, max_iter=500, multi_class='multinomial',\n",
       "          n_jobs=None, penalty='l2', random_state=None, solver='lbfgs',\n",
       "          tol=0.0001, verbose=True, warm_start=False)"
      ]
     },
     "execution_count": 17,
     "metadata": {},
     "output_type": "execute_result"
    }
   ],
   "source": [
    "mul_clf = LogisticRegression(max_iter=500, multi_class='multinomial', solver='lbfgs', verbose=True)\n",
    "mul_clf.fit(A4train, Y4train_poses)"
   ]
  },
  {
   "cell_type": "code",
   "execution_count": 18,
   "metadata": {},
   "outputs": [
    {
     "name": "stdout",
     "output_type": "stream",
     "text": [
      "Classifier accuracy on the training set is 1.0 \n",
      "Classifier accuracy on the test set is 0.9354838709677419 \n"
     ]
    }
   ],
   "source": [
    "Y4pred_train = mul_clf.predict(A4train)\n",
    "print('Classifier accuracy on the training set is {0} '.format(accuracy_score(Y4train_poses, Y4pred_train)))\n",
    "\n",
    "Y4pred_test = mul_clf.predict(A4test)\n",
    "print('Classifier accuracy on the test set is {0} '.format(accuracy_score(Y4test_poses, Y4pred_test)))"
   ]
  },
  {
   "cell_type": "code",
   "execution_count": 19,
   "metadata": {},
   "outputs": [
    {
     "name": "stdout",
     "output_type": "stream",
     "text": [
      "The confusion matrix on train set: \n",
      " [[127   0   0   0]\n",
      " [  0 126   0   0]\n",
      " [  0   0 127   0]\n",
      " [  0   0   0 120]]\n",
      "The confusion matrix on test set: \n",
      " [[29  0  1  0]\n",
      " [ 0 27  2  0]\n",
      " [ 0  0 28  1]\n",
      " [ 0  0  4 32]]\n"
     ]
    }
   ],
   "source": [
    "conf_mx_train = confusion_matrix(Y4train_poses, Y4pred_train)\n",
    "conf_mx_test = confusion_matrix(Y4test_poses, Y4pred_test) \n",
    "print( 'The confusion matrix on train set: \\n {0}'.format(conf_mx_train))\n",
    "print( 'The confusion matrix on test set: \\n {0}'.format(conf_mx_test))"
   ]
  },
  {
   "cell_type": "code",
   "execution_count": 20,
   "metadata": {},
   "outputs": [],
   "source": [
    "def plot_confusion_matrix(matrix):\n",
    "    \"\"\"If you prefer color and a colorbar\"\"\"\n",
    "    fig = plt.figure(figsize=(8,8))\n",
    "    ax = fig.add_subplot(111)\n",
    "    cax = ax.matshow(matrix)\n",
    "    fig.colorbar(cax)"
   ]
  },
  {
   "cell_type": "code",
   "execution_count": 21,
   "metadata": {},
   "outputs": [
    {
     "data": {
      "image/png": "[encoded data removed]",
      "text/plain": [
       "<Figure size 576x576 with 2 Axes>"
      ]
     },
     "metadata": {},
     "output_type": "display_data"
    }
   ],
   "source": [
    "row_sums = conf_mx_test.sum(axis=1, keepdims=True)\n",
    "norm_conf_mx = conf_mx_test / row_sums\n",
    "np.fill_diagonal(norm_conf_mx, 0)\n",
    "# plt.matshow(norm_conf_mx, cmap=plt.cm.gray)\n",
    "plot_confusion_matrix(norm_conf_mx)\n",
    "plt.show()"
   ]
  },
  {
   "cell_type": "markdown",
   "metadata": {},
   "source": [
    "From the confusion matrix above, the ordering of the poses is \\['left' 'right' 'straight' 'up'\\]. The classifier has the most difficulty with the pose 'straight'. All poses 'left', 'right' and 'up' get mistaken for 'straight' at least once, where pose 'up' gets interpreted as 'straight' the most. We also see that the pose 'straight' gets interpreted as 'up' once as well."
   ]
  },
  {
   "cell_type": "markdown",
   "metadata": {},
   "source": [
    "# Expression Classiﬁction "
   ]
  },
  {
   "cell_type": "markdown",
   "metadata": {},
   "source": [
    "Try to zoom in on the mouth. Depending on the pose, zoom in on different rows and columns."
   ]
  },
  {
   "cell_type": "code",
   "execution_count": 22,
   "metadata": {},
   "outputs": [
    {
     "name": "stdout",
     "output_type": "stream",
     "text": [
      "Classes: ['angry' 'happy' 'neutral' 'sad']\n",
      "First 10 train   :  ['neutral' 'angry' 'neutral' 'neutral' 'happy' 'happy' 'neutral' 'happy'\n",
      " 'angry']\n",
      "First 10 train enc:  [0 2 2 1 1 2 1 0]\n",
      "First 10 test    :  ['angry' 'neutral' 'neutral' 'neutral' 'happy' 'angry' 'sad' 'angry' 'sad']\n",
      "First 10 test enc:  [2 2 2 1 0 3 0 3]\n"
     ]
    }
   ],
   "source": [
    "# try to just zoom in on the mouth\n",
    "\n",
    "indexStraightTrain = np.where(Y1train=='straight')[0]\n",
    "indexRightTrain = np.where(Y1train=='right')[0]\n",
    "indexLeftTrain = np.where(Y1train=='left')[0]\n",
    "indexUpTrain = np.where(Y1train=='up')[0]\n",
    "\n",
    "indexStraightTest = np.where(Y1test=='straight')[0]\n",
    "indexRightTest = np.where(Y1test=='right')[0]\n",
    "indexLeftTest = np.where(Y1test=='left')[0]\n",
    "indexUpTest = np.where(Y1test=='up')[0]\n",
    "\n",
    "row1, row2 = 60, 90\n",
    "col1, col2 = 30, 90\n",
    "\n",
    "A1train_temp = A1train.reshape(len(A1train),120,128)\n",
    "A1train_zoom = np.zeros((len(A1train), (row2-row1)*(col2-col1)))\n",
    "for i, val in enumerate(A1train_temp):\n",
    "    if i in indexStraightTrain:\n",
    "        t = A1train_temp[i,row1:row2,col1:col2]\n",
    "    elif i in indexRightTrain:\n",
    "        t = A1train_temp[i,row1:row2,(col1-20):(col2-20)]\n",
    "    elif i in indexLeftTrain:\n",
    "        t = A1train_temp[i,row1:row2,(col1+20):(col2+20)]\n",
    "    elif i in indexUpTrain:\n",
    "        t = A1train_temp[i,(row1-15):(row2-15),col1:col2]\n",
    "        \n",
    "    t = t.reshape((row2-row1)*(col2-col1))\n",
    "    A1train_zoom[i] = t\n",
    "\n",
    "A1test_temp = A1test.reshape(len(A1test),120,128)\n",
    "A1test_zoom = np.zeros((len(Y1test), (row2-row1)*(col2-col1)))\n",
    "for i, val in enumerate(A1test_temp):\n",
    "    if i in indexStraightTrain:\n",
    "        t = A1test_temp[i,row1:row2,col1:col2]\n",
    "    elif i in indexRightTrain:\n",
    "        t = A1test_temp[i,row1:row2,(col1-20):(col2-20)]\n",
    "    elif i in indexLeftTrain:\n",
    "        t = A1test_temp[i,row1:row2,(col1+20):(col2+20)]\n",
    "    elif i in indexUpTrain:\n",
    "        t = A1test_temp[i,(row1-20):(row2-20),col1:col2]\n",
    "        \n",
    "    t = t.reshape((row2-row1)*(col2-col1))\n",
    "    A1test_zoom[i] = t\n",
    "    \n",
    "le = LabelEncoder()\n",
    "le.fit(Y1[:,2])\n",
    "Y1train_exp = le.transform(Y1train[:,2])\n",
    "Y1test_exp = le.transform(Y1test[:,2])\n",
    "#print(\"# train set: \", len(Y1train_exp))\n",
    "#print(\"# test set:\", len(Y1test_exp))\n",
    "print(\"Classes:\", le.classes_)\n",
    "print(\"First 10 train   : \", Y1train[:,2][1:10])\n",
    "print(\"First 10 train enc: \", Y1train_exp[2:10])\n",
    "print(\"First 10 test    : \", Y1test[:,2][1:10])\n",
    "print(\"First 10 test enc: \", Y1test_exp[2:10])"
   ]
  },
  {
   "cell_type": "markdown",
   "metadata": {},
   "source": [
    "Find images labeled angry, happy, neutral, sad."
   ]
  },
  {
   "cell_type": "code",
   "execution_count": 23,
   "metadata": {},
   "outputs": [
    {
     "data": {
      "image/png": "[encoded data removed]",
      "text/plain": [
       "<Figure size 432x288 with 1 Axes>"
      ]
     },
     "metadata": {},
     "output_type": "display_data"
    }
   ],
   "source": [
    "indexAngry = np.where(Y1train=='happy')[0]\n",
    "# randomly pick an image\n",
    "pick = indexAngry[np.random.choice(indexAngry.shape[0])]\n",
    "angry4 = A1train_zoom[pick,:]\n",
    "# reshape into a matrix\n",
    "#angry4_image = angry4.reshape(120, 128)\n",
    "angry4_image = angry4.reshape(row2-row1, col2-col1)\n",
    "plt.ion() \n",
    "plt.imshow(angry4_image, cmap=plt.cm.gray)\n",
    "plt.show()"
   ]
  },
  {
   "cell_type": "markdown",
   "metadata": {},
   "source": [
    "### Try CNN algorithm"
   ]
  },
  {
   "cell_type": "code",
   "execution_count": 27,
   "metadata": {},
   "outputs": [
    {
     "name": "stdout",
     "output_type": "stream",
     "text": [
      "x_train shape: (500, 30, 60, 1)\n",
      "500 train samples\n",
      "124 test samples\n",
      "Train on 500 samples, validate on 124 samples\n",
      "Epoch 1/50\n",
      "500/500 [==============================] - 21s 43ms/step - loss: 1.4319 - acc: 0.2000 - val_loss: 1.3877 - val_acc: 0.2097\n",
      "Epoch 2/50\n",
      "500/500 [==============================] - 1s 2ms/step - loss: 1.3976 - acc: 0.2500 - val_loss: 1.3897 - val_acc: 0.2258\n",
      "Epoch 3/50\n",
      "500/500 [==============================] - 1s 2ms/step - loss: 1.3876 - acc: 0.2660 - val_loss: 1.4988 - val_acc: 0.2581\n",
      "Epoch 4/50\n",
      "500/500 [==============================] - 1s 2ms/step - loss: 1.3826 - acc: 0.2700 - val_loss: 1.4028 - val_acc: 0.1613\n",
      "Epoch 5/50\n",
      "500/500 [==============================] - 1s 2ms/step - loss: 1.3408 - acc: 0.3720 - val_loss: 1.4284 - val_acc: 0.2016\n",
      "Epoch 6/50\n",
      "500/500 [==============================] - 1s 2ms/step - loss: 1.3194 - acc: 0.3680 - val_loss: 1.4454 - val_acc: 0.1935\n",
      "Epoch 7/50\n",
      "500/500 [==============================] - 1s 2ms/step - loss: 1.2708 - acc: 0.4440 - val_loss: 1.5176 - val_acc: 0.2177\n",
      "Epoch 8/50\n",
      "500/500 [==============================] - 1s 2ms/step - loss: 1.2026 - acc: 0.4940 - val_loss: 1.5427 - val_acc: 0.2016\n",
      "Epoch 9/50\n",
      "500/500 [==============================] - 1s 2ms/step - loss: 1.0944 - acc: 0.5380 - val_loss: 1.6456 - val_acc: 0.2419\n",
      "Epoch 10/50\n",
      "500/500 [==============================] - 1s 2ms/step - loss: 1.0312 - acc: 0.5900 - val_loss: 1.7342 - val_acc: 0.2097\n",
      "Epoch 11/50\n",
      "500/500 [==============================] - 1s 2ms/step - loss: 0.9349 - acc: 0.6500 - val_loss: 1.9072 - val_acc: 0.2097\n",
      "Epoch 12/50\n",
      "500/500 [==============================] - 1s 2ms/step - loss: 0.8834 - acc: 0.6700 - val_loss: 1.9529 - val_acc: 0.2097\n",
      "Epoch 13/50\n",
      "500/500 [==============================] - 1s 2ms/step - loss: 0.7728 - acc: 0.7160 - val_loss: 2.1822 - val_acc: 0.2419A: 0s - loss: 0.7601 - acc: 0.\n",
      "Epoch 14/50\n",
      "500/500 [==============================] - 1s 2ms/step - loss: 0.6523 - acc: 0.7500 - val_loss: 2.3845 - val_acc: 0.2177\n",
      "Epoch 15/50\n",
      "500/500 [==============================] - 1s 2ms/step - loss: 0.6012 - acc: 0.7600 - val_loss: 2.6534 - val_acc: 0.2581- loss: 0.5928 - acc: 0.766\n",
      "Epoch 16/50\n",
      "500/500 [==============================] - 1s 2ms/step - loss: 0.4895 - acc: 0.8180 - val_loss: 3.0712 - val_acc: 0.2419\n",
      "Epoch 17/50\n",
      "500/500 [==============================] - 1s 2ms/step - loss: 0.4859 - acc: 0.8340 - val_loss: 2.9300 - val_acc: 0.2500\n",
      "Epoch 18/50\n",
      "500/500 [==============================] - 1s 2ms/step - loss: 0.3623 - acc: 0.8740 - val_loss: 3.2452 - val_acc: 0.2500\n",
      "Epoch 19/50\n",
      "500/500 [==============================] - 1s 2ms/step - loss: 0.3306 - acc: 0.8820 - val_loss: 3.2786 - val_acc: 0.2823\n",
      "Epoch 20/50\n",
      "500/500 [==============================] - 1s 2ms/step - loss: 0.2912 - acc: 0.8900 - val_loss: 3.7734 - val_acc: 0.2581\n",
      "Epoch 21/50\n",
      "500/500 [==============================] - 1s 2ms/step - loss: 0.2686 - acc: 0.9060 - val_loss: 3.7455 - val_acc: 0.2500\n",
      "Epoch 22/50\n",
      "500/500 [==============================] - 1s 2ms/step - loss: 0.2148 - acc: 0.9220 - val_loss: 3.8023 - val_acc: 0.2258\n",
      "Epoch 23/50\n",
      "500/500 [==============================] - 1s 2ms/step - loss: 0.2365 - acc: 0.9140 - val_loss: 3.7360 - val_acc: 0.2258\n",
      "Epoch 24/50\n",
      "500/500 [==============================] - 1s 2ms/step - loss: 0.1845 - acc: 0.9400 - val_loss: 4.3802 - val_acc: 0.2339\n",
      "Epoch 25/50\n",
      "500/500 [==============================] - 1s 2ms/step - loss: 0.1817 - acc: 0.9380 - val_loss: 4.3875 - val_acc: 0.2419\n",
      "Epoch 26/50\n",
      "500/500 [==============================] - 1s 2ms/step - loss: 0.1346 - acc: 0.9460 - val_loss: 4.7231 - val_acc: 0.2339\n",
      "Epoch 27/50\n",
      "500/500 [==============================] - 1s 2ms/step - loss: 0.1266 - acc: 0.9580 - val_loss: 4.5669 - val_acc: 0.2339\n",
      "Epoch 28/50\n",
      "500/500 [==============================] - 1s 2ms/step - loss: 0.1470 - acc: 0.9520 - val_loss: 4.7092 - val_acc: 0.2339\n",
      "Epoch 29/50\n",
      "500/500 [==============================] - 1s 2ms/step - loss: 0.1354 - acc: 0.9640 - val_loss: 4.9074 - val_acc: 0.2419 loss: 0.1363 - acc: 0.9\n",
      "Epoch 30/50\n",
      "500/500 [==============================] - 1s 2ms/step - loss: 0.1225 - acc: 0.9600 - val_loss: 4.6745 - val_acc: 0.2339 0s - loss: 0.1225 - acc: 0.95\n",
      "Epoch 31/50\n",
      "500/500 [==============================] - 1s 2ms/step - loss: 0.1010 - acc: 0.9580 - val_loss: 4.8956 - val_acc: 0.2339\n",
      "Epoch 32/50\n",
      "500/500 [==============================] - 1s 2ms/step - loss: 0.0956 - acc: 0.9700 - val_loss: 4.8648 - val_acc: 0.2177\n",
      "Epoch 33/50\n",
      "500/500 [==============================] - 1s 2ms/step - loss: 0.1270 - acc: 0.9600 - val_loss: 4.8668 - val_acc: 0.2339\n",
      "Epoch 34/50\n",
      "500/500 [==============================] - 1s 2ms/step - loss: 0.0756 - acc: 0.9760 - val_loss: 5.2730 - val_acc: 0.2097\n",
      "Epoch 35/50\n",
      "500/500 [==============================] - 1s 2ms/step - loss: 0.0771 - acc: 0.9720 - val_loss: 5.4024 - val_acc: 0.2097\n",
      "Epoch 36/50\n",
      "500/500 [==============================] - 1s 2ms/step - loss: 0.0685 - acc: 0.9740 - val_loss: 5.3296 - val_acc: 0.2258\n",
      "Epoch 37/50\n",
      "500/500 [==============================] - 1s 2ms/step - loss: 0.0563 - acc: 0.9840 - val_loss: 5.6517 - val_acc: 0.2419\n",
      "Epoch 38/50\n",
      "500/500 [==============================] - 1s 2ms/step - loss: 0.0727 - acc: 0.9780 - val_loss: 5.5633 - val_acc: 0.2097\n",
      "Epoch 39/50\n",
      "500/500 [==============================] - 1s 2ms/step - loss: 0.0823 - acc: 0.9720 - val_loss: 5.4495 - val_acc: 0.2339\n",
      "Epoch 40/50\n",
      "500/500 [==============================] - 1s 2ms/step - loss: 0.0437 - acc: 0.9860 - val_loss: 6.0047 - val_acc: 0.2177\n",
      "Epoch 41/50\n",
      "500/500 [==============================] - 1s 2ms/step - loss: 0.0485 - acc: 0.9880 - val_loss: 5.6464 - val_acc: 0.2419\n",
      "Epoch 42/50\n",
      "500/500 [==============================] - 1s 2ms/step - loss: 0.0715 - acc: 0.9760 - val_loss: 5.8066 - val_acc: 0.2177\n",
      "Epoch 43/50\n",
      "500/500 [==============================] - 1s 2ms/step - loss: 0.0451 - acc: 0.9860 - val_loss: 5.9164 - val_acc: 0.2419\n",
      "Epoch 44/50\n",
      "500/500 [==============================] - 1s 2ms/step - loss: 0.0626 - acc: 0.9800 - val_loss: 6.0635 - val_acc: 0.23390s - loss: 0.0834 - acc: \n",
      "Epoch 45/50\n",
      "500/500 [==============================] - 1s 2ms/step - loss: 0.0502 - acc: 0.9820 - val_loss: 5.7084 - val_acc: 0.2419\n",
      "Epoch 46/50\n",
      "500/500 [==============================] - 1s 2ms/step - loss: 0.0501 - acc: 0.9820 - val_loss: 6.2322 - val_acc: 0.2097\n",
      "Epoch 47/50\n",
      "500/500 [==============================] - 1s 2ms/step - loss: 0.0500 - acc: 0.9840 - val_loss: 5.8012 - val_acc: 0.2339\n",
      "Epoch 48/50\n",
      "500/500 [==============================] - 1s 2ms/step - loss: 0.0209 - acc: 0.9900 - val_loss: 6.6658 - val_acc: 0.2097\n",
      "Epoch 49/50\n",
      "500/500 [==============================] - 1s 2ms/step - loss: 0.0516 - acc: 0.9840 - val_loss: 6.4565 - val_acc: 0.2097\n",
      "Epoch 50/50\n",
      "500/500 [==============================] - 1s 2ms/step - loss: 0.0258 - acc: 0.9900 - val_loss: 6.4104 - val_acc: 0.2177\n",
      "Test loss: 6.410397206583331\n",
      "Test accuracy: 0.21774193572421227\n"
     ]
    }
   ],
   "source": [
    "# Reference architecture design from\n",
    "# https://github.com/keras-team/keras/blob/master/examples/mnist_cnn.py\n",
    "\n",
    "from __future__ import print_function\n",
    "import tensorflow.keras as keras\n",
    "from tensorflow.keras.datasets import mnist\n",
    "from tensorflow.keras.models import Sequential\n",
    "from tensorflow.keras.layers import Dense, Dropout, Flatten\n",
    "from tensorflow.keras.layers import Conv2D, MaxPooling2D\n",
    "from tensorflow.keras import backend as K\n",
    "\n",
    "batch_size = 5\n",
    "num_classes = 4\n",
    "epochs = 50\n",
    "\n",
    "# input image dimensions\n",
    "img_rows, img_cols = 30, 60\n",
    "\n",
    "x_train = A1train_zoom\n",
    "x_test = A1test_zoom\n",
    "# the data, split between train and test sets\n",
    "#(x_train, y_train), (x_test, y_test) = mnist.load_data()\n",
    "\n",
    "if K.image_data_format() == 'channels_first':\n",
    "    x_train = x_train.reshape(x_train.shape[0], 1, img_rows, img_cols)\n",
    "    x_test = x_test.reshape(x_test.shape[0], 1, img_rows, img_cols)\n",
    "    input_shape = (1, img_rows, img_cols)\n",
    "else:\n",
    "    x_train = x_train.reshape(x_train.shape[0], img_rows, img_cols, 1)\n",
    "    x_test = x_test.reshape(x_test.shape[0], img_rows, img_cols, 1)\n",
    "    input_shape = (img_rows, img_cols, 1)\n",
    "\n",
    "x_train = x_train.astype('float32')\n",
    "x_test = x_test.astype('float32')\n",
    "x_train /= 255\n",
    "x_test /= 255\n",
    "print('x_train shape:', x_train.shape)\n",
    "print(x_train.shape[0], 'train samples')\n",
    "print(x_test.shape[0], 'test samples')\n",
    "\n",
    "# convert class vectors to binary class matrices\n",
    "y_train = tensorflow.keras.utils.to_categorical(Y1train_exp, num_classes)\n",
    "y_test = tensorflow.keras.utils.to_categorical(Y1test_exp, num_classes)\n",
    "\n",
    "model = Sequential()\n",
    "model.add(Conv2D(32, kernel_size=(3, 3),\n",
    "                 activation='relu',\n",
    "                 input_shape=input_shape))\n",
    "model.add(Conv2D(64, (3, 3), activation='relu'))\n",
    "model.add(MaxPooling2D(pool_size=(2, 2)))\n",
    "model.add(Dropout(0.25))\n",
    "model.add(Flatten())\n",
    "model.add(Dense(128, activation='relu'))\n",
    "model.add(Dropout(0.5))\n",
    "model.add(Dense(num_classes, activation='softmax'))\n",
    "\n",
    "model.compile(loss=tensorflow.keras.losses.categorical_crossentropy,\n",
    "              optimizer=keras.optimizers.Adadelta(),\n",
    "              metrics=['accuracy'])\n",
    "\n",
    "model.fit(x_train, y_train,\n",
    "          batch_size=batch_size,\n",
    "          epochs=epochs,\n",
    "          verbose=1,\n",
    "          validation_data=(x_test, y_test),\n",
    "          shuffle=True)\n",
    "score = model.evaluate(x_test, y_test, verbose=0)\n",
    "print('Test loss:', score[0])\n",
    "print('Test accuracy:', score[1])"
   ]
  },
  {
   "cell_type": "markdown",
   "metadata": {},
   "source": [
    "### Try several machine learning algorithms"
   ]
  },
  {
   "cell_type": "code",
   "execution_count": 28,
   "metadata": {},
   "outputs": [],
   "source": [
    "names = [\n",
    "         \"KNeighbors\",  \n",
    "         \"Random Forest\", \n",
    "         \"Neural Net\", \n",
    "         \"Linear Regression\",\n",
    "         \"SGD Classifier\",\n",
    "         \"NB\"\n",
    "    ]\n",
    "\n",
    "classifiers = [\n",
    "    KNeighborsClassifier(n_neighbors=4),\n",
    "    RandomForestClassifier(n_estimators=100, random_state=9),\n",
    "    OneVsOneClassifier(MLPClassifier()),\n",
    "    OneVsOneClassifier(LogisticRegression()),\n",
    "    OneVsOneClassifier(SGDClassifier(max_iter=1000, alpha=1, l1_ratio=1, random_state=4)),\n",
    "    OneVsOneClassifier(GaussianNB())\n",
    "]"
   ]
  },
  {
   "cell_type": "code",
   "execution_count": 29,
   "metadata": {},
   "outputs": [
    {
     "name": "stdout",
     "output_type": "stream",
     "text": [
      "KNeighbors\n",
      "Classifier accuracy on the train set is 0.422 \n",
      "Classifier accuracy on the test set is 0.21774193548387097 \n",
      "The confusion matrix on train set: \n",
      " [[83 12  9 16]\n",
      " [50 50 12 15]\n",
      " [46 22 51 10]\n",
      " [58 19 20 27]]\n",
      "The confusion matrix on test set: \n",
      " [[15 13  2  5]\n",
      " [15  6  6  1]\n",
      " [ 8 12  3  6]\n",
      " [12  9  8  3]]\n",
      "\n",
      "Random Forest\n",
      "Classifier accuracy on the train set is 1.0 \n",
      "Classifier accuracy on the test set is 0.1935483870967742 \n",
      "The confusion matrix on train set: \n",
      " [[120   0   0   0]\n",
      " [  0 127   0   0]\n",
      " [  0   0 129   0]\n",
      " [  0   0   0 124]]\n",
      "The confusion matrix on test set: \n",
      " [[ 7 19  4  5]\n",
      " [ 8 12  3  5]\n",
      " [ 9 15  2  3]\n",
      " [ 9 16  4  3]]\n",
      "\n",
      "Neural Net\n",
      "Classifier accuracy on the train set is 0.456 \n",
      "Classifier accuracy on the test set is 0.2903225806451613 \n",
      "The confusion matrix on train set: \n",
      " [[84 10  7 19]\n",
      " [33 40 16 38]\n",
      " [14 15 56 44]\n",
      " [37 16 23 48]]\n",
      "The confusion matrix on test set: \n",
      " [[11  8  6 10]\n",
      " [ 7 10  3  8]\n",
      " [ 1 10  3 15]\n",
      " [10  7  3 12]]\n",
      "\n"
     ]
    },
    {
     "name": "stderr",
     "output_type": "stream",
     "text": [
      "D:\\Anaconda3\\envs\\tensorflow\\lib\\site-packages\\sklearn\\linear_model\\logistic.py:432: FutureWarning: Default solver will be changed to 'lbfgs' in 0.22. Specify a solver to silence this warning.\n",
      "  FutureWarning)\n",
      "D:\\Anaconda3\\envs\\tensorflow\\lib\\site-packages\\sklearn\\linear_model\\logistic.py:432: FutureWarning: Default solver will be changed to 'lbfgs' in 0.22. Specify a solver to silence this warning.\n",
      "  FutureWarning)\n",
      "D:\\Anaconda3\\envs\\tensorflow\\lib\\site-packages\\sklearn\\linear_model\\logistic.py:432: FutureWarning: Default solver will be changed to 'lbfgs' in 0.22. Specify a solver to silence this warning.\n",
      "  FutureWarning)\n",
      "D:\\Anaconda3\\envs\\tensorflow\\lib\\site-packages\\sklearn\\linear_model\\logistic.py:432: FutureWarning: Default solver will be changed to 'lbfgs' in 0.22. Specify a solver to silence this warning.\n",
      "  FutureWarning)\n",
      "D:\\Anaconda3\\envs\\tensorflow\\lib\\site-packages\\sklearn\\linear_model\\logistic.py:432: FutureWarning: Default solver will be changed to 'lbfgs' in 0.22. Specify a solver to silence this warning.\n",
      "  FutureWarning)\n",
      "D:\\Anaconda3\\envs\\tensorflow\\lib\\site-packages\\sklearn\\linear_model\\logistic.py:432: FutureWarning: Default solver will be changed to 'lbfgs' in 0.22. Specify a solver to silence this warning.\n",
      "  FutureWarning)\n"
     ]
    },
    {
     "name": "stdout",
     "output_type": "stream",
     "text": [
      "Linear Regression\n",
      "Classifier accuracy on the train set is 1.0 \n",
      "Classifier accuracy on the test set is 0.28225806451612906 \n",
      "The confusion matrix on train set: \n",
      " [[120   0   0   0]\n",
      " [  0 127   0   0]\n",
      " [  0   0 129   0]\n",
      " [  0   0   0 124]]\n",
      "The confusion matrix on test set: \n",
      " [[ 8  7 14  6]\n",
      " [ 2 11  7  8]\n",
      " [ 4 13  7  5]\n",
      " [ 5 11  7  9]]\n",
      "\n",
      "SGD Classifier\n",
      "Classifier accuracy on the train set is 1.0 \n",
      "Classifier accuracy on the test set is 0.27419354838709675 \n",
      "The confusion matrix on train set: \n",
      " [[120   0   0   0]\n",
      " [  0 127   0   0]\n",
      " [  0   0 129   0]\n",
      " [  0   0   0 124]]\n",
      "The confusion matrix on test set: \n",
      " [[ 8  9  8 10]\n",
      " [ 4 13  5  6]\n",
      " [ 4 15  4  6]\n",
      " [ 4 13  6  9]]\n",
      "\n",
      "NB\n",
      "Classifier accuracy on the train set is 0.294 \n",
      "Classifier accuracy on the test set is 0.21774193548387097 \n",
      "The confusion matrix on train set: \n",
      " [[73 16  3 28]\n",
      " [61 33  0 33]\n",
      " [64 22  5 38]\n",
      " [65 20  3 36]]\n",
      "The confusion matrix on test set: \n",
      " [[15 13  1  6]\n",
      " [13 11  0  4]\n",
      " [16 10  0  3]\n",
      " [12 19  0  1]]\n",
      "\n"
     ]
    }
   ],
   "source": [
    "for name, clf in zip(names, classifiers):\n",
    "    clf.fit(A1train_zoom, Y1train_exp)\n",
    "    ypred = clf.predict(A1train_zoom)\n",
    "    ypred_test = clf.predict(A1test_zoom)\n",
    "\n",
    "    print(name)\n",
    "    print('Classifier accuracy on the train set is {0} '.format(accuracy_score(Y1train_exp, ypred)))\n",
    "    print('Classifier accuracy on the test set is {0} '.format(accuracy_score(Y1test_exp, ypred_test)))    \n",
    "    conf_mx_train = confusion_matrix(Y1train_exp, ypred)\n",
    "    conf_mx_test = confusion_matrix(Y1test_exp, ypred_test) \n",
    "    print( 'The confusion matrix on train set: \\n {0}'.format(conf_mx_train))\n",
    "    print( 'The confusion matrix on test set: \\n {0}'.format(conf_mx_test))\n",
    "    print()"
   ]
  },
  {
   "cell_type": "markdown",
   "metadata": {},
   "source": [
    "From the results above, we find Logistic Regression classifier gives the best accuracy, with 100% accuracy on training and 28.23% on test. We consider the test results are better than random, but not better than classifying all images as one class... For example in our test set the expression 'angry' appears the most, in which there are 35 images labeled as 'angry', and classifying all images as 'angry' gives 28.23%. This task is similar to classifying poses given that one needs to classify them into 4 classes with similar number of training and test examples, where each class has roughly the same number of training and test examples, that is even distributed between 4 classes. The task is different to classifying poses because the head pose affects the classifier's accuracy to classify expressions. For example if the pose is 'up' and the person is smiling, the smile looks more like frown because the head tilts the smile down. It is straightforward to notice that if all the poses were 'straight', the classifier would have an easier time classifying the expressions. In addition whether there are sunglasses also affects the classifier's accuracy, since the expression around the eyes cannot be detected. This is why we focused on zooming in on the mouth, and found this improved accuracy on the test set, but not by more than about 8%."
   ]
  },
  {
   "cell_type": "code",
   "execution_count": null,
   "metadata": {},
   "outputs": [],
   "source": []
  }
 ],
 "metadata": {
  "kernelspec": {
   "display_name": "Python 3",
   "language": "python",
   "name": "python3"
  },
  "language_info": {
   "codemirror_mode": {
    "name": "ipython",
    "version": 3
   },
   "file_extension": ".py",
   "mimetype": "text/x-python",
   "name": "python",
   "nbconvert_exporter": "python",
   "pygments_lexer": "ipython3",
   "version": "3.6.5"
  }
 },
 "nbformat": 4,
 "nbformat_minor": 2
}
