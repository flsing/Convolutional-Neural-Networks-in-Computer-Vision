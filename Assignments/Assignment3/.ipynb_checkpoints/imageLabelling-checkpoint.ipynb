{
 "cells": [
  {
   "cell_type": "markdown",
   "metadata": {},
   "source": [
    "Felix Singerman - 7970742\n",
    "# Image Labelling - Linear Classification"
   ]
  },
  {
   "cell_type": "markdown",
   "metadata": {},
   "source": [
    "We will use the CMU Image dataset which can be downloaded from the UCI Machine learning repository at http://archive.ics.uci.edu/ml/datasets/cmu+face+images. The data contains black and white images of 20 different people in four different poses but with different facial expressions, and with or without sunglasses. Each picture is stored in three different resolutions: full resolution (128 X 120), 1/2, and 1/4 of the full resolution. "
   ]
  },
  {
   "cell_type": "markdown",
   "metadata": {},
   "source": [
    "## Getting Started "
   ]
  },
  {
   "cell_type": "markdown",
   "metadata": {},
   "source": [
    "The labels for the images are encoded in the file names. \n",
    "* At the start is the person who is in the image represented by a user id, it is also the directory name. \n",
    "* The head pose is the next word in the file name. (straight, left, right, up)\n",
    "* The facial expression is next. (neutral, happy, sad, angry)\n",
    "* The sunglass state. (open, sunglasses)\n",
    "* Size of the image. Full resolution is default, other option are 2 (1/2) and 4 (1/4)\n",
    "<br />For exmaple: `bpm_left_angry_sunglasses_2.pgm` represents the user bpm, looking left, angry, and 1/2 resolution"
   ]
  },
  {
   "cell_type": "markdown",
   "metadata": {},
   "source": [
    "We will begin by showing a few examples of the different type of images were dealing with"
   ]
  },
  {
   "cell_type": "code",
   "execution_count": 1,
   "metadata": {},
   "outputs": [
    {
     "data": {
      "text/plain": [
       "<matplotlib.image.AxesImage at 0x1143b3358>"
      ]
     },
     "execution_count": 1,
     "metadata": {},
     "output_type": "execute_result"
    }
   ],
   "source": [
    "from matplotlib import pyplot as plt\n",
    "import cv2\n",
    "\n",
    "img = cv2.imread('faces/tammo/tammo_left_angry_sunglasses.pgm')\n",
    "img2 = cv2.imread('faces/an2i/an2i_left_angry_open_2.pgm')\n",
    "img4 = cv2.imread('faces/an2i/an2i_straight_happy_open_4.pgm')\n",
    "imgex = cv2.imread('faces/kawamura/kawamura_right_angry_open.pgm')\n",
    "\n",
    "fig = plt.figure()\n",
    "ax1 = fig.add_subplot(2,2,1)\n",
    "ax1.imshow(img2)\n",
    "ax2 = fig.add_subplot(2,2,2)\n",
    "ax2.imshow(img4)\n",
    "ax3 = fig.add_subplot(2,2,3)\n",
    "ax3.imshow(img)\n",
    "ax4 = fig.add_subplot(2,2,4)\n",
    "ax4.imshow(imgex)\n"
   ]
  },
  {
   "cell_type": "markdown",
   "metadata": {},
   "source": [
    "We will now load all the images and organizing them into three different design matrices, __A1, A2__ and __A4__ and corresponding matrices target labels __Y1, Y2__ and __Y4__. "
   ]
  },
  {
   "cell_type": "code",
   "execution_count": 2,
   "metadata": {
    "scrolled": true
   },
   "outputs": [
    {
     "name": "stderr",
     "output_type": "stream",
     "text": [
      "/Users/FLSingerman/anaconda2/envs/python3/lib/python3.6/site-packages/h5py/__init__.py:36: FutureWarning: Conversion of the second argument of issubdtype from `float` to `np.floating` is deprecated. In future, it will be treated as `np.float64 == np.dtype(float).type`.\n",
      "  from ._conv import register_converters as _register_converters\n",
      "Using TensorFlow backend.\n"
     ]
    },
    {
     "name": "stdout",
     "output_type": "stream",
     "text": [
      "(624, 1, 224, 224)\n",
      "A1 Data size: 624 x 120 and label size 624\n",
      "A2 Data size: 624 x 60 and label size 624\n",
      "A4 Data size: 624 x 30 and label size 624\n",
      "The A1 images are of size: 10.954451150103322 x 10.954451150103322\n",
      "The A2 images are of size: 7.745966692414834 x 7.745966692414834\n",
      "The A4 images are of size: 5.477225575051661 x 5.477225575051661\n"
     ]
    }
   ],
   "source": [
    "import math\n",
    "import numpy as np\n",
    "import os\n",
    "import glob\n",
    "from keras.preprocessing.image import load_img\n",
    "from keras.preprocessing.image import img_to_array\n",
    "from PIL import Image\n",
    "\n",
    "from keras.applications.vgg16 import VGG16\n",
    "from keras.preprocessing import image\n",
    "from keras.applications.vgg16 import preprocess_input\n",
    "\n",
    "A1 = []\n",
    "A2 = []\n",
    "A4 = []\n",
    "y1 = []\n",
    "y2 = []\n",
    "y4 = []\n",
    "A1_16 = []\n",
    "\n",
    "global_features = [\"user_id\", \"face\",\"expression\",\"glasses\", \"quality\"]\n",
    "\n",
    "width = 224\n",
    "height = 224\n",
    "dim = (width, height)\n",
    "\n",
    "for filename in glob.iglob('faces/' + '**/*.pgm', recursive=True):\n",
    "    \n",
    "    file = filename.split(\"/\")\n",
    "    file = file[2]\n",
    "    file_attributes = file.split(\"_\")\n",
    "    user_id = file_attributes[0]\n",
    "    face = file_attributes[1]\n",
    "    expression = file_attributes[2]\n",
    "    glasses = file_attributes[3].replace(\".pgm\",\"\")\n",
    "    if(len(file_attributes) < 5):\n",
    "        quality = 1\n",
    "    else:\n",
    "        quality = file_attributes[4].replace(\".pgm\",\"\")\n",
    "    \n",
    "    labels = [user_id, face, expression, glasses, quality]\n",
    "    \n",
    "    data = cv2.imread(filename,-1) \n",
    "    #ker = load_img(filename, target_size=(224, 224))\n",
    "    \n",
    "    if file.endswith('2.pgm'):\n",
    "        y2.append(labels)\n",
    "        A2.append(data)\n",
    "    elif file.endswith('4.pgm'):\n",
    "        y4.append(labels)\n",
    "        A4.append(data)\n",
    "    elif file.endswith('.pgm'):\n",
    "        y1.append(labels)\n",
    "        A1.append(data)\n",
    "        \n",
    "        #img_arr = np.expand_dims(img_to_array(data), axis=0)\n",
    "        resized = cv2.resize(data, dim, interpolation = cv2.INTER_AREA)\n",
    "\n",
    "        resized = np.expand_dims(resized, axis=0)\n",
    "        #resized = preprocess_input(resized)\n",
    "        \n",
    "        \n",
    "        A1_16.append(resized)\n",
    "#        x = image.img_to_array(img)\n",
    "#        x = np.expand_dims(x, axis=0)\n",
    "#        x = preprocess_input(x)\n",
    "\n",
    "      \n",
    "        \n",
    "A1 = np.asarray(A1)\n",
    "A2 = np.asarray(A2)\n",
    "y1 = np.asarray(y1)\n",
    "y2 = np.asarray(y2)\n",
    "y4 = np.asarray(y4)\n",
    "A4 = np.asarray(A4)\n",
    "A1_16 = np.asarray(A1_16)\n",
    "A1_16 = preprocess_input(A1_16)\n",
    "\n",
    "\n",
    "print(A1_16.shape)\n",
    "print('A1 Data size: {0} x {1} and label size {2}'.format(A1.shape[0],A1.shape[1],y1.shape[0]))\n",
    "print('A2 Data size: {0} x {1} and label size {2}'.format(A2.shape[0],A2.shape[1],y2.shape[0]))\n",
    "print('A4 Data size: {0} x {1} and label size {2}'.format(A4.shape[0],A4.shape[1],y4.shape[0]))\n",
    "print('The A1 images are of size: {0} x {0}'.format(math.sqrt(A1.shape[1])))\n",
    "print('The A2 images are of size: {0} x {0}'.format(math.sqrt(A2.shape[1])))\n",
    "print('The A4 images are of size: {0} x {0}'.format(math.sqrt(A4.shape[1])))"
   ]
  },
  {
   "cell_type": "markdown",
   "metadata": {},
   "source": [
    "We will now split the datasets into corresponding 80/20 splits for training and testing."
   ]
  },
  {
   "cell_type": "code",
   "execution_count": 3,
   "metadata": {},
   "outputs": [
    {
     "name": "stdout",
     "output_type": "stream",
     "text": [
      "A4 train size (499, 30, 32) A4 test size(125, 30, 32), y4 train size (499, 5), y4 test size (125, 5)\n"
     ]
    }
   ],
   "source": [
    "from sklearn import model_selection, preprocessing\n",
    "\n",
    "A1_train, A1_test, y1_train, y1_test = model_selection.train_test_split(A1, y1, test_size = 0.2)\n",
    "A2_train, A2_test, y2_train, y2_test = model_selection.train_test_split(A2, y2, test_size = 0.2)\n",
    "A4_train, A4_test, y4_train, y4_test = model_selection.train_test_split(A4, y4, test_size = 0.2)\n",
    "\n",
    "print('A4 train size {0} A4 test size{1}, y4 train size {2}, y4 test size {3}'.format(A4_train.shape,A4_test.shape, y4_train.shape,y4_test.shape))"
   ]
  },
  {
   "cell_type": "markdown",
   "metadata": {},
   "source": [
    "## Binary Classifier"
   ]
  },
  {
   "cell_type": "markdown",
   "metadata": {},
   "source": [
    "Our first task involves us using A4 to train a logistic regression classifier for the class sunglasses vs. open. "
   ]
  },
  {
   "cell_type": "code",
   "execution_count": 4,
   "metadata": {},
   "outputs": [
    {
     "name": "stdout",
     "output_type": "stream",
     "text": [
      "We have a training set with 246 images of sunglasses, and a test set with 65\n"
     ]
    }
   ],
   "source": [
    "y4_train_sunglasses = (y4_train == \"sunglasses\")\n",
    "y4_test_sunglasses = (y4_test == \"sunglasses\")\n",
    "\n",
    "y4_train_sunglasses =  y4_train_sunglasses[:,3]\n",
    "y4_test_sunglasses =  y4_test_sunglasses[:,3]\n",
    "\n",
    "print('We have a training set with {0} images of sunglasses, and a test set with {1}'.format(sum(y4_train_sunglasses),sum(y4_test_sunglasses)))"
   ]
  },
  {
   "cell_type": "code",
   "execution_count": 5,
   "metadata": {},
   "outputs": [
    {
     "data": {
      "text/plain": [
       "LogisticRegression(C=1.0, class_weight=None, dual=False, fit_intercept=True,\n",
       "          intercept_scaling=1, max_iter=100, multi_class='ovr', n_jobs=1,\n",
       "          penalty='l2', random_state=None, solver='liblinear', tol=0.0001,\n",
       "          verbose=0, warm_start=False)"
      ]
     },
     "execution_count": 5,
     "metadata": {},
     "output_type": "execute_result"
    }
   ],
   "source": [
    "from sklearn.linear_model import LogisticRegression\n",
    "\n",
    "dataset_size = len(A4_train)\n",
    "A4_train = A4_train.reshape(dataset_size,-1)\n",
    "dataset_size = len(A4_test)\n",
    "A4_test = A4_test.reshape(dataset_size,-1)\n",
    "# nsamples, nx, ny = A4_train.shape\n",
    "# d2_train_dataset = A4_train.reshape((nsamples,nx*ny))\n",
    "\n",
    "bin_clf = LogisticRegression()\n",
    "bin_clf.fit(A4_train, y4_train_sunglasses)"
   ]
  },
  {
   "cell_type": "markdown",
   "metadata": {},
   "source": [
    "We will now look at the confusion matrix, accuracy, precision, recall, and f1 score based on the training and testing data. "
   ]
  },
  {
   "cell_type": "code",
   "execution_count": 6,
   "metadata": {},
   "outputs": [
    {
     "name": "stdout",
     "output_type": "stream",
     "text": [
      "Classifier scores on training set: \n",
      "Accuracy is 1.0 \n",
      "Precision is 1.0 \n",
      "Recall is 1.0 \n",
      "F1 is 1.0 \n",
      "And the confusion matrix: \n",
      " [[253   0]\n",
      " [  0 246]]\n",
      "Classifier scores on test set: \n",
      "Classifier accuracy on the training set is 0.936 \n",
      "Precision is 0.9384615384615385 \n",
      "Recall is 0.9384615384615385 \n",
      "F1 is 0.9384615384615385 \n",
      "And the confusion matrix: \n",
      " [[56  4]\n",
      " [ 4 61]]\n"
     ]
    }
   ],
   "source": [
    "from sklearn.metrics import confusion_matrix, precision_score, recall_score, f1_score, accuracy_score\n",
    "\n",
    "y4_pred_sunglasses = bin_clf.predict(A4_train)\n",
    "print('Classifier scores on training set: ')\n",
    "print('Accuracy is {0} '.format(accuracy_score(y4_train_sunglasses, y4_pred_sunglasses)))\n",
    "print('Precision is {0} '.format(precision_score(y4_train_sunglasses, y4_pred_sunglasses)))\n",
    "print('Recall is {0} '.format(recall_score(y4_train_sunglasses, y4_pred_sunglasses)))\n",
    "print('F1 is {0} '.format(f1_score(y4_train_sunglasses, y4_pred_sunglasses)))\n",
    "print( 'And the confusion matrix: \\n {0}'.format(confusion_matrix(y4_train_sunglasses, y4_pred_sunglasses) ))\n",
    "\n",
    "\n",
    "y4_pred_sunglasses = bin_clf.predict(A4_test)\n",
    "print('Classifier scores on test set: ')\n",
    "print('Classifier accuracy on the training set is {0} '.format(accuracy_score(y4_test_sunglasses, y4_pred_sunglasses)))\n",
    "print('Precision is {0} '.format(precision_score(y4_test_sunglasses, y4_pred_sunglasses)))\n",
    "print('Recall is {0} '.format(recall_score(y4_test_sunglasses, y4_pred_sunglasses)))\n",
    "print('F1 is {0} '.format(f1_score(y4_test_sunglasses, y4_pred_sunglasses)))\n",
    "print( 'And the confusion matrix: \\n {0}'.format(confusion_matrix(y4_test_sunglasses, y4_pred_sunglasses) ))"
   ]
  },
  {
   "cell_type": "code",
   "execution_count": 7,
   "metadata": {},
   "outputs": [
    {
     "data": {
      "text/plain": [
       "array([0.8742515 , 0.93373494, 0.88554217])"
      ]
     },
     "execution_count": 7,
     "metadata": {},
     "output_type": "execute_result"
    }
   ],
   "source": [
    "from sklearn.model_selection import cross_val_score\n",
    "cross_val_score(bin_clf, A4_train, y4_train_sunglasses, cv=3, scoring=\"accuracy\")"
   ]
  },
  {
   "cell_type": "code",
   "execution_count": 8,
   "metadata": {},
   "outputs": [
    {
     "data": {
      "text/plain": [
       "Text(0,0.5,'Count')"
      ]
     },
     "execution_count": 8,
     "metadata": {},
     "output_type": "execute_result"
    },
    {
     "data": {
      "image/png": "[encoded data removed]",
      "text/plain": [
       "<Figure size 432x288 with 1 Axes>"
      ]
     },
     "metadata": {},
     "output_type": "display_data"
    }
   ],
   "source": [
    "from sklearn.model_selection import cross_val_predict\n",
    "\n",
    "y4_scores = cross_val_predict(bin_clf, A4_train, y4_train_sunglasses, cv=3,\n",
    "                             method=\"decision_function\")\n",
    "n, bins, patches = plt.hist(y4_scores, 100)\n",
    "\n",
    "plt.xlabel('Decision treshold for each training sample')\n",
    "plt.ylabel('Count')"
   ]
  },
  {
   "cell_type": "code",
   "execution_count": 10,
   "metadata": {},
   "outputs": [
    {
     "data": {
      "image/png": "[encoded data removed]",
      "text/plain": [
       "<Figure size 576x288 with 1 Axes>"
      ]
     },
     "metadata": {},
     "output_type": "display_data"
    }
   ],
   "source": [
    "from sklearn.metrics import precision_recall_curve\n",
    "\n",
    "precisions, recalls, thresholds = precision_recall_curve(y4_train_sunglasses, y4_scores)\n",
    "\n",
    "#taken from lecture notes\n",
    "def plot_precision_recall_vs_threshold(precisions, recalls, thresholds):\n",
    "    plt.plot(thresholds, precisions[:-1], \"b--\", label=\"Precision\", linewidth=2)\n",
    "    plt.plot(thresholds, recalls[:-1], \"g-\", label=\"Recall\", linewidth=2)\n",
    "    plt.xlabel(\"Threshold\", fontsize=16)\n",
    "    plt.legend(loc=\"upper left\", fontsize=16)\n",
    "    plt.ylim([0, 1])\n",
    "\n",
    "plt.figure(figsize=(8, 4))\n",
    "plot_precision_recall_vs_threshold(precisions, recalls, thresholds)\n",
    "plt.show()"
   ]
  },
  {
   "cell_type": "code",
   "execution_count": 11,
   "metadata": {},
   "outputs": [
    {
     "data": {
      "image/png": "[encoded data removed]",
      "text/plain": [
       "<Figure size 576x432 with 1 Axes>"
      ]
     },
     "metadata": {},
     "output_type": "display_data"
    }
   ],
   "source": [
    "# taken from lecture notes\n",
    "def plot_precision_vs_recall(precisions, recalls):\n",
    "    plt.plot(recalls, precisions, \"b-\", linewidth=2)\n",
    "    plt.xlabel(\"Recall\", fontsize=16)\n",
    "    plt.ylabel(\"Precision\", fontsize=16)\n",
    "    plt.axis([0, 1, 0, 1])\n",
    "\n",
    "plt.figure(figsize=(8, 6))\n",
    "plot_precision_vs_recall(precisions, recalls)\n",
    "plt.show()"
   ]
  },
  {
   "cell_type": "markdown",
   "metadata": {},
   "source": [
    "Finally we will print the ROC curve"
   ]
  },
  {
   "cell_type": "code",
   "execution_count": 12,
   "metadata": {},
   "outputs": [
    {
     "data": {
      "image/png": "[encoded data removed]",
      "text/plain": [
       "<Figure size 576x432 with 1 Axes>"
      ]
     },
     "metadata": {},
     "output_type": "display_data"
    }
   ],
   "source": [
    "#taken from lecture notes\n",
    "%matplotlib inline\n",
    "import matplotlib\n",
    "from sklearn.metrics import roc_curve\n",
    "from sklearn.model_selection import cross_val_predict\n",
    "\n",
    "\n",
    "if y4_scores.ndim == 2:\n",
    "    y4_scores = y4_scores[:, 1]\n",
    "\n",
    "fpr, tpr, thresholds = roc_curve(y4_train_sunglasses, y4_scores)\n",
    "\n",
    "def plot_roc_curve(fpr, tpr, label=None):\n",
    "    plt.plot(fpr, tpr, linewidth=2, label=label)\n",
    "    plt.plot([0, 1], [0, 1], 'k--')\n",
    "    plt.axis([0, 1, 0, 1])\n",
    "    plt.xlabel('False Positive Rate', fontsize=16)\n",
    "    plt.ylabel('True Positive Rate', fontsize=16)\n",
    "\n",
    "plt.figure(figsize=(8, 6))\n",
    "plot_roc_curve(fpr, tpr)\n",
    "plt.show()"
   ]
  },
  {
   "cell_type": "markdown",
   "metadata": {},
   "source": [
    "## Multiclass Classifier"
   ]
  },
  {
   "cell_type": "markdown",
   "metadata": {},
   "source": [
    "We now will use A4 again to train a logistic regression classifier but this time to classify into multiple classes for the pose: left, right, straight and up.\n"
   ]
  },
  {
   "cell_type": "code",
   "execution_count": 13,
   "metadata": {},
   "outputs": [
    {
     "name": "stdout",
     "output_type": "stream",
     "text": [
      "We have a training set with 499 images with the users pose, and a test set with 125\n"
     ]
    }
   ],
   "source": [
    "for i in range(len(y4_train)): \n",
    "    y4_train_pose = [item[1] for item in y4_train]\n",
    "    y4_train_pose = np.asarray(y4_train_pose)\n",
    "for j in range(len(y4_test)):\n",
    "    y4_test_pose = [item[1] for item in y4_test]\n",
    "    y4_test_pose = np.asarray(y4_test_pose)\n",
    "\n",
    "\n",
    "print('We have a training set with {0} images with the users pose, and a test set with {1}'.format(len(y4_train_sunglasses),len(y4_test_sunglasses)))"
   ]
  },
  {
   "cell_type": "code",
   "execution_count": 14,
   "metadata": {},
   "outputs": [
    {
     "data": {
      "text/plain": [
       "LogisticRegression(C=1.0, class_weight=None, dual=False, fit_intercept=True,\n",
       "          intercept_scaling=1, max_iter=100, multi_class='ovr', n_jobs=1,\n",
       "          penalty='l2', random_state=None, solver='liblinear', tol=0.0001,\n",
       "          verbose=0, warm_start=False)"
      ]
     },
     "execution_count": 14,
     "metadata": {},
     "output_type": "execute_result"
    }
   ],
   "source": [
    "mul_clf = LogisticRegression(multi_class = 'ovr')\n",
    "mul_clf.fit(A4_train, y4_train_pose)\n",
    "# from sklearn.multiclass import OneVsOneClassifier\n",
    "# ovo_clf = OneVsOneClassifier(LogisticRegression(max_iter=5, random_state=42))\n",
    "# ovo_clf.fit(A4_train, y4_train)"
   ]
  },
  {
   "cell_type": "markdown",
   "metadata": {},
   "source": [
    "Find and print the confusion matrix and the accuracy. The classifier has an easier time with left vs right poses but has a more difficult time with straight vs up poses and tends to get confused. It rarely missclassifies left and right poses. "
   ]
  },
  {
   "cell_type": "code",
   "execution_count": 15,
   "metadata": {},
   "outputs": [
    {
     "name": "stdout",
     "output_type": "stream",
     "text": [
      "Classifier scores on training set: \n",
      "Accuracy is 0.9438877755511023 \n",
      "Confusion matrix: \n",
      "[[116   0   2   3]\n",
      " [  0 116   1   3]\n",
      " [  3   0 117   7]\n",
      " [  2   1   6 122]]\n",
      "Classifier scores on test set: \n",
      "Classifier accuracy on the training set is 0.84 \n",
      "Confusion matrix: \n",
      "[[32  2  2  0]\n",
      " [ 1 31  3  0]\n",
      " [ 1  4 21  3]\n",
      " [ 1  2  1 21]]\n"
     ]
    }
   ],
   "source": [
    "y4_train_pred_pose = cross_val_predict(mul_clf, A4_train, y4_train_pose, cv=3)\n",
    "conf_mx_train_pose = confusion_matrix(y4_train_pose, y4_train_pred_pose)\n",
    "print('Classifier scores on training set: ')\n",
    "print('Accuracy is {0} '.format(accuracy_score(y4_train_pose, y4_train_pred_pose)))\n",
    "print('Confusion matrix: \\n{0}'.format(conf_mx_train_pose))\n",
    "\n",
    "\n",
    "y4_test_pred_pose = cross_val_predict(mul_clf, A4_test, y4_test_pose, cv=3)\n",
    "conf_mx_test_pose = confusion_matrix(y4_test_pose, y4_test_pred_pose)\n",
    "print('Classifier scores on test set: ')\n",
    "print('Classifier accuracy on the training set is {0} '.format(accuracy_score(y4_test_pose, y4_test_pred_pose)))\n",
    "print('Confusion matrix: \\n{0}'.format(conf_mx_test_pose))"
   ]
  },
  {
   "cell_type": "code",
   "execution_count": 16,
   "metadata": {},
   "outputs": [],
   "source": [
    "#taken from class notes\n",
    "def plot_confusion_matrix(matrix):\n",
    "    \"\"\"If you prefer color and a colorbar\"\"\"\n",
    "    fig = plt.figure(figsize=(8,8))\n",
    "    ax = fig.add_subplot(111)\n",
    "    cax = ax.matshow(matrix)\n",
    "    fig.colorbar(cax)"
   ]
  },
  {
   "cell_type": "code",
   "execution_count": 17,
   "metadata": {},
   "outputs": [
    {
     "data": {
      "image/png": "[encoded data removed]",
      "text/plain": [
       "<Figure size 576x576 with 2 Axes>"
      ]
     },
     "metadata": {},
     "output_type": "display_data"
    }
   ],
   "source": [
    "plot_confusion_matrix(conf_mx_train_pose)\n",
    "plt.show()"
   ]
  },
  {
   "cell_type": "code",
   "execution_count": 18,
   "metadata": {},
   "outputs": [
    {
     "data": {
      "image/png": "[encoded data removed]",
      "text/plain": [
       "<Figure size 576x576 with 2 Axes>"
      ]
     },
     "metadata": {},
     "output_type": "display_data"
    }
   ],
   "source": [
    "plot_confusion_matrix(conf_mx_test_pose)\n",
    "plt.show()"
   ]
  },
  {
   "cell_type": "markdown",
   "metadata": {},
   "source": [
    "## Expression Classification"
   ]
  },
  {
   "cell_type": "markdown",
   "metadata": {},
   "source": [
    "We are next tasked with training a classifier of our choice in order to distinguish faces by their expression. This problem poses a challenge as the expression is such a minor aspect of the picture and is easily dominated by some of the other feautures. Another challenge is that in some pictures we only see half of the users face. It is even more hard to classify those pictures. It is not so different from some of the other learning taks as we have labelled data and need to classify the image. As we are challanged to get good results for our next classifier, I decided to use the full resolution pictures.A possible solution that I have no tried is to only look at the photos of users looking forward and discard the others. "
   ]
  },
  {
   "cell_type": "code",
   "execution_count": 19,
   "metadata": {},
   "outputs": [
    {
     "name": "stdout",
     "output_type": "stream",
     "text": [
      "We have a training set with 499 images with the users expression, and a test set with 125\n"
     ]
    }
   ],
   "source": [
    "for i in range(len(y1_train)): \n",
    "    y1_train_expr = [item[2] for item in y1_train]# if item[3] == \"sunglasses\"]\n",
    "    y1_train_expr = np.asarray(y1_train_expr)\n",
    "for j in range(len(y1_test)):\n",
    "    y1_test_expr = [item[2] for item in y1_test] #if item[3] == \"sunglasses\"]\n",
    "    y1_test_expr = np.asarray(y1_test_expr)\n",
    "    \n",
    "print('We have a training set with {0} images with the users expression, and a test set with {1}'.format(len(y1_train_expr),len(y1_test_expr)))"
   ]
  },
  {
   "cell_type": "markdown",
   "metadata": {},
   "source": [
    "I first decided to go with an SVM classifier. However I got really poor results. "
   ]
  },
  {
   "cell_type": "code",
   "execution_count": 20,
   "metadata": {},
   "outputs": [],
   "source": [
    "from sklearn.svm import SVC \n",
    "\n",
    "dataset_size = len(A1_train)\n",
    "A1_train = A1_train.reshape(dataset_size,-1)\n",
    "dataset_size = len(A4_test)\n",
    "A1_test = A1_test.reshape(dataset_size,-1)\n",
    "\n",
    "svm_model_linear = SVC(kernel = 'linear', C = 1).fit(A1_train, y1_train_expr) \n",
    "svm_predictions = svm_model_linear.predict(A1_test) "
   ]
  },
  {
   "cell_type": "code",
   "execution_count": 21,
   "metadata": {},
   "outputs": [
    {
     "name": "stdout",
     "output_type": "stream",
     "text": [
      "Classifier scores on training set: \n",
      "Accuracy is 0.16633266533066132 \n",
      "Confusion matrix: \n",
      "[[28 30 26 43]\n",
      " [39 22 31 35]\n",
      " [34 41 23 22]\n",
      " [52 43 20 10]]\n",
      "Classifier scores on test set: \n",
      "Classifier accuracy on the training set is 0.144 \n",
      "Confusion matrix: \n",
      "[[ 5  5  9  9]\n",
      " [ 8  3  8  9]\n",
      " [ 9 11  9  9]\n",
      " [10  9 11  1]]\n"
     ]
    }
   ],
   "source": [
    "y1_train_pred_svm = cross_val_predict(svm_model_linear, A1_train, y1_train_expr, cv=3)\n",
    "conf_mx_train_svm = confusion_matrix(y1_train_expr, y1_train_pred_svm)\n",
    "print('Classifier scores on training set: ')\n",
    "print('Accuracy is {0} '.format(accuracy_score(y1_train_expr, y1_train_pred_svm)))\n",
    "print('Confusion matrix: \\n{0}'.format(conf_mx_train_svm))\n",
    "\n",
    "y1_test_pred_svm = cross_val_predict(svm_model_linear, A1_test, y1_test_expr, cv=3)\n",
    "conf_mx_test_svm = confusion_matrix(y1_test_expr, y1_test_pred_svm)\n",
    "print('Classifier scores on test set: ')\n",
    "print('Classifier accuracy on the training set is {0} '.format(accuracy_score(y1_test_expr, y1_test_pred_svm)))\n",
    "print('Confusion matrix: \\n{0}'.format(conf_mx_test_svm))"
   ]
  },
  {
   "cell_type": "code",
   "execution_count": 22,
   "metadata": {},
   "outputs": [
    {
     "data": {
      "image/png": "[encoded data removed]",
      "text/plain": [
       "<Figure size 576x576 with 2 Axes>"
      ]
     },
     "metadata": {},
     "output_type": "display_data"
    }
   ],
   "source": [
    "plot_confusion_matrix(conf_mx_train_svm)\n",
    "plt.show()"
   ]
  },
  {
   "cell_type": "markdown",
   "metadata": {},
   "source": [
    "I then tried a KNN classifiers and received similar poor results. "
   ]
  },
  {
   "cell_type": "code",
   "execution_count": 23,
   "metadata": {},
   "outputs": [],
   "source": [
    "from sklearn.neighbors import KNeighborsClassifier \n",
    "\n",
    "knn = KNeighborsClassifier(n_neighbors = 5).fit(A1_train, y1_train_expr) "
   ]
  },
  {
   "cell_type": "code",
   "execution_count": 24,
   "metadata": {},
   "outputs": [
    {
     "name": "stdout",
     "output_type": "stream",
     "text": [
      "Classifier scores on training set: \n",
      "Accuracy is 0.11022044088176353 \n",
      "Confusion matrix: \n",
      "[[21 48 32 26]\n",
      " [48 15 38 26]\n",
      " [42 41 14 23]\n",
      " [44 45 31  5]]\n",
      "Classifier scores on test set: \n",
      "Classifier accuracy on the training set is 0.208 \n",
      "Confusion matrix: \n",
      "[[ 6 11  6  5]\n",
      " [10  7  9  2]\n",
      " [12 10 11  5]\n",
      " [ 7  8 14  2]]\n"
     ]
    }
   ],
   "source": [
    "knn_train_predictions = cross_val_predict(knn, A1_train, y1_train_expr, cv=3)\n",
    "conf_mx_train_knn = confusion_matrix(y1_train_expr, knn_train_predictions)\n",
    "print('Classifier scores on training set: ')\n",
    "print('Accuracy is {0} '.format(accuracy_score(y1_train_expr, knn_train_predictions)))\n",
    "print('Confusion matrix: \\n{0}'.format(conf_mx_train_knn))\n",
    "\n",
    "knn_test_predictions = cross_val_predict(knn, A1_test, y1_test_expr, cv=3)\n",
    "conf_mx_test_knn = confusion_matrix(y1_test_expr, knn_test_predictions)\n",
    "print('Classifier scores on test set: ')\n",
    "print('Classifier accuracy on the training set is {0} '.format(accuracy_score(y1_test_expr, knn_test_predictions)))\n",
    "print('Confusion matrix: \\n{0}'.format(conf_mx_test_knn))"
   ]
  },
  {
   "cell_type": "markdown",
   "metadata": {},
   "source": [
    "Finally, I tried the classifier we saw in our lecture"
   ]
  },
  {
   "cell_type": "code",
   "execution_count": 25,
   "metadata": {},
   "outputs": [
    {
     "data": {
      "text/plain": [
       "OneVsOneClassifier(estimator=SGDClassifier(alpha=0.0001, average=False, class_weight=None, epsilon=0.1,\n",
       "       eta0=0.0, fit_intercept=True, l1_ratio=0.15,\n",
       "       learning_rate='optimal', loss='hinge', max_iter=5, n_iter=None,\n",
       "       n_jobs=1, penalty='l2', power_t=0.5, random_state=42, shuffle=True,\n",
       "       tol=None, verbose=0, warm_start=False),\n",
       "          n_jobs=1)"
      ]
     },
     "execution_count": 25,
     "metadata": {},
     "output_type": "execute_result"
    }
   ],
   "source": [
    "from sklearn.multiclass import OneVsOneClassifier\n",
    "from sklearn.linear_model import SGDClassifier\n",
    "\n",
    "ovo_clf = OneVsOneClassifier(SGDClassifier(max_iter=5, random_state=42))\n",
    "ovo_clf.fit(A1_train, y1_train_expr)"
   ]
  },
  {
   "cell_type": "code",
   "execution_count": 26,
   "metadata": {},
   "outputs": [
    {
     "name": "stdout",
     "output_type": "stream",
     "text": [
      "Classifier scores on training set: \n",
      "Accuracy is 0.18837675350701402 \n",
      "Confusion matrix: \n",
      "[[17 31 29 50]\n",
      " [15 18 36 58]\n",
      " [20 35 20 45]\n",
      " [24 33 29 39]]\n",
      "Classifier scores on test set: \n",
      "Classifier accuracy on the training set is 0.24 \n",
      "Confusion matrix: \n",
      "[[ 9  9  9  1]\n",
      " [ 8  7 10  3]\n",
      " [11 12 13  2]\n",
      " [10  9 11  1]]\n"
     ]
    }
   ],
   "source": [
    "ovo_train_predictions = cross_val_predict(ovo_clf, A1_train, y1_train_expr, cv=3)\n",
    "conf_mx_train_ovo = confusion_matrix(y1_train_expr, ovo_train_predictions)\n",
    "print('Classifier scores on training set: ')\n",
    "print('Accuracy is {0} '.format(accuracy_score(y1_train_expr, ovo_train_predictions)))\n",
    "print('Confusion matrix: \\n{0}'.format(conf_mx_train_ovo))\n",
    "\n",
    "ovo_test_predictions = cross_val_predict(ovo_clf, A1_test, y1_test_expr, cv=3)\n",
    "conf_mx_test_ovo = confusion_matrix(y1_test_expr, ovo_test_predictions)\n",
    "print('Classifier scores on test set: ')\n",
    "print('Classifier accuracy on the training set is {0} '.format(accuracy_score(y1_test_expr, ovo_test_predictions)))\n",
    "print('Confusion matrix: \\n{0}'.format(conf_mx_test_ovo))"
   ]
  },
  {
   "cell_type": "markdown",
   "metadata": {},
   "source": [
    "None of our results are very good. So I tried to use VGG16 which is a CNN in keras. However, due to difficulties in trying to get the data to fit the model I was unable to complete it. "
   ]
  },
  {
   "cell_type": "code",
   "execution_count": 27,
   "metadata": {},
   "outputs": [],
   "source": [
    "from keras.applications.vgg16 import VGG16\n",
    "\n",
    "model = VGG16(weights='imagenet', include_top=False)"
   ]
  },
  {
   "cell_type": "code",
   "execution_count": 28,
   "metadata": {},
   "outputs": [
    {
     "name": "stdout",
     "output_type": "stream",
     "text": [
      "(499, 1, 224, 224)\n"
     ]
    }
   ],
   "source": [
    "from keras.applications.vgg16 import preprocess_input\n",
    "\n",
    "A1_16_train, A1_16_test, y1_16_train, y1_16_test = model_selection.train_test_split(A1_16, y1, test_size = 0.2)\n",
    "\n",
    "#A1_16_train = np.swapaxes(np.swapaxes(A1_16_train, 0, 1), 1, 2)\n",
    "#A1_16_test = A1_test.reshape((1, A1_test.shape[0], A1_test.shape[1], A1_test.shape[2]))\n",
    "#A1_16_train = np.expand_dims(A1_16_train, axis=0)\n",
    "#A1_16_train = A1_train.reshape((A1_train.shape[3], A1_train.shape[1], A1_train.shape[2], A1_train.shape[0]))\n",
    "#A1_16_train = preprocess_input(A1_16_train)\n",
    "print(A1_16_train.shape)\n"
   ]
  },
  {
   "cell_type": "code",
   "execution_count": 30,
   "metadata": {},
   "outputs": [],
   "source": [
    "#  yhat = model.predict(A1_16_train)"
   ]
  },
  {
   "cell_type": "markdown",
   "metadata": {},
   "source": [
    "Future work would be to remove all the sideways facing pictures and only keep the face forward pictures. Another possible solution is to only keep the photos with the glasses on (or off) to avoid confusion in the classifier. I also hope to get the CNN to work as readings online have proven it would give greater results (60%+)"
   ]
  },
  {
   "cell_type": "code",
   "execution_count": null,
   "metadata": {},
   "outputs": [],
   "source": []
  }
 ],
 "metadata": {
  "kernelspec": {
   "display_name": "Python 3",
   "language": "python",
   "name": "python3"
  },
  "language_info": {
   "codemirror_mode": {
    "name": "ipython",
    "version": 3
   },
   "file_extension": ".py",
   "mimetype": "text/x-python",
   "name": "python",
   "nbconvert_exporter": "python",
   "pygments_lexer": "ipython3",
   "version": "3.6.4"
  }
 },
 "nbformat": 4,
 "nbformat_minor": 2
}
