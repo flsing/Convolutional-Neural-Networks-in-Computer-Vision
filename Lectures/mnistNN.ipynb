{
 "cells": [
  {
   "cell_type": "markdown",
   "metadata": {},
   "source": [
    "**Hello World Example**\n",
    "\n",
    "_This notebook is heavily based on Chapter 3 of Aurelien Geron: Hand-on Machine Learning with Scikit-learn & Tensorflow._"
   ]
  },
  {
   "cell_type": "markdown",
   "metadata": {},
   "source": [
    "# Setup"
   ]
  },
  {
   "cell_type": "markdown",
   "metadata": {},
   "source": [
    "First, let's make sure this notebook works well in both python 2 and 3, import a few common modules, ensure MatplotLib plots figures inline and prepare a function to save the figures:"
   ]
  },
  {
   "cell_type": "code",
   "execution_count": 1,
   "metadata": {},
   "outputs": [],
   "source": [
    "# To support both python 2 and python 3\n",
    "from __future__ import division, print_function, unicode_literals\n",
    "\n",
    "# Common imports\n",
    "import numpy as np\n",
    "import os\n",
    "\n",
    "# to make this notebook's output stable across runs\n",
    "np.random.seed(42)\n",
    "\n",
    "# To plot pretty figures\n",
    "%matplotlib inline\n",
    "import matplotlib\n",
    "import matplotlib.pyplot as plt\n",
    "plt.rcParams['axes.labelsize'] = 14\n",
    "plt.rcParams['xtick.labelsize'] = 12\n",
    "plt.rcParams['ytick.labelsize'] = 12\n",
    "\n",
    "# Where to save the figures\n",
    "PROJECT_ROOT_DIR = \".\"\n",
    "NB_ID = \"feedforward\"\n",
    "\n",
    "# create the directory if it does not exist\n",
    "os.makedirs(os.path.join(PROJECT_ROOT_DIR, \"images\", NB_ID), exist_ok = True)\n",
    "        \n",
    "def save_fig(fig_id, tight_layout=True):\n",
    "    path = os.path.join(PROJECT_ROOT_DIR, \"images\", NB_ID, fig_id + \".png\")\n",
    "    print(\"Saving figure\", fig_id)\n",
    "    if tight_layout:\n",
    "        plt.tight_layout()\n",
    "    plt.savefig(path, format='png', dpi=300)"
   ]
  },
  {
   "cell_type": "markdown",
   "metadata": {},
   "source": [
    "# MNIST\n",
    "\n",
    "MNIST is the hello world example of machine learning. scikit-learn can load the data directly from http://mldata.org. "
   ]
  },
  {
   "cell_type": "code",
   "execution_count": 28,
   "metadata": {},
   "outputs": [
    {
     "name": "stdout",
     "output_type": "stream",
     "text": [
      "[[0 0 0 ... 0 0 0]\n",
      " [0 0 0 ... 0 0 0]\n",
      " [0 0 0 ... 0 0 0]\n",
      " ...\n",
      " [0 0 0 ... 0 0 0]\n",
      " [0 0 0 ... 0 0 0]\n",
      " [0 0 0 ... 0 0 0]]\n",
      "[0. 0. 0. ... 9. 9. 9.]\n",
      "Data size: 70000 x 784 and label size 70000\n",
      "The images are of size: 28.0 x 28.0\n"
     ]
    }
   ],
   "source": [
    "from sklearn.datasets import fetch_mldata\n",
    "import math\n",
    "\n",
    "mnist = fetch_mldata('MNIST original')\n",
    "\n",
    "# Use the notion of y=f(X)\n",
    "X, y = mnist[\"data\"], mnist[\"target\"]\n",
    "\n",
    "print(X)\n",
    "print(y)\n",
    "print('Data size: {0} x {1} and label size {2}'.format(X.shape[0],X.shape[1],y.shape[0]))\n",
    "print('The images are of size: {0} x {0}'.format(math.sqrt(X.shape[1])))"
   ]
  },
  {
   "cell_type": "markdown",
   "metadata": {},
   "source": [
    "We can use the matplotlib library to plot the image as a grayscale image with pyplot. Let's find images labeled 7.   "
   ]
  },
  {
   "cell_type": "code",
   "execution_count": 27,
   "metadata": {},
   "outputs": [
    {
     "name": "stdout",
     "output_type": "stream",
     "text": [
      "[41935 41936 41937 ... 68014 68015 68016]\n",
      "There are 7293 images that are labeled 7\n",
      "Saving figure digit_7_plot\n"
     ]
    },
    {
     "data": {
      "image/png": "[encoded data removed]",
      "text/plain": [
       "<Figure size 432x288 with 1 Axes>"
      ]
     },
     "metadata": {},
     "output_type": "display_data"
    }
   ],
   "source": [
    "%matplotlib inline\n",
    "import matplotlib\n",
    "import matplotlib.pyplot as plt\n",
    "\n",
    "index7 = np.where(y==7)[0]\n",
    "print('There are {0} images that are labeled 7'.format(index7.shape[0]))\n",
    "\n",
    "# randomly pick an image\n",
    "pick = index7[np.random.choice(index7.shape[0])]\n",
    "digit_7 = X[pick,:]\n",
    "# reshape into a matrix\n",
    "digit_7_image = digit_7.reshape(28, 28)\n",
    "plt.imshow(digit_7_image, cmap = matplotlib.cm.binary,\n",
    "           interpolation=\"nearest\")\n",
    "# plt.axis(\"on\")\n",
    "# print to file\n",
    "save_fig(\"digit_7_plot\")\n",
    "plt.show()"
   ]
  },
  {
   "cell_type": "markdown",
   "metadata": {},
   "source": [
    "Function by Aurelien Geron to plot sample images in a matrix. Note that the indicies are hard-coded meaning that he is relying on the ordering of the dataset."
   ]
  },
  {
   "cell_type": "code",
   "execution_count": 5,
   "metadata": {},
   "outputs": [],
   "source": [
    "def plot_digit(data):\n",
    "    image = data.reshape(28, 28)\n",
    "    plt.imshow(image, cmap = matplotlib.cm.binary,\n",
    "               interpolation=\"nearest\")\n",
    "    plt.axis(\"off\")"
   ]
  },
  {
   "cell_type": "markdown",
   "metadata": {},
   "source": [
    "# Test and Training Data\n",
    "\n",
    "Split data into test and training data after re-shuffling the data. We can simply take the first 60000 as training and the last 10000 as test."
   ]
  },
  {
   "cell_type": "code",
   "execution_count": 6,
   "metadata": {},
   "outputs": [],
   "source": [
    "shuffle_index = np.random.permutation(70000)\n",
    "# reshuffle the data and use 60000 samples as training and 10000 as test\n",
    "X_train, X_test, y_train, y_test = X[shuffle_index[:60000],:], X[shuffle_index[60000:],:], y[shuffle_index[:60000]], y[shuffle_index[60000:]]\n"
   ]
  },
  {
   "cell_type": "markdown",
   "metadata": {},
   "source": [
    "# Binary classifier\n",
    "\n",
    "Set up a binary classifier for 7 and not 7. We create new labels which are true meaning we have a 7 and false meaning we do not have a 7. "
   ]
  },
  {
   "cell_type": "code",
   "execution_count": 7,
   "metadata": {},
   "outputs": [
    {
     "name": "stdout",
     "output_type": "stream",
     "text": [
      "We have a training set with 6251 images of 7, and a test set with 1042\n"
     ]
    }
   ],
   "source": [
    "y_train_7 = (y_train == 7)\n",
    "y_test_7 = (y_test == 7)\n",
    "print('We have a training set with {0} images of 7, and a test set with {1}'.format(sum(y_train_7),sum(y_test_7)))\n"
   ]
  },
  {
   "cell_type": "markdown",
   "metadata": {},
   "source": [
    "Could compare with logistic regression"
   ]
  },
  {
   "cell_type": "code",
   "execution_count": 8,
   "metadata": {},
   "outputs": [
    {
     "data": {
      "text/plain": [
       "LogisticRegression(C=1.0, class_weight=None, dual=False, fit_intercept=True,\n",
       "          intercept_scaling=1, max_iter=5, multi_class='ovr', n_jobs=1,\n",
       "          penalty='l2', random_state=None, solver='liblinear', tol=0.0001,\n",
       "          verbose=0, warm_start=False)"
      ]
     },
     "execution_count": 8,
     "metadata": {},
     "output_type": "execute_result"
    }
   ],
   "source": [
    "from sklearn.linear_model import LogisticRegression\n",
    "\n",
    "bin_clf = LogisticRegression(max_iter=5)\n",
    "bin_clf.fit(X_train, y_train_7)"
   ]
  },
  {
   "cell_type": "code",
   "execution_count": 9,
   "metadata": {},
   "outputs": [
    {
     "name": "stdout",
     "output_type": "stream",
     "text": [
      "Iteration 1, loss = 0.18571179\n",
      "Iteration 2, loss = 0.04991876\n",
      "Iteration 3, loss = 0.03698895\n",
      "Iteration 4, loss = 0.03239144\n",
      "Iteration 5, loss = 0.02889570\n",
      "Iteration 6, loss = 0.02518198\n",
      "Iteration 7, loss = 0.02290007\n",
      "Iteration 8, loss = 0.02053848\n",
      "Iteration 9, loss = 0.01816329\n",
      "Iteration 10, loss = 0.01710664\n",
      "Iteration 11, loss = 0.01546856\n",
      "Iteration 12, loss = 0.01412878\n",
      "Iteration 13, loss = 0.01266422\n",
      "Iteration 14, loss = 0.01141959\n",
      "Iteration 15, loss = 0.01096895\n",
      "Iteration 16, loss = 0.00965433\n",
      "Iteration 17, loss = 0.00942871\n",
      "Iteration 18, loss = 0.00845629\n",
      "Iteration 19, loss = 0.00754047\n",
      "Iteration 20, loss = 0.00683219\n",
      "Iteration 21, loss = 0.00620547\n",
      "Iteration 22, loss = 0.00578430\n",
      "Iteration 23, loss = 0.00539582\n",
      "Iteration 24, loss = 0.00493034\n",
      "Iteration 25, loss = 0.00457280\n",
      "Iteration 26, loss = 0.00419888\n",
      "Iteration 27, loss = 0.00377839\n",
      "Iteration 28, loss = 0.00343495\n",
      "Iteration 29, loss = 0.00312048\n",
      "Iteration 30, loss = 0.00292825\n",
      "Iteration 31, loss = 0.00269229\n",
      "Iteration 32, loss = 0.00249308\n",
      "Iteration 33, loss = 0.00229740\n",
      "Iteration 34, loss = 0.00215401\n",
      "Iteration 35, loss = 0.00200216\n",
      "Iteration 36, loss = 0.00186302\n",
      "Iteration 37, loss = 0.00167098\n",
      "Iteration 38, loss = 0.00153660\n",
      "Iteration 39, loss = 0.00146376\n",
      "Iteration 40, loss = 0.00137444\n",
      "Iteration 41, loss = 0.00126788\n",
      "Iteration 42, loss = 0.00122752\n",
      "Iteration 43, loss = 0.00113013\n",
      "Iteration 44, loss = 0.00102193\n",
      "Iteration 45, loss = 0.00098125\n",
      "Iteration 46, loss = 0.00092646\n",
      "Iteration 47, loss = 0.00087376\n",
      "Training loss did not improve more than tol=0.000100 for two consecutive epochs. Stopping.\n"
     ]
    },
    {
     "data": {
      "text/plain": [
       "MLPClassifier(activation='relu', alpha=0.0001, batch_size='auto', beta_1=0.9,\n",
       "       beta_2=0.999, early_stopping=False, epsilon=1e-08,\n",
       "       hidden_layer_sizes=(100,), learning_rate='constant',\n",
       "       learning_rate_init=0.001, max_iter=100, momentum=0.9,\n",
       "       nesterovs_momentum=True, power_t=0.5, random_state=None,\n",
       "       shuffle=True, solver='sgd', tol=0.0001, validation_fraction=0.0,\n",
       "       verbose='true', warm_start=False)"
      ]
     },
     "execution_count": 9,
     "metadata": {},
     "output_type": "execute_result"
    }
   ],
   "source": [
    "from sklearn.neural_network import MLPClassifier\n",
    "\n",
    "nn_clf = MLPClassifier(max_iter=100,solver='sgd',verbose='true',validation_fraction=0.0)\n",
    "\n",
    "nn_clf.fit(X_train, y_train_7)"
   ]
  },
  {
   "cell_type": "markdown",
   "metadata": {},
   "source": [
    "Let's see what the network looks like"
   ]
  },
  {
   "cell_type": "code",
   "execution_count": 10,
   "metadata": {},
   "outputs": [
    {
     "name": "stdout",
     "output_type": "stream",
     "text": [
      "Number of layers 3\n",
      "Layer 0: Weights (784, 100) Bias (100,)\n",
      "Layer 1: Weights (100, 1) Bias (1,)\n"
     ]
    }
   ],
   "source": [
    "print(f'Number of layers {nn_clf.n_layers_}')\n",
    "for lyr in range(nn_clf.n_layers_-1):\n",
    "    print('Layer {0}: Weights {1} Bias {2}'.format(lyr,nn_clf.coefs_[lyr].shape, nn_clf.intercepts_[lyr].shape))\n"
   ]
  },
  {
   "cell_type": "markdown",
   "metadata": {},
   "source": [
    "Let's calculate accuracy"
   ]
  },
  {
   "cell_type": "code",
   "execution_count": 11,
   "metadata": {},
   "outputs": [
    {
     "name": "stdout",
     "output_type": "stream",
     "text": [
      "Classifier accuracy on the training set is 0.9997166666666667 \n",
      "Classifier accuracy on the test set is 0.9921 \n"
     ]
    }
   ],
   "source": [
    "from sklearn.metrics import accuracy_score\n",
    "\n",
    "y_pred = nn_clf.predict(X_train)\n",
    "y_pred_test = nn_clf.predict(X_test)\n",
    "print('Classifier accuracy on the training set is {0} '.format(accuracy_score(y_train_7, y_pred)))\n",
    "print('Classifier accuracy on the test set is {0} '.format(accuracy_score(y_test_7, y_pred_test)))"
   ]
  },
  {
   "cell_type": "markdown",
   "metadata": {},
   "source": [
    "Let's pick a 7 out of the test set where our classifier gets it wrong"
   ]
  },
  {
   "cell_type": "code",
   "execution_count": 12,
   "metadata": {},
   "outputs": [
    {
     "data": {
      "image/png": "[encoded data removed]",
      "text/plain": [
       "<Figure size 432x288 with 1 Axes>"
      ]
     },
     "metadata": {},
     "output_type": "display_data"
    },
    {
     "name": "stdout",
     "output_type": "stream",
     "text": [
      "Classifier prediction is [ True] that the image is a 7\n"
     ]
    }
   ],
   "source": [
    "%matplotlib inline\n",
    "import matplotlib\n",
    "import matplotlib.pyplot as plt\n",
    "\n",
    "index7 = np.where(np.equal(y_test_7,np.logical_not(y_pred_test)))[0]\n",
    "# randomly pick an image again\n",
    "pick = index7[np.random.choice(index7.shape[0])]\n",
    "digit_7 = X_test[pick,:]\n",
    "# reshape into a matrix\n",
    "digit_7_image = digit_7.reshape(28, 28)\n",
    "plt.imshow(digit_7_image, cmap = matplotlib.cm.binary,\n",
    "           interpolation=\"nearest\")\n",
    "# plt.axis(\"on\")\n",
    "plt.show()\n",
    "\n",
    "print('Classifier prediction is {0} that the image is a 7'.format(nn_clf.predict([digit_7])))"
   ]
  },
  {
   "cell_type": "markdown",
   "metadata": {},
   "source": [
    "Let's calculate precision, recall and the f1 score; easy to crunch numbers ourselves but its built in."
   ]
  },
  {
   "cell_type": "code",
   "execution_count": 13,
   "metadata": {},
   "outputs": [
    {
     "name": "stdout",
     "output_type": "stream",
     "text": [
      "Classifier scores on training set: \n",
      "Precision is 0.9991992312620115 \n",
      "Recall is 0.9980803071508558 \n",
      "F1 is 0.9986394557823128 \n",
      "And the confusion matrix: \n",
      " [[53744     5]\n",
      " [   12  6239]]\n",
      "Classifier scores on test set: \n",
      "Precision is 0.9616490891658677 \n",
      "Recall is 0.9625719769673704 \n",
      "F1 is 0.9621103117505995 \n",
      "And the confusion matrix: \n",
      " [[8918   40]\n",
      " [  39 1003]]\n"
     ]
    }
   ],
   "source": [
    "from sklearn.metrics import precision_score, recall_score, f1_score, confusion_matrix\n",
    "\n",
    "def print_classifier_scores( y_true, y_res ) :\n",
    "    print('Precision is {0} '.format(precision_score(y_true, y_res)))\n",
    "    print('Recall is {0} '.format(recall_score(y_true, y_res)))\n",
    "    print('F1 is {0} '.format(f1_score(y_true, y_res)))\n",
    "    print( 'And the confusion matrix: \\n {0}'.format(confusion_matrix(y_true, y_res) ))\n",
    "\n",
    "print('Classifier scores on training set: ')\n",
    "print_classifier_scores(y_train_7,y_pred)\n",
    "print('Classifier scores on test set: ')\n",
    "print_classifier_scores(y_test_7,y_pred_test)\n"
   ]
  },
  {
   "cell_type": "code",
   "execution_count": 14,
   "metadata": {},
   "outputs": [
    {
     "data": {
      "image/png": "[encoded data removed]",
      "text/plain": [
       "<Figure size 864x576 with 16 Axes>"
      ]
     },
     "metadata": {},
     "output_type": "display_data"
    }
   ],
   "source": [
    "# Snippet from sklearn tutorial to visualize weights\n",
    "\n",
    "fig, axes = plt.subplots(4, 4,figsize=(12, 8))\n",
    "\n",
    "# use global min / max to ensure all weights are shown on the same scale\n",
    "vmin, vmax = nn_clf.coefs_[0].min(), nn_clf.coefs_[0].max()\n",
    "for coef, ax in zip(nn_clf.coefs_[0].T, axes.ravel()):\n",
    "    ax.matshow(coef.reshape(28, 28), cmap=plt.cm.gray ) \n",
    "    #vmin=.5 * vmin,\n",
    "    #vmax=.5 * vmax)\n",
    "    ax.set_xticks(())\n",
    "    ax.set_yticks(())\n",
    "\n",
    "plt.show()\n"
   ]
  },
  {
   "cell_type": "code",
   "execution_count": 15,
   "metadata": {},
   "outputs": [
    {
     "name": "stdout",
     "output_type": "stream",
     "text": [
      "Iteration 0, loss = 0.24397125814639326\n",
      "Iteration 1, loss = 0.05643189456340898\n",
      "Iteration 2, loss = 0.046460833842228925\n",
      "Iteration 3, loss = 0.040175427632094536\n",
      "Iteration 4, loss = 0.036524385452777114\n",
      "Iteration 5, loss = 0.033294207791920195\n",
      "Iteration 6, loss = 0.030229862877077324\n",
      "Iteration 7, loss = 0.028460349563548187\n",
      "Iteration 8, loss = 0.02692531257525357\n",
      "Iteration 9, loss = 0.025520389805473432\n",
      "Iteration 10, loss = 0.024582290696867643\n",
      "Iteration 11, loss = 0.022801541575372664\n",
      "Iteration 12, loss = 0.021597721209960768\n",
      "Iteration 13, loss = 0.02021907485026341\n",
      "Iteration 14, loss = 0.019427930064154685\n",
      "Iteration 15, loss = 0.01842156529886699\n",
      "Iteration 16, loss = 0.01782431028943065\n",
      "Iteration 17, loss = 0.016545064922408304\n",
      "Iteration 18, loss = 0.016614219345294126\n",
      "Iteration 19, loss = 0.01500067360894429\n",
      "Iteration 20, loss = 0.014525957278676805\n",
      "Iteration 21, loss = 0.013359755614370228\n",
      "Iteration 22, loss = 0.013267223861819633\n",
      "Iteration 23, loss = 0.012458420737635572\n",
      "Iteration 24, loss = 0.011684629529241992\n",
      "Iteration 25, loss = 0.011527626064607967\n",
      "Iteration 26, loss = 0.01087832631890114\n",
      "Iteration 27, loss = 0.010135088445045803\n",
      "Iteration 28, loss = 0.009712435160351921\n",
      "Iteration 29, loss = 0.009250905541610385\n",
      "Iteration 30, loss = 0.008788154979083505\n",
      "Iteration 31, loss = 0.00828073182954521\n",
      "Iteration 32, loss = 0.008602523144885093\n",
      "Iteration 33, loss = 0.007564765992642244\n",
      "Iteration 34, loss = 0.007449642102299835\n",
      "Iteration 35, loss = 0.006937202165436929\n",
      "Iteration 36, loss = 0.006759834320358806\n",
      "Iteration 37, loss = 0.006378643429408921\n",
      "Iteration 38, loss = 0.006093747746295488\n",
      "Iteration 39, loss = 0.005895881985911064\n",
      "Iteration 40, loss = 0.005752544480968038\n",
      "Iteration 41, loss = 0.0053184335927826\n",
      "Iteration 42, loss = 0.0051370783619885335\n",
      "Iteration 43, loss = 0.0048009157425479045\n",
      "Iteration 44, loss = 0.004548930443823702\n",
      "Iteration 45, loss = 0.004341799012606016\n",
      "Iteration 46, loss = 0.004210167371895307\n",
      "Iteration 47, loss = 0.003919437505556629\n",
      "Iteration 48, loss = 0.003685165703380221\n",
      "Iteration 49, loss = 0.003468329229450094\n"
     ]
    },
    {
     "data": {
      "text/plain": [
       "Text(0,0.5,'1-accuracy')"
      ]
     },
     "execution_count": 15,
     "metadata": {},
     "output_type": "execute_result"
    },
    {
     "data": {
      "image/png": "[encoded data removed]",
      "text/plain": [
       "<Figure size 432x288 with 1 Axes>"
      ]
     },
     "metadata": {},
     "output_type": "display_data"
    }
   ],
   "source": [
    "import warnings\n",
    "nEpochs = 50\n",
    "\n",
    "nn_clf = MLPClassifier(max_iter=1,warm_start='true',solver='sgd',validation_fraction=0.0)\n",
    "\n",
    "train_errors, test_errors = [], []\n",
    "\n",
    "for epoch in range(nEpochs): \n",
    "    with warnings.catch_warnings():\n",
    "        warnings.simplefilter(\"ignore\")\n",
    "        nn_clf.fit(X_train, y_train_7)\n",
    "    print(f'Iteration {epoch}, loss = {nn_clf.loss_}')\n",
    "    train_errors.append(1-accuracy_score(y_train_7, nn_clf.predict(X_train)))\n",
    "    test_errors.append(1-accuracy_score(y_test_7, nn_clf.predict(X_test)))\n",
    "    \n",
    "plt.plot(np.sqrt(train_errors), \"r-+\", linewidth=2, label=\"train\")\n",
    "plt.plot(np.sqrt(test_errors), \"b-\", linewidth=3, label=\"test\")\n",
    "plt.legend(loc=\"upper right\", fontsize=14)\n",
    "plt.xlabel(\"Epochs\", fontsize=14)\n",
    "plt.ylabel(\"1-accuracy\", fontsize=14)  \n",
    "    \n",
    "    "
   ]
  },
  {
   "cell_type": "markdown",
   "metadata": {},
   "source": [
    "# Multiclass classification\n",
    "\n",
    "Same idea than with binary classification but with multiple outputs"
   ]
  },
  {
   "cell_type": "code",
   "execution_count": 16,
   "metadata": {},
   "outputs": [
    {
     "name": "stdout",
     "output_type": "stream",
     "text": [
      "Iteration 1, loss = 2.08488410\n",
      "Iteration 2, loss = 1.32383398\n",
      "Iteration 3, loss = 1.10934438\n",
      "Iteration 4, loss = 1.01041371\n",
      "Iteration 5, loss = 0.85781848\n",
      "Iteration 6, loss = 0.80642879\n",
      "Iteration 7, loss = 0.69703734\n",
      "Iteration 8, loss = 0.61835459\n",
      "Iteration 9, loss = 0.57947713\n",
      "Iteration 10, loss = 0.53580407\n",
      "Iteration 11, loss = 0.47647871\n",
      "Iteration 12, loss = 0.43400306\n",
      "Iteration 13, loss = 0.40743880\n",
      "Iteration 14, loss = 0.39122538\n",
      "Iteration 15, loss = 0.37624137\n",
      "Iteration 16, loss = 0.36737483\n",
      "Iteration 17, loss = 0.35801810\n",
      "Iteration 18, loss = 0.34819688\n",
      "Iteration 19, loss = 0.33825767\n",
      "Iteration 20, loss = 0.33074513\n",
      "Iteration 21, loss = 0.32638453\n",
      "Iteration 22, loss = 0.31826044\n",
      "Iteration 23, loss = 0.31321156\n",
      "Iteration 24, loss = 0.30936142\n",
      "Iteration 25, loss = 0.30267373\n",
      "Iteration 26, loss = 0.30088625\n",
      "Iteration 27, loss = 0.29683441\n",
      "Iteration 28, loss = 0.29552132\n",
      "Iteration 29, loss = 0.29024620\n",
      "Iteration 30, loss = 0.28780403\n",
      "Iteration 31, loss = 0.28103592\n",
      "Iteration 32, loss = 0.27989128\n",
      "Iteration 33, loss = 0.27815326\n",
      "Iteration 34, loss = 0.27327567\n",
      "Iteration 35, loss = 0.26990976\n",
      "Iteration 36, loss = 0.26947280\n",
      "Iteration 37, loss = 0.26803219\n",
      "Iteration 38, loss = 0.26366832\n",
      "Iteration 39, loss = 0.26175140\n",
      "Iteration 40, loss = 0.25770746\n",
      "Iteration 41, loss = 0.25441991\n",
      "Iteration 42, loss = 0.25089897\n",
      "Iteration 43, loss = 0.25083862\n",
      "Iteration 44, loss = 0.24686028\n",
      "Iteration 45, loss = 0.24896701\n",
      "Iteration 46, loss = 0.24299006\n",
      "Iteration 47, loss = 0.24108708\n",
      "Iteration 48, loss = 0.24177778\n",
      "Iteration 49, loss = 0.23682257\n",
      "Iteration 50, loss = 0.23405150\n",
      "Iteration 51, loss = 0.23510238\n",
      "Iteration 52, loss = 0.23144756\n",
      "Iteration 53, loss = 0.22900412\n",
      "Iteration 54, loss = 0.22843287\n",
      "Iteration 55, loss = 0.22697354\n",
      "Iteration 56, loss = 0.22555558\n",
      "Iteration 57, loss = 0.22542979\n",
      "Iteration 58, loss = 0.22297969\n",
      "Iteration 59, loss = 0.22197085\n",
      "Iteration 60, loss = 0.22142310\n",
      "Iteration 61, loss = 0.22259199\n",
      "Iteration 62, loss = 0.22046319\n",
      "Iteration 63, loss = 0.22138323\n",
      "Iteration 64, loss = 0.21513340\n",
      "Iteration 65, loss = 0.21715067\n",
      "Iteration 66, loss = 0.21690053\n",
      "Iteration 67, loss = 0.21442441\n",
      "Iteration 68, loss = 0.21337890\n",
      "Iteration 69, loss = 0.21285607\n",
      "Iteration 70, loss = 0.21336011\n",
      "Iteration 71, loss = 0.21205433\n",
      "Iteration 72, loss = 0.21148275\n",
      "Iteration 73, loss = 0.21055911\n",
      "Iteration 74, loss = 0.21088526\n",
      "Iteration 75, loss = 0.21027379\n",
      "Iteration 76, loss = 0.20711673\n",
      "Iteration 77, loss = 0.20768546\n",
      "Iteration 78, loss = 0.20668213\n",
      "Iteration 79, loss = 0.20740808\n",
      "Iteration 80, loss = 0.20683088\n",
      "Iteration 81, loss = 0.20534381\n",
      "Iteration 82, loss = 0.20657598\n",
      "Iteration 83, loss = 0.20531721\n",
      "Iteration 84, loss = 0.20660336\n",
      "Training loss did not improve more than tol=0.000100 for two consecutive epochs. Stopping.\n"
     ]
    },
    {
     "data": {
      "text/plain": [
       "MLPClassifier(activation='relu', alpha=0.0001, batch_size='auto', beta_1=0.9,\n",
       "       beta_2=0.999, early_stopping=False, epsilon=1e-08,\n",
       "       hidden_layer_sizes=(100,), learning_rate='constant',\n",
       "       learning_rate_init=0.001, max_iter=100, momentum=0.9,\n",
       "       nesterovs_momentum=True, power_t=0.5, random_state=None,\n",
       "       shuffle=True, solver='sgd', tol=0.0001, validation_fraction=0.0,\n",
       "       verbose='true', warm_start=False)"
      ]
     },
     "execution_count": 16,
     "metadata": {},
     "output_type": "execute_result"
    }
   ],
   "source": [
    "from sklearn.neural_network import MLPClassifier\n",
    "\n",
    "nn_mclf = MLPClassifier(max_iter=100,solver='sgd',verbose='true',validation_fraction=0.0)\n",
    "\n",
    "nn_mclf.fit(X_train, y_train)"
   ]
  },
  {
   "cell_type": "code",
   "execution_count": 17,
   "metadata": {},
   "outputs": [
    {
     "name": "stdout",
     "output_type": "stream",
     "text": [
      "Number of layers 3\n",
      "Layer 0: Weights (784, 100) Bias (100,)\n",
      "Layer 1: Weights (100, 1) Bias (1,)\n"
     ]
    }
   ],
   "source": [
    "print(f'Number of layers {nn_clf.n_layers_}')\n",
    "for lyr in range(nn_clf.n_layers_-1):\n",
    "    print('Layer {0}: Weights {1} Bias {2}'.format(lyr,nn_clf.coefs_[lyr].shape, nn_clf.intercepts_[lyr].shape))\n"
   ]
  },
  {
   "cell_type": "code",
   "execution_count": 18,
   "metadata": {},
   "outputs": [
    {
     "name": "stdout",
     "output_type": "stream",
     "text": [
      "Classifier prediction is that the image belongs to class [1.]\n"
     ]
    }
   ],
   "source": [
    "print('Classifier prediction is that the image belongs to class {0}'.format(nn_mclf.predict([digit_7])))"
   ]
  },
  {
   "cell_type": "code",
   "execution_count": 19,
   "metadata": {},
   "outputs": [
    {
     "name": "stdout",
     "output_type": "stream",
     "text": [
      "Confusion matrix (training): \n",
      "[[5708    0   26    0   13   12   23   24   61    7]\n",
      " [   1 6565   23   23    8   35    1    7   46    8]\n",
      " [  53   20 5596   26   37   26   19   68  173    8]\n",
      " [   0    1  192 5516    3   94    6   85  160   31]\n",
      " [  16    3    9    1 5705    2   10    6   23   78]\n",
      " [  13   14   13  116   13 5009   65    9  133   18]\n",
      " [  37   14    3    1   21   58 5681    0   85    0]\n",
      " [  10    4   56    8   37   16    0 5929   26  165]\n",
      " [  10   10   28   42   32   80   17   17 5621   42]\n",
      " [  10    6    0  117  283   26    1  113   58 5375]]\n",
      "Confusion matrix (test): \n",
      "[[ 989    0    7    0    2    6    3    5   17    0]\n",
      " [   0 1122    3    1    2    5    1    5   19    2]\n",
      " [   3    4  889    4    7    4    2   10   40    1]\n",
      " [   3    4   39  911    2   29    1   16   44    4]\n",
      " [   3    5    2    1  923    2    2    2   10   21]\n",
      " [   6    0    3   21    5  818   16    3   27   11]\n",
      " [   7    3    3    0    8   12  928    0   15    0]\n",
      " [   2    3   13    2    8    5    0  975    1   33]\n",
      " [   6    7   10   10    7   17    5    4  848   12]\n",
      " [   3    1    0   16   53    9    1   29   13  844]]\n"
     ]
    }
   ],
   "source": [
    "y_train_pred = nn_mclf.predict(X_train)\n",
    "y_test_pred = nn_mclf.predict(X_test)\n",
    "conf_mx_train  = confusion_matrix(y_train, y_train_pred)\n",
    "conf_mx_test  = confusion_matrix(y_test, y_test_pred)\n",
    "print('Confusion matrix (training): \\n{0}'.format(conf_mx_train))\n",
    "print('Confusion matrix (test): \\n{0}'.format(conf_mx_test))"
   ]
  },
  {
   "cell_type": "code",
   "execution_count": 20,
   "metadata": {},
   "outputs": [],
   "source": [
    "def plot_confusion_matrix(matrix):\n",
    "    \"\"\"If you prefer color and a colorbar\"\"\"\n",
    "    fig = plt.figure(figsize=(8,8))\n",
    "    ax = fig.add_subplot(111)\n",
    "    cax = ax.matshow(matrix)\n",
    "    fig.colorbar(cax)"
   ]
  },
  {
   "cell_type": "markdown",
   "metadata": {},
   "source": [
    "Make errors more visible by printing the ratio and zeroing out the diagonal."
   ]
  },
  {
   "cell_type": "code",
   "execution_count": 21,
   "metadata": {},
   "outputs": [
    {
     "name": "stdout",
     "output_type": "stream",
     "text": [
      "Saving figure confusion_matrix_errors_plot\n"
     ]
    },
    {
     "data": {
      "image/png": "[encoded data removed]",
      "text/plain": [
       "<Figure size 576x576 with 2 Axes>"
      ]
     },
     "metadata": {},
     "output_type": "display_data"
    }
   ],
   "source": [
    "row_sums = conf_mx_test.sum(axis=1, keepdims=True)\n",
    "norm_conf_mx = conf_mx_test / row_sums\n",
    "np.fill_diagonal(norm_conf_mx, 0)\n",
    "# plt.matshow(norm_conf_mx, cmap=plt.cm.gray)\n",
    "plot_confusion_matrix(norm_conf_mx)\n",
    "save_fig(\"confusion_matrix_errors_plot\", tight_layout=False)\n",
    "plt.show()"
   ]
  },
  {
   "cell_type": "code",
   "execution_count": null,
   "metadata": {},
   "outputs": [],
   "source": []
  }
 ],
 "metadata": {
  "kernelspec": {
   "display_name": "Python 3",
   "language": "python",
   "name": "python3"
  },
  "language_info": {
   "codemirror_mode": {
    "name": "ipython",
    "version": 3
   },
   "file_extension": ".py",
   "mimetype": "text/x-python",
   "name": "python",
   "nbconvert_exporter": "python",
   "pygments_lexer": "ipython3",
   "version": "3.6.4"
  },
  "nav_menu": {},
  "toc": {
   "navigate_menu": true,
   "number_sections": true,
   "sideBar": true,
   "threshold": 6,
   "toc_cell": false,
   "toc_section_display": "block",
   "toc_window_display": false
  }
 },
 "nbformat": 4,
 "nbformat_minor": 1
}
