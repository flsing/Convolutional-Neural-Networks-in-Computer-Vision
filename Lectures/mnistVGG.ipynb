{
 "cells": [
  {
   "cell_type": "markdown",
   "metadata": {},
   "source": [
    "**Hello World Example**\n",
    "\n",
    "_This notebook is partly based on Chapter 3 of Aurelien Geron: Hand-on Machine Learning with Scikit-learn & Tensorflow._"
   ]
  },
  {
   "cell_type": "markdown",
   "metadata": {},
   "source": [
    "# Setup"
   ]
  },
  {
   "cell_type": "markdown",
   "metadata": {},
   "source": [
    "First, let's make sure this notebook works well in both python 2 and 3, import a few common modules, ensure MatplotLib plots figures inline and prepare a function to save the figures:"
   ]
  },
  {
   "cell_type": "code",
   "execution_count": 3,
   "metadata": {},
   "outputs": [],
   "source": [
    "# To support both python 2 and python 3\n",
    "from __future__ import division, print_function, unicode_literals\n",
    "\n",
    "# Common imports\n",
    "import numpy as np\n",
    "import os\n",
    "\n",
    "# to make this notebook's output stable across runs\n",
    "def reset_graph(seed=42):\n",
    "    tf.reset_default_graph()\n",
    "    tf.set_random_seed(seed)\n",
    "    np.random.seed(seed)\n",
    "\n",
    "# To plot pretty figures\n",
    "%matplotlib inline\n",
    "import matplotlib\n",
    "import matplotlib.pyplot as plt\n",
    "plt.rcParams['axes.labelsize'] = 14\n",
    "plt.rcParams['xtick.labelsize'] = 12\n",
    "plt.rcParams['ytick.labelsize'] = 12\n",
    "\n",
    "# Where to save the figures\n",
    "PROJECT_ROOT_DIR = \".\"\n",
    "NB_ID = \"VGG_MNIST\"\n",
    "\n",
    "# create the directory if it does not exist\n",
    "os.makedirs(os.path.join(PROJECT_ROOT_DIR, \"images\", NB_ID), exist_ok = True)\n",
    "        \n",
    "def save_fig(fig_id, tight_layout=True):\n",
    "    path = os.path.join(PROJECT_ROOT_DIR, \"images\", NB_ID, fig_id + \".png\")\n",
    "    print(\"Saving figure\", fig_id)\n",
    "    if tight_layout:\n",
    "        plt.tight_layout()\n",
    "    plt.savefig(path, format='png', dpi=300)"
   ]
  },
  {
   "cell_type": "markdown",
   "metadata": {},
   "source": [
    "A couple utility functions to plot grayscale and RGB images:"
   ]
  },
  {
   "cell_type": "code",
   "execution_count": 4,
   "metadata": {},
   "outputs": [],
   "source": [
    "def plot_image(image):\n",
    "    plt.imshow(image, cmap=\"gray\", interpolation=\"nearest\")\n",
    "    plt.axis(\"off\")\n",
    "\n",
    "def plot_color_image(image):\n",
    "    plt.imshow(image.astype(np.uint8),interpolation=\"nearest\")\n",
    "    plt.axis(\"off\")"
   ]
  },
  {
   "cell_type": "markdown",
   "metadata": {},
   "source": [
    "# Import the Keras API from Tensorflow"
   ]
  },
  {
   "cell_type": "code",
   "execution_count": 18,
   "metadata": {},
   "outputs": [],
   "source": [
    "import tensorflow as tf\n",
    "import tensorflow.keras\n",
    "from tensorflow.keras.models import Model\n",
    "from tensorflow.keras.layers import Dense, Flatten, Conv2D, MaxPooling2D\n",
    "# from tensorflow.keras import backend as K"
   ]
  },
  {
   "cell_type": "markdown",
   "metadata": {},
   "source": [
    "# MNIST\n",
    "\n",
    "MNIST is the hello world example of machine learning. scikit-learn can load the data directly from http://mldata.org. "
   ]
  },
  {
   "cell_type": "code",
   "execution_count": 6,
   "metadata": {
    "scrolled": true
   },
   "outputs": [
    {
     "name": "stdout",
     "output_type": "stream",
     "text": [
      "Data size: 70000 x 784 and label size 70000\n",
      "The images are of size: 28.0 x 28.0\n",
      "The images are of size: 28.0 x 28.0\n"
     ]
    },
    {
     "name": "stderr",
     "output_type": "stream",
     "text": [
      "D:\\Anaconda3\\envs\\tensorflow\\lib\\site-packages\\sklearn\\utils\\deprecation.py:77: DeprecationWarning: Function fetch_mldata is deprecated; fetch_mldata was deprecated in version 0.20 and will be removed in version 0.22\n",
      "  warnings.warn(msg, category=DeprecationWarning)\n",
      "D:\\Anaconda3\\envs\\tensorflow\\lib\\site-packages\\sklearn\\utils\\deprecation.py:77: DeprecationWarning: Function mldata_filename is deprecated; mldata_filename was deprecated in version 0.20 and will be removed in version 0.22\n",
      "  warnings.warn(msg, category=DeprecationWarning)\n"
     ]
    }
   ],
   "source": [
    "from sklearn.datasets import fetch_mldata\n",
    "import math\n",
    "\n",
    "mnist = fetch_mldata('MNIST original')\n",
    "\n",
    "# Use the notion of y=f(X)\n",
    "X, y = mnist[\"data\"], mnist[\"target\"]\n",
    "print('Data size: {0} x {1} and label size {2}'.format(X.shape[0],X.shape[1],y.shape[0]))\n",
    "print('The images are of size: {0} x {0}'.format(math.sqrt(X.shape[1])))\n",
    "print('The images are of size: {0} x {0}'.format(math.sqrt(X.shape[1])))"
   ]
  },
  {
   "cell_type": "markdown",
   "metadata": {},
   "source": [
    "# Test and Training Data\n",
    "Let's split into training images and test images."
   ]
  },
  {
   "cell_type": "code",
   "execution_count": 7,
   "metadata": {},
   "outputs": [
    {
     "name": "stdout",
     "output_type": "stream",
     "text": [
      "Matrix shape X:  (60000, 28, 28, 1)\n",
      "60000 samples for training\n",
      "10000 samples for training\n"
     ]
    }
   ],
   "source": [
    "from sklearn.model_selection import train_test_split\n",
    "\n",
    "X_train, X_test, y_train, y_test = train_test_split(X, y, test_size=1.0/7, stratify=y, random_state=42)\n",
    "\n",
    "# shuffle_index = np.random.permutation(70000)\n",
    "# reshuffle the data and use 60000 samples as training and 10000 as test\n",
    "# X_train, X_test, y_train, y_test = X[shuffle_index[:60000],:], X[shuffle_index[60000:],:], y[shuffle_index[:60000]], y[shuffle_index[60000:]]\n",
    "\n",
    "# reshape into images\n",
    "X_train = X_train.reshape(X_train.shape[0],28,28,1)\n",
    "X_test = X_test.reshape(X_test.shape[0],28,28,1)\n",
    "\n",
    "print('Matrix shape X: ', X_train.shape)\n",
    "print('{0} samples for training'.format(X_train.shape[0]))\n",
    "print('{0} samples for training'.format(X_test.shape[0]))"
   ]
  },
  {
   "cell_type": "markdown",
   "metadata": {},
   "source": [
    "Plot an image as sanity check."
   ]
  },
  {
   "cell_type": "code",
   "execution_count": 8,
   "metadata": {},
   "outputs": [
    {
     "name": "stdout",
     "output_type": "stream",
     "text": [
      "Number:  7.0\n"
     ]
    },
    {
     "data": {
      "image/png": "[encoded data removed]",
      "text/plain": [
       "<Figure size 432x288 with 1 Axes>"
      ]
     },
     "metadata": {},
     "output_type": "display_data"
    }
   ],
   "source": [
    "plot_image(X_train[15000,:,:,0])\n",
    "print('Number: ', y_train[15000])"
   ]
  },
  {
   "cell_type": "markdown",
   "metadata": {},
   "source": [
    "For VGG net, we will need colour images of minimum size $32 \\times 32$"
   ]
  },
  {
   "cell_type": "code",
   "execution_count": 9,
   "metadata": {},
   "outputs": [
    {
     "data": {
      "image/png": "[encoded data removed]",
      "text/plain": [
       "<Figure size 432x288 with 1 Axes>"
      ]
     },
     "metadata": {},
     "output_type": "display_data"
    }
   ],
   "source": [
    "from skimage.color import gray2rgb\n",
    "\n",
    "def resize_images(X_in):\n",
    "    X_32 = np.zeros((X_in.shape[0],32,32,3))\n",
    "    for i in range(0,X_in.shape[0]):\n",
    "        X_32[i,2:30,2:30] = gray2rgb(X_in[i,:,:,0])\n",
    "    return X_32\n",
    "    \n",
    "    \n",
    "X_train_32 = resize_images(X_train)\n",
    "X_test_32 = resize_images(X_test)\n",
    "    \n",
    "plot_color_image(X_train_32[15000])\n"
   ]
  },
  {
   "cell_type": "markdown",
   "metadata": {},
   "source": [
    "# VGG-16\n",
    "Import VGG net but without the top fully connected layers. We like to put our own classification layer on top. We will keep VGG net fix and just train our won top layers."
   ]
  },
  {
   "cell_type": "code",
   "execution_count": 21,
   "metadata": {},
   "outputs": [],
   "source": [
    "from tensorflow.keras.applications import VGG16\n",
    " \n",
    "vgg_model = VGG16(weights='imagenet',\n",
    "                  include_top=False,\n",
    "                  input_shape=(32, 32, 3))\n",
    "\n"
   ]
  },
  {
   "cell_type": "code",
   "execution_count": 22,
   "metadata": {},
   "outputs": [
    {
     "name": "stdout",
     "output_type": "stream",
     "text": [
      "_________________________________________________________________\n",
      "Layer (type)                 Output Shape              Param #   \n",
      "=================================================================\n",
      "input_2 (InputLayer)         (None, 32, 32, 3)         0         \n",
      "_________________________________________________________________\n",
      "block1_conv1 (Conv2D)        (None, 32, 32, 64)        1792      \n",
      "_________________________________________________________________\n",
      "block1_conv2 (Conv2D)        (None, 32, 32, 64)        36928     \n",
      "_________________________________________________________________\n",
      "block1_pool (MaxPooling2D)   (None, 16, 16, 64)        0         \n",
      "_________________________________________________________________\n",
      "block2_conv1 (Conv2D)        (None, 16, 16, 128)       73856     \n",
      "_________________________________________________________________\n",
      "block2_conv2 (Conv2D)        (None, 16, 16, 128)       147584    \n",
      "_________________________________________________________________\n",
      "block2_pool (MaxPooling2D)   (None, 8, 8, 128)         0         \n",
      "_________________________________________________________________\n",
      "block3_conv1 (Conv2D)        (None, 8, 8, 256)         295168    \n",
      "_________________________________________________________________\n",
      "block3_conv2 (Conv2D)        (None, 8, 8, 256)         590080    \n",
      "_________________________________________________________________\n",
      "block3_conv3 (Conv2D)        (None, 8, 8, 256)         590080    \n",
      "_________________________________________________________________\n",
      "block3_pool (MaxPooling2D)   (None, 4, 4, 256)         0         \n",
      "_________________________________________________________________\n",
      "block4_conv1 (Conv2D)        (None, 4, 4, 512)         1180160   \n",
      "_________________________________________________________________\n",
      "block4_conv2 (Conv2D)        (None, 4, 4, 512)         2359808   \n",
      "_________________________________________________________________\n",
      "block4_conv3 (Conv2D)        (None, 4, 4, 512)         2359808   \n",
      "_________________________________________________________________\n",
      "block4_pool (MaxPooling2D)   (None, 2, 2, 512)         0         \n",
      "_________________________________________________________________\n",
      "block5_conv1 (Conv2D)        (None, 2, 2, 512)         2359808   \n",
      "_________________________________________________________________\n",
      "block5_conv2 (Conv2D)        (None, 2, 2, 512)         2359808   \n",
      "_________________________________________________________________\n",
      "block5_conv3 (Conv2D)        (None, 2, 2, 512)         2359808   \n",
      "_________________________________________________________________\n",
      "block5_pool (MaxPooling2D)   (None, 1, 1, 512)         0         \n",
      "=================================================================\n",
      "Total params: 14,714,688\n",
      "Trainable params: 14,714,688\n",
      "Non-trainable params: 0\n",
      "_________________________________________________________________\n",
      "None\n"
     ]
    }
   ],
   "source": [
    "print(vgg_model.summary())"
   ]
  },
  {
   "cell_type": "markdown",
   "metadata": {},
   "source": [
    "Add new output layer"
   ]
  },
  {
   "cell_type": "code",
   "execution_count": 13,
   "metadata": {},
   "outputs": [
    {
     "data": {
      "text/plain": [
       "<tensorflow.python.keras.layers.pooling.MaxPooling2D at 0x200fda24e48>"
      ]
     },
     "execution_count": 13,
     "metadata": {},
     "output_type": "execute_result"
    }
   ],
   "source": [
    "vgg_model.layers[-1]"
   ]
  },
  {
   "cell_type": "code",
   "execution_count": 24,
   "metadata": {},
   "outputs": [],
   "source": [
    "for layer in vgg_model.layers:\n",
    "    layer.trainable = False\n",
    "\n",
    "# We will have to use the functional API    \n",
    "\n",
    "# last layers output\n",
    "x = vgg_model.layers[-1].output\n",
    "# Flatten as before\n",
    "x = Flatten()(x)\n",
    "x = Dense(256, activation='relu')(x)\n",
    "x = Dense(10, activation='softmax')(x)\n",
    "\n",
    "from tensorflow.keras.models import Model\n",
    "vgg_model_transfer = Model(inputs=vgg_model.input, outputs=x)\n"
   ]
  },
  {
   "cell_type": "code",
   "execution_count": 25,
   "metadata": {},
   "outputs": [
    {
     "name": "stdout",
     "output_type": "stream",
     "text": [
      "_________________________________________________________________\n",
      "Layer (type)                 Output Shape              Param #   \n",
      "=================================================================\n",
      "input_2 (InputLayer)         (None, 32, 32, 3)         0         \n",
      "_________________________________________________________________\n",
      "block1_conv1 (Conv2D)        (None, 32, 32, 64)        1792      \n",
      "_________________________________________________________________\n",
      "block1_conv2 (Conv2D)        (None, 32, 32, 64)        36928     \n",
      "_________________________________________________________________\n",
      "block1_pool (MaxPooling2D)   (None, 16, 16, 64)        0         \n",
      "_________________________________________________________________\n",
      "block2_conv1 (Conv2D)        (None, 16, 16, 128)       73856     \n",
      "_________________________________________________________________\n",
      "block2_conv2 (Conv2D)        (None, 16, 16, 128)       147584    \n",
      "_________________________________________________________________\n",
      "block2_pool (MaxPooling2D)   (None, 8, 8, 128)         0         \n",
      "_________________________________________________________________\n",
      "block3_conv1 (Conv2D)        (None, 8, 8, 256)         295168    \n",
      "_________________________________________________________________\n",
      "block3_conv2 (Conv2D)        (None, 8, 8, 256)         590080    \n",
      "_________________________________________________________________\n",
      "block3_conv3 (Conv2D)        (None, 8, 8, 256)         590080    \n",
      "_________________________________________________________________\n",
      "block3_pool (MaxPooling2D)   (None, 4, 4, 256)         0         \n",
      "_________________________________________________________________\n",
      "block4_conv1 (Conv2D)        (None, 4, 4, 512)         1180160   \n",
      "_________________________________________________________________\n",
      "block4_conv2 (Conv2D)        (None, 4, 4, 512)         2359808   \n",
      "_________________________________________________________________\n",
      "block4_conv3 (Conv2D)        (None, 4, 4, 512)         2359808   \n",
      "_________________________________________________________________\n",
      "block4_pool (MaxPooling2D)   (None, 2, 2, 512)         0         \n",
      "_________________________________________________________________\n",
      "block5_conv1 (Conv2D)        (None, 2, 2, 512)         2359808   \n",
      "_________________________________________________________________\n",
      "block5_conv2 (Conv2D)        (None, 2, 2, 512)         2359808   \n",
      "_________________________________________________________________\n",
      "block5_conv3 (Conv2D)        (None, 2, 2, 512)         2359808   \n",
      "_________________________________________________________________\n",
      "block5_pool (MaxPooling2D)   (None, 1, 1, 512)         0         \n",
      "_________________________________________________________________\n",
      "flatten_6 (Flatten)          (None, 512)               0         \n",
      "_________________________________________________________________\n",
      "dense_11 (Dense)             (None, 256)               131328    \n",
      "_________________________________________________________________\n",
      "dense_12 (Dense)             (None, 10)                2570      \n",
      "=================================================================\n",
      "Total params: 14,848,586\n",
      "Trainable params: 133,898\n",
      "Non-trainable params: 14,714,688\n",
      "_________________________________________________________________\n",
      "None\n"
     ]
    }
   ],
   "source": [
    "print(vgg_model_transfer.summary())"
   ]
  },
  {
   "cell_type": "markdown",
   "metadata": {},
   "source": [
    "Turn the numbers into one-hot vectors"
   ]
  },
  {
   "cell_type": "code",
   "execution_count": 26,
   "metadata": {},
   "outputs": [],
   "source": [
    "nClasses = 10\n",
    "# Use Keras' handy utils\n",
    "y_train_k = tensorflow.keras.utils.to_categorical(y_train, num_classes=nClasses)\n",
    "y_test_k = tensorflow.keras.utils.to_categorical(y_test, num_classes=nClasses)\n"
   ]
  },
  {
   "cell_type": "markdown",
   "metadata": {},
   "source": [
    "See if it worked"
   ]
  },
  {
   "cell_type": "code",
   "execution_count": 27,
   "metadata": {},
   "outputs": [
    {
     "name": "stdout",
     "output_type": "stream",
     "text": [
      "6.0   [0. 0. 0. 0. 0. 0. 1. 0. 0. 0.]\n",
      "3.0   [0. 0. 0. 1. 0. 0. 0. 0. 0. 0.]\n",
      "1.0   [0. 1. 0. 0. 0. 0. 0. 0. 0. 0.]\n",
      "2.0   [0. 0. 1. 0. 0. 0. 0. 0. 0. 0.]\n",
      "9.0   [0. 0. 0. 0. 0. 0. 0. 0. 0. 1.]\n",
      "5.0   [0. 0. 0. 0. 0. 1. 0. 0. 0. 0.]\n",
      "1.0   [0. 1. 0. 0. 0. 0. 0. 0. 0. 0.]\n",
      "6.0   [0. 0. 0. 0. 0. 0. 1. 0. 0. 0.]\n",
      "2.0   [0. 0. 1. 0. 0. 0. 0. 0. 0. 0.]\n",
      "5.0   [0. 0. 0. 0. 0. 1. 0. 0. 0. 0.]\n"
     ]
    }
   ],
   "source": [
    "for i in range(0,200,20):\n",
    "    print(y_train[i], \" \", y_train_k[i,:])\n"
   ]
  },
  {
   "cell_type": "markdown",
   "metadata": {},
   "source": [
    "# MNIST Training"
   ]
  },
  {
   "cell_type": "code",
   "execution_count": 30,
   "metadata": {
    "scrolled": true
   },
   "outputs": [
    {
     "name": "stdout",
     "output_type": "stream",
     "text": [
      "Train on 60000 samples, validate on 10000 samples\n",
      "Epoch 1/32\n",
      "60000/60000 [==============================] - 97s 2ms/step - loss: 1.0448 - acc: 0.7369 - val_loss: 0.6905 - val_acc: 0.7918\n",
      "Epoch 2/32\n",
      "60000/60000 [==============================] - 69s 1ms/step - loss: 0.4788 - acc: 0.8525 - val_loss: 0.4241 - val_acc: 0.8708\n",
      "Epoch 3/32\n",
      "60000/60000 [==============================] - 67s 1ms/step - loss: 0.3851 - acc: 0.8785 - val_loss: 0.3655 - val_acc: 0.8899\n",
      "Epoch 4/32\n",
      "60000/60000 [==============================] - 61s 1ms/step - loss: 0.3332 - acc: 0.8946 - val_loss: 0.3259 - val_acc: 0.9032\n",
      "Epoch 5/32\n",
      "60000/60000 [==============================] - 88s 1ms/step - loss: 0.3077 - acc: 0.9015 - val_loss: 0.3014 - val_acc: 0.9094\n",
      "Epoch 6/32\n",
      "60000/60000 [==============================] - 58s 961us/step - loss: 0.2843 - acc: 0.9108 - val_loss: 0.2850 - val_acc: 0.9139\n",
      "Epoch 7/32\n",
      "60000/60000 [==============================] - 62s 1ms/step - loss: 0.2684 - acc: 0.9150 - val_loss: 0.2757 - val_acc: 0.9185\n",
      "Epoch 8/32\n",
      "60000/60000 [==============================] - 55s 915us/step - loss: 0.2547 - acc: 0.9199 - val_loss: 0.2638 - val_acc: 0.9203\n",
      "Epoch 9/32\n",
      "60000/60000 [==============================] - 17s 278us/step - loss: 0.2443 - acc: 0.9225 - val_loss: 0.2520 - val_acc: 0.9256\n",
      "Epoch 10/32\n",
      "60000/60000 [==============================] - 17s 280us/step - loss: 0.2363 - acc: 0.9256 - val_loss: 0.2546 - val_acc: 0.9232\n",
      "Epoch 11/32\n",
      "60000/60000 [==============================] - 17s 280us/step - loss: 0.2292 - acc: 0.9281 - val_loss: 0.2487 - val_acc: 0.9224\n",
      "Epoch 12/32\n",
      "60000/60000 [==============================] - 17s 280us/step - loss: 0.2214 - acc: 0.9304 - val_loss: 0.2541 - val_acc: 0.9227\n",
      "Epoch 13/32\n",
      "60000/60000 [==============================] - 17s 281us/step - loss: 0.2144 - acc: 0.9320 - val_loss: 0.2307 - val_acc: 0.9299\n",
      "Epoch 14/32\n",
      "60000/60000 [==============================] - 17s 282us/step - loss: 0.2103 - acc: 0.9336 - val_loss: 0.2449 - val_acc: 0.9231- loss: 0.2107 - acc: 0 - ETA: 1s - loss: 0.21 - ETA: 0s - loss: 0.2096 - a\n",
      "Epoch 15/32\n",
      "60000/60000 [==============================] - 17s 282us/step - loss: 0.2050 - acc: 0.9358 - val_loss: 0.2262 - val_acc: 0.9294\n",
      "Epoch 16/32\n",
      "60000/60000 [==============================] - 17s 281us/step - loss: 0.2006 - acc: 0.9373 - val_loss: 0.2285 - val_acc: 0.9290\n",
      "Epoch 17/32\n",
      "60000/60000 [==============================] - 17s 283us/step - loss: 0.1977 - acc: 0.9377 - val_loss: 0.2134 - val_acc: 0.9360 2s - ETA: 1s - loss: 0.1\n",
      "Epoch 18/32\n",
      "60000/60000 [==============================] - 17s 281us/step - loss: 0.1937 - acc: 0.9388 - val_loss: 0.2148 - val_acc: 0.9352\n",
      "Epoch 19/32\n",
      "60000/60000 [==============================] - 17s 280us/step - loss: 0.1897 - acc: 0.9401 - val_loss: 0.2214 - val_acc: 0.9309\n",
      "Epoch 20/32\n",
      "60000/60000 [==============================] - 17s 283us/step - loss: 0.1873 - acc: 0.9413 - val_loss: 0.2049 - val_acc: 0.9374\n",
      "Epoch 21/32\n",
      "60000/60000 [==============================] - 17s 281us/step - loss: 0.1835 - acc: 0.9422 - val_loss: 0.2072 - val_acc: 0.9366oss: 0.1837 - acc: 0.\n",
      "Epoch 22/32\n",
      "60000/60000 [==============================] - 17s 281us/step - loss: 0.1805 - acc: 0.9435 - val_loss: 0.2074 - val_acc: 0.9353\n",
      "Epoch 23/32\n",
      "60000/60000 [==============================] - 17s 284us/step - loss: 0.1781 - acc: 0.9438 - val_loss: 0.1985 - val_acc: 0.93941s - \n",
      "Epoch 24/32\n",
      "60000/60000 [==============================] - 17s 284us/step - loss: 0.1755 - acc: 0.9449 - val_loss: 0.2148 - val_acc: 0.9317\n",
      "Epoch 25/32\n",
      "60000/60000 [==============================] - 17s 284us/step - loss: 0.1738 - acc: 0.9456 - val_loss: 0.1959 - val_acc: 0.9397\n",
      "Epoch 26/32\n",
      "60000/60000 [==============================] - 17s 284us/step - loss: 0.1714 - acc: 0.9465 - val_loss: 0.1979 - val_acc: 0.93880s - loss: 0.1714 - acc\n",
      "Epoch 27/32\n",
      "60000/60000 [==============================] - 17s 285us/step - loss: 0.1695 - acc: 0.9467 - val_loss: 0.1949 - val_acc: 0.9409\n",
      "Epoch 28/32\n",
      "60000/60000 [==============================] - 17s 287us/step - loss: 0.1671 - acc: 0.9477 - val_loss: 0.1976 - val_acc: 0.9397\n",
      "Epoch 29/32\n",
      "60000/60000 [==============================] - 17s 285us/step - loss: 0.1653 - acc: 0.9483 - val_loss: 0.1962 - val_acc: 0.9401-  - ETA: 3s - l - ETA: 1s - loss: 0.1663 - acc:  - ETA: 1s - los\n",
      "Epoch 30/32\n",
      "60000/60000 [==============================] - 17s 284us/step - loss: 0.1635 - acc: 0.9483 - val_loss: 0.1854 - val_acc: 0.9433loss: 0.16 - ETA: 3s - loss: 0.1643 -  - ETA: 2s - loss: 0.1636 - acc: 0.94 - ETA: 2s - loss: 0.1633 - acc - ETA: 1s - loss: 0.1632 - acc - ETA: 1s - loss: 0.1627 - acc - ETA: 0s - loss: 0.1625 - acc - ETA: 0s - loss: 0.1630 - acc: 0\n",
      "Epoch 31/32\n",
      "60000/60000 [==============================] - 17s 282us/step - loss: 0.1612 - acc: 0.9500 - val_loss: 0.1847 - val_acc: 0.9437\n",
      "Epoch 32/32\n",
      "60000/60000 [==============================] - 17s 278us/step - loss: 0.1599 - acc: 0.9496 - val_loss: 0.1853 - val_acc: 0.9441\n"
     ]
    }
   ],
   "source": [
    "batchSize = 128\n",
    "nEpochs = 32\n",
    "\n",
    "    \n",
    "sgd = tensorflow.keras.optimizers.SGD(lr=0.0008)\n",
    "vgg_model_transfer.compile(loss='categorical_crossentropy', \n",
    "                           optimizer=sgd, \n",
    "                           metrics=['accuracy'])\n",
    "\n",
    "\n",
    "history = vgg_model_transfer.fit(X_train_32, y_train_k, batch_size=batchSize, epochs=nEpochs, verbose=1, \n",
    "                                 validation_data=(X_test_32, y_test_k))\n"
   ]
  },
  {
   "cell_type": "code",
   "execution_count": 36,
   "metadata": {},
   "outputs": [],
   "source": [
    "y_predict_prob = vgg_model_transfer.predict(X_test_32)"
   ]
  },
  {
   "cell_type": "code",
   "execution_count": 37,
   "metadata": {},
   "outputs": [],
   "source": [
    "y_predict = y_predict_prob.argmax(axis=-1)"
   ]
  },
  {
   "cell_type": "code",
   "execution_count": 38,
   "metadata": {},
   "outputs": [
    {
     "name": "stdout",
     "output_type": "stream",
     "text": [
      "Confusion matrix: \n",
      "[[ 973    0    2    0    0    2    4    0    0    5]\n",
      " [   0 1105    0    0   13    0    0    6    0    1]\n",
      " [   0    2  912   12    8   22   13   13   10    7]\n",
      " [   0    0   18  971    1   15    4    5    4    2]\n",
      " [   0   12    4    1  923    4    6   14    2    9]\n",
      " [   2    0   18   52    5  793   11    8   10    3]\n",
      " [   3    3    8    3    9    7  947    0    0    2]\n",
      " [   0    4   12    4   18    1    0  994    2    7]\n",
      " [   2    0   23   30    4    4   10    4  882   16]\n",
      " [   5    4   11    4    6    2    5    5   11  941]]\n"
     ]
    }
   ],
   "source": [
    "from sklearn.metrics import confusion_matrix\n",
    "\n",
    "conf_mx = confusion_matrix(y_test, y_predict)\n",
    "print('Confusion matrix: \\n{0}'.format(conf_mx))"
   ]
  },
  {
   "cell_type": "code",
   "execution_count": 39,
   "metadata": {},
   "outputs": [],
   "source": [
    "def plot_confusion_matrix(matrix):\n",
    "    \"\"\"If you prefer color and a colorbar\"\"\"\n",
    "    fig = plt.figure(figsize=(8,8))\n",
    "    ax = fig.add_subplot(111)\n",
    "    cax = ax.matshow(matrix)\n",
    "    fig.colorbar(cax)"
   ]
  },
  {
   "cell_type": "code",
   "execution_count": 40,
   "metadata": {},
   "outputs": [
    {
     "name": "stdout",
     "output_type": "stream",
     "text": [
      "Saving figure LeNet5_confusion_matrix_errors\n"
     ]
    },
    {
     "data": {
      "image/png": "[encoded data removed]",
      "text/plain": [
       "<Figure size 576x576 with 2 Axes>"
      ]
     },
     "metadata": {},
     "output_type": "display_data"
    }
   ],
   "source": [
    "row_sums = conf_mx.sum(axis=1, keepdims=True)\n",
    "norm_conf_mx = conf_mx / row_sums\n",
    "np.fill_diagonal(norm_conf_mx, 0)\n",
    "# plt.matshow(norm_conf_mx, cmap=plt.cm.gray)\n",
    "plot_confusion_matrix(norm_conf_mx)\n",
    "save_fig(\"LeNet5_confusion_matrix_errors\", tight_layout=False)\n",
    "plt.show()"
   ]
  },
  {
   "cell_type": "markdown",
   "metadata": {},
   "source": [
    "# Training History Visualization "
   ]
  },
  {
   "cell_type": "markdown",
   "metadata": {},
   "source": [
    "**Accuracy**\n",
    "Source: Keras manual"
   ]
  },
  {
   "cell_type": "code",
   "execution_count": 41,
   "metadata": {},
   "outputs": [
    {
     "data": {
      "image/png": "[encoded data removed]",
      "text/plain": [
       "<Figure size 432x288 with 1 Axes>"
      ]
     },
     "metadata": {},
     "output_type": "display_data"
    }
   ],
   "source": [
    "plt.plot(history.history['acc'])\n",
    "plt.plot(history.history['val_acc'])\n",
    "plt.title('Model Accuracy')\n",
    "plt.ylabel('Accuracy')\n",
    "plt.xlabel('Epoch')\n",
    "plt.legend(['train', 'test'], loc='upper left')\n",
    "plt.show()\n",
    "\n"
   ]
  },
  {
   "cell_type": "markdown",
   "metadata": {},
   "source": [
    "**Loss**\n",
    "Source: Keras manual"
   ]
  },
  {
   "cell_type": "code",
   "execution_count": 42,
   "metadata": {},
   "outputs": [
    {
     "data": {
      "image/png": "[encoded data removed]",
      "text/plain": [
       "<Figure size 432x288 with 1 Axes>"
      ]
     },
     "metadata": {},
     "output_type": "display_data"
    }
   ],
   "source": [
    "plt.plot(history.history['loss'])\n",
    "plt.plot(history.history['val_loss'])\n",
    "plt.title('Model loss')\n",
    "plt.ylabel('Loss')\n",
    "plt.xlabel('Epoch')\n",
    "plt.legend(['train', 'test'], loc='upper left')\n",
    "plt.show()\n",
    "\n"
   ]
  },
  {
   "cell_type": "code",
   "execution_count": null,
   "metadata": {},
   "outputs": [],
   "source": []
  }
 ],
 "metadata": {
  "kernelspec": {
   "display_name": "Python 3",
   "language": "python",
   "name": "python3"
  },
  "language_info": {
   "codemirror_mode": {
    "name": "ipython",
    "version": 3
   },
   "file_extension": ".py",
   "mimetype": "text/x-python",
   "name": "python",
   "nbconvert_exporter": "python",
   "pygments_lexer": "ipython3",
   "version": "3.6.4"
  },
  "nav_menu": {},
  "toc": {
   "navigate_menu": true,
   "number_sections": true,
   "sideBar": true,
   "threshold": 6,
   "toc_cell": false,
   "toc_section_display": "block",
   "toc_window_display": false
  }
 },
 "nbformat": 4,
 "nbformat_minor": 1
}
