{
 "cells": [
  {
   "cell_type": "markdown",
   "metadata": {},
   "source": [
    "**Hello World Example**\n",
    "\n",
    "_This notebook is partly based on Chapter 3 of Aurelien Geron: Hand-on Machine Learning with Scikit-learn & Tensorflow._"
   ]
  },
  {
   "cell_type": "markdown",
   "metadata": {},
   "source": [
    "# Setup"
   ]
  },
  {
   "cell_type": "markdown",
   "metadata": {},
   "source": [
    "First, let's make sure this notebook works well in both python 2 and 3, import a few common modules, ensure MatplotLib plots figures inline and prepare a function to save the figures:"
   ]
  },
  {
   "cell_type": "code",
   "execution_count": 1,
   "metadata": {},
   "outputs": [],
   "source": [
    "# To support both python 2 and python 3\n",
    "from __future__ import division, print_function, unicode_literals\n",
    "\n",
    "# Common imports\n",
    "import numpy as np\n",
    "import os\n",
    "\n",
    "# to make this notebook's output stable across runs\n",
    "def reset_graph(seed=42):\n",
    "    tf.reset_default_graph()\n",
    "    tf.set_random_seed(seed)\n",
    "    np.random.seed(seed)\n",
    "\n",
    "# To plot pretty figures\n",
    "%matplotlib inline\n",
    "import matplotlib\n",
    "import matplotlib.pyplot as plt\n",
    "plt.rcParams['axes.labelsize'] = 14\n",
    "plt.rcParams['xtick.labelsize'] = 12\n",
    "plt.rcParams['ytick.labelsize'] = 12\n",
    "\n",
    "# Where to save the figures\n",
    "PROJECT_ROOT_DIR = \".\"\n",
    "NB_ID = \"CNN_MNIST\"\n",
    "\n",
    "# create the directory if it does not exist\n",
    "os.makedirs(os.path.join(PROJECT_ROOT_DIR, \"images\", NB_ID), exist_ok = True)\n",
    "        \n",
    "def save_fig(fig_id, tight_layout=True):\n",
    "    path = os.path.join(PROJECT_ROOT_DIR, \"images\", NB_ID, fig_id + \".png\")\n",
    "    print(\"Saving figure\", fig_id)\n",
    "    if tight_layout:\n",
    "        plt.tight_layout()\n",
    "    plt.savefig(path, format='png', dpi=300)"
   ]
  },
  {
   "cell_type": "markdown",
   "metadata": {},
   "source": [
    "A couple utility functions to plot grayscale and RGB images:"
   ]
  },
  {
   "cell_type": "code",
   "execution_count": 2,
   "metadata": {},
   "outputs": [],
   "source": [
    "def plot_image(image):\n",
    "    plt.imshow(image, cmap=\"gray\", interpolation=\"nearest\")\n",
    "    plt.axis(\"off\")\n",
    "\n",
    "def plot_color_image(image):\n",
    "    plt.imshow(image.astype(np.uint8),interpolation=\"nearest\")\n",
    "    plt.axis(\"off\")"
   ]
  },
  {
   "cell_type": "markdown",
   "metadata": {},
   "source": [
    "# Import the Keras API from Tensorflow"
   ]
  },
  {
   "cell_type": "code",
   "execution_count": 3,
   "metadata": {},
   "outputs": [
    {
     "name": "stderr",
     "output_type": "stream",
     "text": [
      "D:\\Anaconda3\\envs\\tensorflow\\lib\\site-packages\\h5py\\__init__.py:36: FutureWarning: Conversion of the second argument of issubdtype from `float` to `np.floating` is deprecated. In future, it will be treated as `np.float64 == np.dtype(float).type`.\n",
      "  from ._conv import register_converters as _register_converters\n"
     ]
    }
   ],
   "source": [
    "import tensorflow as tf\n",
    "import tensorflow.keras\n",
    "from tensorflow.keras.models import Sequential\n",
    "from tensorflow.keras.layers import Dense, Flatten, Conv2D, MaxPooling2D\n",
    "# from tensorflow.keras import backend as K"
   ]
  },
  {
   "cell_type": "markdown",
   "metadata": {},
   "source": [
    "# MNIST\n",
    "\n",
    "MNIST is the hello world example of machine learning. scikit-learn can load the data directly from http://mldata.org. "
   ]
  },
  {
   "cell_type": "code",
   "execution_count": 4,
   "metadata": {
    "scrolled": true
   },
   "outputs": [
    {
     "name": "stdout",
     "output_type": "stream",
     "text": [
      "Data size: 70000 x 784 and label size 70000\n",
      "The images are of size: 28.0 x 28.0\n",
      "The images are of size: 28.0 x 28.0\n"
     ]
    },
    {
     "name": "stderr",
     "output_type": "stream",
     "text": [
      "D:\\Anaconda3\\envs\\tensorflow\\lib\\site-packages\\sklearn\\utils\\deprecation.py:77: DeprecationWarning: Function fetch_mldata is deprecated; fetch_mldata was deprecated in version 0.20 and will be removed in version 0.22\n",
      "  warnings.warn(msg, category=DeprecationWarning)\n",
      "D:\\Anaconda3\\envs\\tensorflow\\lib\\site-packages\\sklearn\\utils\\deprecation.py:77: DeprecationWarning: Function mldata_filename is deprecated; mldata_filename was deprecated in version 0.20 and will be removed in version 0.22\n",
      "  warnings.warn(msg, category=DeprecationWarning)\n"
     ]
    }
   ],
   "source": [
    "from sklearn.datasets import fetch_mldata\n",
    "import math\n",
    "\n",
    "mnist = fetch_mldata('MNIST original')\n",
    "\n",
    "# Use the notion of y=f(X)\n",
    "X, y = mnist[\"data\"], mnist[\"target\"]\n",
    "print('Data size: {0} x {1} and label size {2}'.format(X.shape[0],X.shape[1],y.shape[0]))\n",
    "print('The images are of size: {0} x {0}'.format(math.sqrt(X.shape[1])))\n",
    "print('The images are of size: {0} x {0}'.format(math.sqrt(X.shape[1])))"
   ]
  },
  {
   "cell_type": "markdown",
   "metadata": {},
   "source": [
    "# Test and Training Data\n",
    "Let's split into training images and test images."
   ]
  },
  {
   "cell_type": "code",
   "execution_count": 5,
   "metadata": {},
   "outputs": [
    {
     "name": "stdout",
     "output_type": "stream",
     "text": [
      "Matrix shape X:  (60000, 28, 28, 1)\n",
      "60000 samples for training\n",
      "10000 samples for training\n"
     ]
    }
   ],
   "source": [
    "from sklearn.model_selection import train_test_split\n",
    "\n",
    "X_train, X_test, y_train, y_test = train_test_split(X, y, test_size=1.0/7, stratify=y, random_state=42)\n",
    "\n",
    "# shuffle_index = np.random.permutation(70000)\n",
    "# reshuffle the data and use 60000 samples as training and 10000 as test\n",
    "# X_train, X_test, y_train, y_test = X[shuffle_index[:60000],:], X[shuffle_index[60000:],:], y[shuffle_index[:60000]], y[shuffle_index[60000:]]\n",
    "\n",
    "# reshape into images\n",
    "X_train = X_train.reshape(X_train.shape[0],28,28,1)\n",
    "X_test = X_test.reshape(X_test.shape[0],28,28,1)\n",
    "\n",
    "print('Matrix shape X: ', X_train.shape)\n",
    "print('{0} samples for training'.format(X_train.shape[0]))\n",
    "print('{0} samples for training'.format(X_test.shape[0]))"
   ]
  },
  {
   "cell_type": "markdown",
   "metadata": {},
   "source": [
    "Plot an image as sanity check."
   ]
  },
  {
   "cell_type": "code",
   "execution_count": 6,
   "metadata": {},
   "outputs": [
    {
     "name": "stdout",
     "output_type": "stream",
     "text": [
      "Number:  7.0\n"
     ]
    },
    {
     "data": {
      "image/png": "[encoded data removed]",
      "text/plain": [
       "<Figure size 432x288 with 1 Axes>"
      ]
     },
     "metadata": {},
     "output_type": "display_data"
    }
   ],
   "source": [
    "plot_image(X_train[15000,:,:,0])\n",
    "print('Number: ', y_train[15000])"
   ]
  },
  {
   "cell_type": "markdown",
   "metadata": {},
   "source": [
    "# LeNet-5\n",
    "Build a LeNet-5 model in Keras. For LeNet-5 the simple sequential model is sufficient (it is only a sequence of layers without branching). LeNet starts actually with a $32 \\times 32 $ input while in sklearn, we have $28 \\times 28$. We are also going to use Relu instead of the sigmoid activation function. "
   ]
  },
  {
   "cell_type": "code",
   "execution_count": 7,
   "metadata": {},
   "outputs": [],
   "source": [
    "model = Sequential()\n",
    "model.add(Conv2D(6, kernel_size=(5, 5), activation='relu', padding='same', input_shape=(28,28,1)))\n",
    "model.add(MaxPooling2D(pool_size=(2, 2)))\n",
    "model.add(Conv2D(16, (5, 5), activation='relu', padding='valid'))\n",
    "model.add(MaxPooling2D(pool_size=(2, 2)))\n",
    "model.add(Flatten())\n",
    "model.add(Dense(120, activation='relu'))\n",
    "model.add(Dense(84, activation='relu'))\n",
    "model.add(Dense(10, activation='softmax'))\n",
    "\n",
    "sgd = tensorflow.keras.optimizers.SGD(lr=0.0008)\n",
    "model.compile(loss='categorical_crossentropy',\n",
    "              optimizer=sgd,\n",
    "              metrics=['accuracy'])\n"
   ]
  },
  {
   "cell_type": "code",
   "execution_count": 8,
   "metadata": {},
   "outputs": [
    {
     "name": "stdout",
     "output_type": "stream",
     "text": [
      "_________________________________________________________________\n",
      "Layer (type)                 Output Shape              Param #   \n",
      "=================================================================\n",
      "conv2d (Conv2D)              (None, 28, 28, 6)         156       \n",
      "_________________________________________________________________\n",
      "max_pooling2d (MaxPooling2D) (None, 14, 14, 6)         0         \n",
      "_________________________________________________________________\n",
      "conv2d_1 (Conv2D)            (None, 10, 10, 16)        2416      \n",
      "_________________________________________________________________\n",
      "max_pooling2d_1 (MaxPooling2 (None, 5, 5, 16)          0         \n",
      "_________________________________________________________________\n",
      "flatten (Flatten)            (None, 400)               0         \n",
      "_________________________________________________________________\n",
      "dense (Dense)                (None, 120)               48120     \n",
      "_________________________________________________________________\n",
      "dense_1 (Dense)              (None, 84)                10164     \n",
      "_________________________________________________________________\n",
      "dense_2 (Dense)              (None, 10)                850       \n",
      "=================================================================\n",
      "Total params: 61,706\n",
      "Trainable params: 61,706\n",
      "Non-trainable params: 0\n",
      "_________________________________________________________________\n",
      "None\n"
     ]
    }
   ],
   "source": [
    "print(model.summary())"
   ]
  },
  {
   "cell_type": "markdown",
   "metadata": {},
   "source": [
    "Turn the numbers into one-hot vectors"
   ]
  },
  {
   "cell_type": "code",
   "execution_count": 9,
   "metadata": {},
   "outputs": [],
   "source": [
    "nClasses = 10\n",
    "# Use Keras' handy utils\n",
    "y_train_k = tensorflow.keras.utils.to_categorical(y_train, num_classes=nClasses)\n",
    "y_test_k = tensorflow.keras.utils.to_categorical(y_test, num_classes=nClasses)\n"
   ]
  },
  {
   "cell_type": "markdown",
   "metadata": {},
   "source": [
    "See if it worked"
   ]
  },
  {
   "cell_type": "code",
   "execution_count": 10,
   "metadata": {},
   "outputs": [
    {
     "name": "stdout",
     "output_type": "stream",
     "text": [
      "6.0   [0. 0. 0. 0. 0. 0. 1. 0. 0. 0.]\n",
      "3.0   [0. 0. 0. 1. 0. 0. 0. 0. 0. 0.]\n",
      "1.0   [0. 1. 0. 0. 0. 0. 0. 0. 0. 0.]\n",
      "2.0   [0. 0. 1. 0. 0. 0. 0. 0. 0. 0.]\n",
      "9.0   [0. 0. 0. 0. 0. 0. 0. 0. 0. 1.]\n",
      "5.0   [0. 0. 0. 0. 0. 1. 0. 0. 0. 0.]\n",
      "1.0   [0. 1. 0. 0. 0. 0. 0. 0. 0. 0.]\n",
      "6.0   [0. 0. 0. 0. 0. 0. 1. 0. 0. 0.]\n",
      "2.0   [0. 0. 1. 0. 0. 0. 0. 0. 0. 0.]\n",
      "5.0   [0. 0. 0. 0. 0. 1. 0. 0. 0. 0.]\n"
     ]
    }
   ],
   "source": [
    "for i in range(0,200,20):\n",
    "    print(y_train[i], \" \", y_train_k[i,:])\n"
   ]
  },
  {
   "cell_type": "markdown",
   "metadata": {},
   "source": [
    "# MNIST Training"
   ]
  },
  {
   "cell_type": "code",
   "execution_count": 11,
   "metadata": {
    "scrolled": true
   },
   "outputs": [
    {
     "name": "stdout",
     "output_type": "stream",
     "text": [
      "Train on 60000 samples, validate on 10000 samples\n",
      "Epoch 1/32\n",
      "60000/60000 [==============================] - 5s 76us/step - loss: 1.8833 - acc: 0.6856 - val_loss: 0.4883 - val_acc: 0.8542\n",
      "Epoch 2/32\n",
      "60000/60000 [==============================] - 2s 29us/step - loss: 0.3787 - acc: 0.8881 - val_loss: 0.3335 - val_acc: 0.9001\n",
      "Epoch 3/32\n",
      "60000/60000 [==============================] - 2s 29us/step - loss: 0.2740 - acc: 0.9194 - val_loss: 0.2588 - val_acc: 0.9212\n",
      "Epoch 4/32\n",
      "60000/60000 [==============================] - 2s 30us/step - loss: 0.2245 - acc: 0.9338 - val_loss: 0.2158 - val_acc: 0.9327\n",
      "Epoch 5/32\n",
      "60000/60000 [==============================] - 2s 29us/step - loss: 0.1930 - acc: 0.9419 - val_loss: 0.1867 - val_acc: 0.9430\n",
      "Epoch 6/32\n",
      "60000/60000 [==============================] - 2s 30us/step - loss: 0.1710 - acc: 0.9489 - val_loss: 0.1861 - val_acc: 0.9433\n",
      "Epoch 7/32\n",
      "60000/60000 [==============================] - 2s 30us/step - loss: 0.1552 - acc: 0.9538 - val_loss: 0.1616 - val_acc: 0.9504\n",
      "Epoch 8/32\n",
      "60000/60000 [==============================] - 2s 29us/step - loss: 0.1419 - acc: 0.9573 - val_loss: 0.1517 - val_acc: 0.9520\n",
      "Epoch 9/32\n",
      "60000/60000 [==============================] - 2s 30us/step - loss: 0.1317 - acc: 0.9610 - val_loss: 0.1387 - val_acc: 0.9569\n",
      "Epoch 10/32\n",
      "60000/60000 [==============================] - 2s 29us/step - loss: 0.1230 - acc: 0.9630 - val_loss: 0.1350 - val_acc: 0.9572\n",
      "Epoch 11/32\n",
      "60000/60000 [==============================] - 2s 30us/step - loss: 0.1156 - acc: 0.9653 - val_loss: 0.1255 - val_acc: 0.9600\n",
      "Epoch 12/32\n",
      "60000/60000 [==============================] - 2s 30us/step - loss: 0.1096 - acc: 0.9670 - val_loss: 0.1225 - val_acc: 0.9619\n",
      "Epoch 13/32\n",
      "60000/60000 [==============================] - 2s 30us/step - loss: 0.1038 - acc: 0.9689 - val_loss: 0.1170 - val_acc: 0.9660\n",
      "Epoch 14/32\n",
      "60000/60000 [==============================] - 2s 30us/step - loss: 0.0988 - acc: 0.9704 - val_loss: 0.1149 - val_acc: 0.9652\n",
      "Epoch 15/32\n",
      "60000/60000 [==============================] - 2s 30us/step - loss: 0.0948 - acc: 0.9716 - val_loss: 0.1078 - val_acc: 0.9679\n",
      "Epoch 16/32\n",
      "60000/60000 [==============================] - 2s 30us/step - loss: 0.0907 - acc: 0.9727 - val_loss: 0.1128 - val_acc: 0.9661\n",
      "Epoch 17/32\n",
      "60000/60000 [==============================] - 2s 30us/step - loss: 0.0874 - acc: 0.9733 - val_loss: 0.1065 - val_acc: 0.9687\n",
      "Epoch 18/32\n",
      "60000/60000 [==============================] - 2s 30us/step - loss: 0.0838 - acc: 0.9746 - val_loss: 0.1018 - val_acc: 0.9698\n",
      "Epoch 19/32\n",
      "60000/60000 [==============================] - 2s 30us/step - loss: 0.0807 - acc: 0.9754 - val_loss: 0.1009 - val_acc: 0.9697\n",
      "Epoch 20/32\n",
      "60000/60000 [==============================] - 2s 30us/step - loss: 0.0780 - acc: 0.9761 - val_loss: 0.0993 - val_acc: 0.9710\n",
      "Epoch 21/32\n",
      "60000/60000 [==============================] - 2s 30us/step - loss: 0.0754 - acc: 0.9772 - val_loss: 0.0953 - val_acc: 0.9725\n",
      "Epoch 22/32\n",
      "60000/60000 [==============================] - 2s 30us/step - loss: 0.0727 - acc: 0.9774 - val_loss: 0.0940 - val_acc: 0.9725\n",
      "Epoch 23/32\n",
      "60000/60000 [==============================] - 2s 30us/step - loss: 0.0711 - acc: 0.9780 - val_loss: 0.0916 - val_acc: 0.9730\n",
      "Epoch 24/32\n",
      "60000/60000 [==============================] - 2s 30us/step - loss: 0.0691 - acc: 0.9790 - val_loss: 0.0919 - val_acc: 0.9727\n",
      "Epoch 25/32\n",
      "60000/60000 [==============================] - 2s 29us/step - loss: 0.0673 - acc: 0.9794 - val_loss: 0.0896 - val_acc: 0.9740\n",
      "Epoch 26/32\n",
      "60000/60000 [==============================] - 2s 30us/step - loss: 0.0653 - acc: 0.9804 - val_loss: 0.0876 - val_acc: 0.9730\n",
      "Epoch 27/32\n",
      "60000/60000 [==============================] - 2s 31us/step - loss: 0.0632 - acc: 0.9804 - val_loss: 0.0886 - val_acc: 0.9744\n",
      "Epoch 28/32\n",
      "60000/60000 [==============================] - 2s 32us/step - loss: 0.0618 - acc: 0.9812 - val_loss: 0.0888 - val_acc: 0.9729\n",
      "Epoch 29/32\n",
      "60000/60000 [==============================] - 2s 32us/step - loss: 0.0602 - acc: 0.9818 - val_loss: 0.0850 - val_acc: 0.9740\n",
      "Epoch 30/32\n",
      "60000/60000 [==============================] - 2s 32us/step - loss: 0.0592 - acc: 0.9823 - val_loss: 0.0869 - val_acc: 0.9746\n",
      "Epoch 31/32\n",
      "60000/60000 [==============================] - 2s 35us/step - loss: 0.0578 - acc: 0.9825 - val_loss: 0.0819 - val_acc: 0.9765\n",
      "Epoch 32/32\n",
      "60000/60000 [==============================] - 2s 36us/step - loss: 0.0559 - acc: 0.9832 - val_loss: 0.0830 - val_acc: 0.97580558 - acc: \n"
     ]
    }
   ],
   "source": [
    "batchSize = 128\n",
    "nEpochs = 32\n",
    "\n",
    "history = model.fit(X_train, y_train_k, batch_size=batchSize, epochs=nEpochs, verbose=1, \n",
    "                    validation_data=(X_test, y_test_k))\n"
   ]
  },
  {
   "cell_type": "code",
   "execution_count": 12,
   "metadata": {},
   "outputs": [],
   "source": [
    "y_predict = model.predict_classes(X_test)"
   ]
  },
  {
   "cell_type": "code",
   "execution_count": 13,
   "metadata": {},
   "outputs": [
    {
     "name": "stdout",
     "output_type": "stream",
     "text": [
      "Confusion matrix: \n",
      "[[ 976    1    3    0    0    0    2    0    4    0]\n",
      " [   0 1115    3    1    3    1    0    1    1    0]\n",
      " [   2    4  965    7    2    3    0    7    8    1]\n",
      " [   1    2    8  980    0    9    1    9    8    2]\n",
      " [   0    2    1    1  944    1    3    2    1   20]\n",
      " [   1    1    0    3    1  884    4    1    6    1]\n",
      " [   4    0    0    0    3    3  970    0    2    0]\n",
      " [   1    2    7    3    0    0    0 1023    0    6]\n",
      " [   4    2    2    9    1    2    4    1  946    4]\n",
      " [   1    4    0    2    9    7    0   11    5  955]]\n"
     ]
    }
   ],
   "source": [
    "from sklearn.metrics import confusion_matrix\n",
    "\n",
    "conf_mx = confusion_matrix(y_test, y_predict)\n",
    "print('Confusion matrix: \\n{0}'.format(conf_mx))"
   ]
  },
  {
   "cell_type": "code",
   "execution_count": 14,
   "metadata": {},
   "outputs": [],
   "source": [
    "def plot_confusion_matrix(matrix):\n",
    "    \"\"\"If you prefer color and a colorbar\"\"\"\n",
    "    fig = plt.figure(figsize=(8,8))\n",
    "    ax = fig.add_subplot(111)\n",
    "    cax = ax.matshow(matrix)\n",
    "    fig.colorbar(cax)"
   ]
  },
  {
   "cell_type": "code",
   "execution_count": 15,
   "metadata": {},
   "outputs": [
    {
     "name": "stdout",
     "output_type": "stream",
     "text": [
      "Saving figure LeNet5_confusion_matrix_errors\n"
     ]
    },
    {
     "data": {
      "image/png": "[encoded data removed]",
      "text/plain": [
       "<Figure size 576x576 with 2 Axes>"
      ]
     },
     "metadata": {},
     "output_type": "display_data"
    }
   ],
   "source": [
    "row_sums = conf_mx.sum(axis=1, keepdims=True)\n",
    "norm_conf_mx = conf_mx / row_sums\n",
    "np.fill_diagonal(norm_conf_mx, 0)\n",
    "# plt.matshow(norm_conf_mx, cmap=plt.cm.gray)\n",
    "plot_confusion_matrix(norm_conf_mx)\n",
    "save_fig(\"LeNet5_confusion_matrix_errors\", tight_layout=False)\n",
    "plt.show()"
   ]
  },
  {
   "cell_type": "markdown",
   "metadata": {},
   "source": [
    "# Training History Visualization "
   ]
  },
  {
   "cell_type": "markdown",
   "metadata": {},
   "source": [
    "**Accuracy**\n",
    "Source: Keras manual"
   ]
  },
  {
   "cell_type": "code",
   "execution_count": 16,
   "metadata": {},
   "outputs": [
    {
     "data": {
      "image/png": "[encoded data removed]",
      "text/plain": [
       "<Figure size 432x288 with 1 Axes>"
      ]
     },
     "metadata": {},
     "output_type": "display_data"
    }
   ],
   "source": [
    "plt.plot(history.history['acc'])\n",
    "plt.plot(history.history['val_acc'])\n",
    "plt.title('Model Accuracy')\n",
    "plt.ylabel('Accuracy')\n",
    "plt.xlabel('Epoch')\n",
    "plt.legend(['train', 'test'], loc='upper left')\n",
    "plt.show()\n",
    "\n"
   ]
  },
  {
   "cell_type": "markdown",
   "metadata": {},
   "source": [
    "**Loss**\n",
    "Source: Keras manual"
   ]
  },
  {
   "cell_type": "code",
   "execution_count": 17,
   "metadata": {},
   "outputs": [
    {
     "data": {
      "image/png": "[encoded data removed]",
      "text/plain": [
       "<Figure size 432x288 with 1 Axes>"
      ]
     },
     "metadata": {},
     "output_type": "display_data"
    }
   ],
   "source": [
    "plt.plot(history.history['loss'])\n",
    "plt.plot(history.history['val_loss'])\n",
    "plt.title('Model loss')\n",
    "plt.ylabel('Loss')\n",
    "plt.xlabel('Epoch')\n",
    "plt.legend(['train', 'test'], loc='upper left')\n",
    "plt.show()\n",
    "\n"
   ]
  },
  {
   "cell_type": "code",
   "execution_count": null,
   "metadata": {},
   "outputs": [],
   "source": []
  }
 ],
 "metadata": {
  "kernelspec": {
   "display_name": "Python 3",
   "language": "python",
   "name": "python3"
  },
  "language_info": {
   "codemirror_mode": {
    "name": "ipython",
    "version": 3
   },
   "file_extension": ".py",
   "mimetype": "text/x-python",
   "name": "python",
   "nbconvert_exporter": "python",
   "pygments_lexer": "ipython3",
   "version": "3.6.4"
  },
  "nav_menu": {},
  "toc": {
   "navigate_menu": true,
   "number_sections": true,
   "sideBar": true,
   "threshold": 6,
   "toc_cell": false,
   "toc_section_display": "block",
   "toc_window_display": false
  }
 },
 "nbformat": 4,
 "nbformat_minor": 1
}
